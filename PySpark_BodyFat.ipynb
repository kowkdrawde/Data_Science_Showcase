{
 "cells": [
  {
   "cell_type": "markdown",
   "id": "67d5a471",
   "metadata": {},
   "source": [
    "# Machine Learning using Pyspark\n",
    "This notebook demonstrates machine learning using PySpark\n",
    "<p id='content'></p> \n",
    "\n",
    "## Content\n",
    "\n",
    "<ol>\n",
    "    <li> <a href='#s1'> Dataset </a> </li>\n",
    "    <li> <a href='#s2'> Interest of Study </a> </li>\n",
    "    <li> <a href='#s3'> Data Schema </a> </li>\n",
    "    <li> <a href='#s4'> Exploratory Data Analysis </a> </li>\n",
    "    <li> <a href='#s5'> Data Wranggling and Feature Selection </a> </li>\n",
    "    <li> <a href='#s6'> Modelling </a> </li>\n",
    "    <li> <a href='#s7'> Model Selection, Diagnostics and Summary </a> </li>\n",
    "    <li> <a href='#s8'> Model Evaluation </a> </li>\n",
    "    <li> <a href='#s9'> Interpretation and Discussion </a> </li>\n",
    "    <li> <a href='#s10'> A Heuristic Application </a> </li>\n",
    "</ol>"
   ]
  },
  {
   "cell_type": "markdown",
   "id": "29da3c5f",
   "metadata": {},
   "source": [
    "<p id='s1'></p>\n",
    "\n",
    "## 1. Dataset  \n",
    "The Kaggle **Body Fat dataset** is selected for the study (www.kaggle.com/datasets/fedesoriano/body-fat-prediction-dataset). The dataset is first downloaded from Kaggle, then uploaded to the Hadoop FS directory.\n",
    "\n",
    "According to the documentation, the dataset collects measurements of 252 men including Age, Weight in lb, Height in inches, and circumferences of 10 different body parts in cm including Neck, Chest, Abdomen, Hip, Thigh, Knee, Ankle, Biceps (extended), Forearm and Wrist.  Denote these 13 features as biomarkers.  The BodyFat, presented as percentages, is the response of interest.  It is *calculated* from body density in g/cm$^3$ determined by underwater weighing.  Both BodyFat and Density are recorded in the dataset.  All the features and response are continuous.  The dataset is of shape  252 x 15 (13 biomarkers+Density+BodyFat)."
   ]
  },
  {
   "cell_type": "markdown",
   "id": "bc2cc5c7",
   "metadata": {},
   "source": [
    "<a href='#content'>Top</a>\n",
    "<p id='s2'></p>\n",
    "\n",
    "## 2. Interest of Study \n",
    "**Regression study** on the significance of the 13 biomarkers in association with the body fat in men.  This may help estimate body fat of men when underwater weighing is not handy.\n",
    "\n",
    "Common libraries for data science including PySpark are loaded.  A spark session is created."
   ]
  },
  {
   "cell_type": "code",
   "execution_count": 1,
   "id": "1f02ea2f",
   "metadata": {},
   "outputs": [],
   "source": [
    "import pyspark\n",
    "import numpy as np; import pandas as pd\n",
    "import matplotlib.pyplot as plt\n",
    "\n",
    "# load a couple of pyspark libraries\n",
    "from pyspark.ml.feature import VectorAssembler as VA\n",
    "from pyspark.ml.feature import StandardScaler as SS\n",
    "from pyspark.ml.regression import LinearRegression as LR\n",
    "from pyspark.ml.evaluation import RegressionEvaluator as RE"
   ]
  },
  {
   "cell_type": "code",
   "execution_count": 2,
   "id": "6473730d",
   "metadata": {},
   "outputs": [
    {
     "name": "stderr",
     "output_type": "stream",
     "text": [
      "Setting default log level to \"WARN\".\n",
      "To adjust logging level use sc.setLogLevel(newLevel). For SparkR, use setLogLevel(newLevel).\n"
     ]
    },
    {
     "name": "stdout",
     "output_type": "stream",
     "text": [
      "23/09/27 07:00:24 WARN NativeCodeLoader: Unable to load native-hadoop library for your platform... using builtin-java classes where applicable\n",
      "23/09/27 07:00:26 WARN Utils: Service 'SparkUI' could not bind on port 4040. Attempting port 4041.\n",
      "23/09/27 07:00:26 WARN Utils: Service 'SparkUI' could not bind on port 4041. Attempting port 4042.\n",
      "23/09/27 07:00:26 WARN Utils: Service 'SparkUI' could not bind on port 4042. Attempting port 4043.\n",
      "23/09/27 07:00:26 WARN Utils: Service 'SparkUI' could not bind on port 4043. Attempting port 4044.\n"
     ]
    }
   ],
   "source": [
    "sc = pyspark.SparkContext(appName='BodyFat')\n",
    "spark = pyspark.sql.SparkSession.builder.appName('BodyFat').getOrCreate()"
   ]
  },
  {
   "cell_type": "markdown",
   "id": "1bda42ff",
   "metadata": {},
   "source": [
    "<a href='#content'>Top</a>\n",
    "<p id='s3'></p>\n",
    "\n",
    "## 3. Data Schema\n",
    "As a start, the schema of the data is checked to get some look and feel."
   ]
  },
  {
   "cell_type": "code",
   "execution_count": 3,
   "id": "20c1ea48",
   "metadata": {},
   "outputs": [
    {
     "name": "stderr",
     "output_type": "stream",
     "text": [
      "                                                                                \r"
     ]
    },
    {
     "data": {
      "text/plain": [
       "252"
      ]
     },
     "execution_count": 3,
     "metadata": {},
     "output_type": "execute_result"
    }
   ],
   "source": [
    "#!hadoop fs -put bodyfat.csv <directory>\n",
    "df = spark.read.csv('<directory>/bodyfat.csv', inferSchema=True, header=True)\n",
    "df.count()"
   ]
  },
  {
   "cell_type": "code",
   "execution_count": 4,
   "id": "a3d21334",
   "metadata": {},
   "outputs": [
    {
     "name": "stdout",
     "output_type": "stream",
     "text": [
      "root\n",
      " |-- Density: double (nullable = true)\n",
      " |-- BodyFat: double (nullable = true)\n",
      " |-- Age: integer (nullable = true)\n",
      " |-- Weight: double (nullable = true)\n",
      " |-- Height: double (nullable = true)\n",
      " |-- Neck: double (nullable = true)\n",
      " |-- Chest: double (nullable = true)\n",
      " |-- Abdomen: double (nullable = true)\n",
      " |-- Hip: double (nullable = true)\n",
      " |-- Thigh: double (nullable = true)\n",
      " |-- Knee: double (nullable = true)\n",
      " |-- Ankle: double (nullable = true)\n",
      " |-- Biceps: double (nullable = true)\n",
      " |-- Forearm: double (nullable = true)\n",
      " |-- Wrist: double (nullable = true)\n",
      "\n"
     ]
    }
   ],
   "source": [
    "df.printSchema()"
   ]
  },
  {
   "cell_type": "code",
   "execution_count": 5,
   "id": "8d530876",
   "metadata": {},
   "outputs": [
    {
     "name": "stdout",
     "output_type": "stream",
     "text": [
      "+-------+---+------+------+----+-----+-------+----+-----+----+-----+------+-------+-----+\n",
      "|BodyFat|Age|Weight|Height|Neck|Chest|Abdomen| Hip|Thigh|Knee|Ankle|Biceps|Forearm|Wrist|\n",
      "+-------+---+------+------+----+-----+-------+----+-----+----+-----+------+-------+-----+\n",
      "|   12.3| 23|154.25| 67.75|36.2| 93.1|   85.2|94.5| 59.0|37.3| 21.9|  32.0|   27.4| 17.1|\n",
      "|    6.1| 22|173.25| 72.25|38.5| 93.6|   83.0|98.7| 58.7|37.3| 23.4|  30.5|   28.9| 18.2|\n",
      "|   25.3| 22| 154.0| 66.25|34.0| 95.8|   87.9|99.2| 59.6|38.9| 24.0|  28.8|   25.2| 16.6|\n",
      "+-------+---+------+------+----+-----+-------+----+-----+----+-----+------+-------+-----+\n",
      "only showing top 3 rows\n",
      "\n"
     ]
    }
   ],
   "source": [
    "# drop density\n",
    "df = df.drop('Density')\n",
    "df.show(3)"
   ]
  },
  {
   "cell_type": "markdown",
   "id": "e895b745",
   "metadata": {},
   "source": [
    "<a href='#content'>Top</a>\n",
    "<p id='s4'></p>\n",
    "\n",
    "## 4. Exploratory Data Analysis\n",
    "The Density column is first dropped because it *derives* the response BodyFat. The dataset is checked with no missing values [4(a)] but may contain outliers.  For example, there are some doubtful records such as BodyFat being 0% and 0.7%, as well as Height being 29.5 inches [4(b)].  **Boxplot** is used to visualise outliers outside the interquartile ranges, say, two data points for Ankle circumference greater than 30cm and one data point for Weight greater than 300 lbs.  After **filtering out these 6 outliers**, the boxplot shows that the remaining 246 data points only have minor outliers which are considered fair for further analysis [4(c)]."
   ]
  },
  {
   "cell_type": "markdown",
   "id": "858a7ea0",
   "metadata": {},
   "source": [
    "### 4(a) Count NA values"
   ]
  },
  {
   "cell_type": "code",
   "execution_count": 6,
   "id": "99183d0c",
   "metadata": {},
   "outputs": [
    {
     "name": "stdout",
     "output_type": "stream",
     "text": [
      "NA values in the dataset: 0\n"
     ]
    }
   ],
   "source": [
    "na_count = sc.accumulator(0) # use spark accumulator\n",
    "cols = df.columns\n",
    "\n",
    "for col in cols:\n",
    "    na_count += df.filter(df[col].isNull()).count()\n",
    "print('NA values in the dataset:', na_count) # 0"
   ]
  },
  {
   "cell_type": "markdown",
   "id": "efb09417",
   "metadata": {},
   "source": [
    "### 4(b) Summary of dataset"
   ]
  },
  {
   "cell_type": "code",
   "execution_count": 7,
   "id": "e51d381f",
   "metadata": {},
   "outputs": [
    {
     "name": "stdout",
     "output_type": "stream",
     "text": [
      "+-------+--------+--------+--------+--------+--------+--------+--------+\n",
      "|summary| BodyFat|     Age|  Weight|  Height|    Neck|   Chest| Abdomen|\n",
      "+-------+--------+--------+--------+--------+--------+--------+--------+\n",
      "|  count|     252|     252|     252|     252|     252|     252|     252|\n",
      "|   mean|19.15...|44.88...|178.9...|70.14...|37.99...|100.8...|92.55...|\n",
      "| stddev|8.368...|12.60...|29.38...|3.662...|2.430...|8.430...|10.78...|\n",
      "|    min|     0.0|      22|   118.5|    29.5|    31.1|    79.3|    69.4|\n",
      "|    max|    47.5|      81|  363.15|   77.75|    51.2|   136.2|   148.1|\n",
      "+-------+--------+--------+--------+--------+--------+--------+--------+\n",
      "\n"
     ]
    }
   ],
   "source": [
    "df.describe(cols[:7]).show(truncate=8)"
   ]
  },
  {
   "cell_type": "code",
   "execution_count": 8,
   "id": "c73e79db",
   "metadata": {},
   "outputs": [
    {
     "name": "stdout",
     "output_type": "stream",
     "text": [
      "+-------+--------+--------+--------+--------+--------+--------+--------+\n",
      "|summary|     Hip|   Thigh|    Knee|   Ankle|  Biceps| Forearm|   Wrist|\n",
      "+-------+--------+--------+--------+--------+--------+--------+--------+\n",
      "|  count|     252|     252|     252|     252|     252|     252|     252|\n",
      "|   mean|99.90...|59.40...|38.59...|23.10...|32.27...|28.66...|18.22...|\n",
      "| stddev|7.164...|5.249...|2.411...|1.694...|3.021...|2.020...|0.933...|\n",
      "|    min|    85.0|    47.2|    33.0|    19.1|    24.8|    21.0|    15.8|\n",
      "|    max|   147.7|    87.3|    49.1|    33.9|    45.0|    34.9|    21.4|\n",
      "+-------+--------+--------+--------+--------+--------+--------+--------+\n",
      "\n"
     ]
    }
   ],
   "source": [
    "df.describe(cols[7:]).show(truncate=8)"
   ]
  },
  {
   "cell_type": "code",
   "execution_count": 9,
   "id": "9a114335",
   "metadata": {},
   "outputs": [
    {
     "data": {
      "text/plain": [
       "array([29.5 , 64.  , 64.  , 64.75, 65.  , 65.5 , 65.5 , 65.75, 65.75,\n",
       "       65.75, 65.75, 65.75, 65.75, 66.  , 66.  ])"
      ]
     },
     "execution_count": 9,
     "metadata": {},
     "output_type": "execute_result"
    }
   ],
   "source": [
    "# Ascending Height to check irregularities\n",
    "# take 15 corresponds to lowest 15/252 ~ 6% of data\n",
    "np.array(df.select('Height').sort('Height').take(15)).flatten()"
   ]
  },
  {
   "cell_type": "code",
   "execution_count": 10,
   "id": "585ec605",
   "metadata": {},
   "outputs": [
    {
     "data": {
      "text/plain": [
       "array([0. , 0.7, 3. , 3.7, 3.7, 3.9, 4. , 4.1, 5.2, 5.3, 5.6, 5.7, 6. ,\n",
       "       6.1, 6.3])"
      ]
     },
     "execution_count": 10,
     "metadata": {},
     "output_type": "execute_result"
    }
   ],
   "source": [
    "# Ascending BodyFat to check irregularities\n",
    "np.array(df.select('BodyFat').sort('BodyFat').take(15)).flatten()"
   ]
  },
  {
   "cell_type": "markdown",
   "id": "f5edaf23",
   "metadata": {},
   "source": [
    "### 4(c) Boxplots to visualise outliers"
   ]
  },
  {
   "cell_type": "code",
   "execution_count": 11,
   "id": "f243ea43",
   "metadata": {},
   "outputs": [
    {
     "data": {
      "image/png": "[encoded data removed]",
      "text/plain": [
       "<Figure size 1080x360 with 4 Axes>"
      ]
     },
     "metadata": {
      "needs_background": "light"
     },
     "output_type": "display_data"
    }
   ],
   "source": [
    "# conversion to local pandas dataframe is for visualisation purpose only\n",
    "# it is manageable to use local storage for small dataset\n",
    "\n",
    "df_pd = df.toPandas()\n",
    "\n",
    "def outlier_boxplot(df_in, des): # a dataframe with description\n",
    "    df_in = df_in.copy()\n",
    "    fig, ax = plt.subplots(2,2, figsize=(15,5))\n",
    "\n",
    "    plt.suptitle(des + ', count= %d' %df_in.shape[0])\n",
    "    # BodyFat, Age and Height in similar range\n",
    "    ax[0][0].boxplot(df_in[[cols[0], cols[1], cols[3]]])\n",
    "    ax[0][0].set_xticklabels(['BodyFat (%)','Age', 'Height (inches)'])\n",
    "\n",
    "    # Weight\n",
    "    ax[0][1].boxplot(df_in[cols[2]])\n",
    "    ax[0][1].set_xticklabels(['Weight (lbs)'])\n",
    "\n",
    "    # Larger measurements Chest, Abdomen, Hip, Thigh\n",
    "    ax[1][0].boxplot(df_in[cols[5:9]])\n",
    "    ax[1][0].set_xticklabels(cols[5:9])\n",
    "    ax[1][0].set_ylabel('cm')\n",
    "\n",
    "    # Smaller measurements Neck, Knee, Ankle, Biceps, Forearm, Wrist\n",
    "    ax[1][1].boxplot(df_in[[cols[4]]+cols[9:]])\n",
    "    ax[1][1].set_xticklabels([cols[4]]+cols[9:]) #for single boxplot\n",
    "    ax[1][1].set_ylabel('cm')\n",
    "\n",
    "    plt.show()\n",
    "\n",
    "outlier_boxplot(df_pd,'before removing outliers')"
   ]
  },
  {
   "cell_type": "code",
   "execution_count": 12,
   "id": "30efa440",
   "metadata": {},
   "outputs": [
    {
     "data": {
      "image/png": "[encoded data removed]",
      "text/plain": [
       "<Figure size 1080x360 with 4 Axes>"
      ]
     },
     "metadata": {
      "needs_background": "light"
     },
     "output_type": "display_data"
    }
   ],
   "source": [
    "# filter outliers identified in previous analysis\n",
    "df_fil = df.filter((df['BodyFat'] > 0.7) & (df['Height'] > 50) \\\n",
    "                   & (df['Ankle'] < 30) & (df['Weight'] < 300))\n",
    "df_fil_pd = df_fil.toPandas()   \n",
    "outlier_boxplot(df_fil_pd, 'after removing outliers')"
   ]
  },
  {
   "cell_type": "markdown",
   "id": "719ed70b",
   "metadata": {},
   "source": [
    "### 4(d) Individual Plots\n",
    "Initial plots suggest *individually* each biomarker has positive association with BodyFat.  There is **no apparent non-linear dependence between the response and features**, the relationships are close to linear.  This supports non-linear transformations on the features e.g. powers or logs could be saved.  It must be emphasised that the biomarker does not necessarily have positive and/or significant association with BodyFat when modelled with other biomarkers."
   ]
  },
  {
   "cell_type": "code",
   "execution_count": 13,
   "id": "ade1e42a",
   "metadata": {
    "scrolled": false
   },
   "outputs": [
    {
     "data": {
      "image/png": "[encoded data removed]",
      "text/plain": [
       "<Figure size 1080x720 with 15 Axes>"
      ]
     },
     "metadata": {
      "needs_background": "light"
     },
     "output_type": "display_data"
    }
   ],
   "source": [
    "# plot of BodyFat against each biomarker\n",
    "fig, ax = plt.subplots(3,5, figsize=(15,10))\n",
    "ax = ax.flatten()\n",
    "\n",
    "for idx, col in enumerate(cols[1:]):\n",
    "    ax[idx].scatter(df_fil_pd[col], df_fil_pd['BodyFat'], s=2)\n",
    "    ax[idx].set_xlabel(col)\n",
    "    \n",
    "ax[13].axis('off'); ax[14].axis('off')\n",
    "plt.suptitle('BodyFat on Individual Biomarker')\n",
    "plt.show()"
   ]
  },
  {
   "cell_type": "markdown",
   "id": "634dd60e",
   "metadata": {},
   "source": [
    "### 4(e) Feature Correlations\n",
    "The **correlation matrix** indicates certain **strong correlations between features**, especially Weight has rather high correlation with most other features.  A more systematic analysis is performed in the Data Wranggling and Feature Selection section."
   ]
  },
  {
   "cell_type": "code",
   "execution_count": 14,
   "id": "a23fc195",
   "metadata": {},
   "outputs": [
    {
     "data": {
      "image/png": "[encoded data removed]",
      "text/plain": [
       "<Figure size 648x432 with 2 Axes>"
      ]
     },
     "metadata": {
      "needs_background": "light"
     },
     "output_type": "display_data"
    }
   ],
   "source": [
    "from pyspark.ml.stat import Correlation\n",
    "import seaborn as sns\n",
    "\n",
    "# compute correlation matrix and plot using seaborn's heatmap\n",
    "va = VA(inputCols=cols[1:], outputCol='features')\n",
    "df_fil_cor = va.transform(df_fil)\n",
    "corr_mtx = Correlation.corr(df_fil_cor, 'features', 'pearson').collect()[0][0]\n",
    "\n",
    "fig, ax = plt.subplots(figsize=(9,6))\n",
    "sns.heatmap(corr_mtx.toArray(), annot=True, cmap='Blues', \\\n",
    "            xticklabels=cols[1:], yticklabels=cols[1:])\n",
    "ax.tick_params(top=True, labeltop=True, bottom=False, labelbottom=False)\n",
    "plt.xticks(rotation='vertical')\n",
    "\n",
    "plt.show()"
   ]
  },
  {
   "cell_type": "markdown",
   "id": "97940fb6",
   "metadata": {},
   "source": [
    "<a href='#content'>Top</a>\n",
    "<p id='s5'></p>\n",
    "\n",
    "## 5. Data Wranggling and Feature Selection\n",
    "The aforesaid 6 outliers identified in EDA are removed from the dataset. A **train-test split** of 70:30 gives training/test data sizes 174 and 72 respectively."
   ]
  },
  {
   "cell_type": "code",
   "execution_count": 15,
   "id": "0938108a",
   "metadata": {},
   "outputs": [
    {
     "name": "stdout",
     "output_type": "stream",
     "text": [
      "train set count: 174 test set count: 72\n"
     ]
    }
   ],
   "source": [
    "# train-test split\n",
    "df_train, df_test = df_fil.randomSplit([0.7, 0.3], seed=0)\n",
    "print('train set count:', df_train.count(), \\\n",
    "      'test set count:', df_test.count())"
   ]
  },
  {
   "cell_type": "markdown",
   "id": "d2f32b77",
   "metadata": {},
   "source": [
    "### 5(a) Variance Inflation Factors (VIF)\n",
    "An analysis on the VIF is performed using the training set in order to avoid 'information leakage' from test data.  The VIF calculates how much a feature can be explained by others through linear regression.  A common threshold is 5 or 10 <a href=#ref1>[1]</a>.   The data has VIF for Weight is about 41.8, which far exceeds the threshold.  After removing Weight, there are no features whose VIF exceeds 10.\n",
    "\n",
    "<p id='ref1'></p>\n",
    "[1] Gareth James et al \"An Introduction to Statistical Learning with Applications in R (2nd Edition)\", Springer, 2nd Edition, Chapter 3.3.3.6"
   ]
  },
  {
   "cell_type": "code",
   "execution_count": 16,
   "id": "2d9972dc",
   "metadata": {
    "scrolled": false
   },
   "outputs": [],
   "source": [
    "# calculate VIF\n",
    "\n",
    "def calvif(vif_dict, feature_col):\n",
    "    # iterate over the features and perform LR \n",
    "    # on one feature against others\n",
    "    for col in feature_col:\n",
    "        fcol_ = feature_col.copy()\n",
    "        fcol_.remove(col)\n",
    "        va_ = VA(inputCols=fcol_, outputCol='features')\n",
    "        df_vif_ = va_.transform(df_train)\n",
    "        \n",
    "        # an arbitrary small regParam is set to skip the warning messages\n",
    "        # without affecting the regression results\n",
    "        lr_vif_ = LR(featuresCol='features', labelCol=col, regParam = 1e-12)\n",
    "        model_vif_ = lr_vif_.fit(df_vif_)\n",
    "        \n",
    "        # calculate VIF using 1/(1-R_col^2)\n",
    "        vif_dict[col] = 1/(1-model_vif_.summary.r2)\n",
    "\n",
    "# all features including Weight\n",
    "vif = {}\n",
    "feature_col = cols[1:].copy()\n",
    "calvif(vif, feature_col)\n",
    "\n",
    "# save result\n",
    "vif_pd = pd.DataFrame(vif.values(), index=vif.keys(), columns=['VIF'])\\\n",
    "  .sort_values('VIF', ascending=False).T"
   ]
  },
  {
   "cell_type": "code",
   "execution_count": 17,
   "id": "f222205a",
   "metadata": {},
   "outputs": [
    {
     "data": {
      "text/html": [
       "<div>\n",
       "<style scoped>\n",
       "    .dataframe tbody tr th:only-of-type {\n",
       "        vertical-align: middle;\n",
       "    }\n",
       "\n",
       "    .dataframe tbody tr th {\n",
       "        vertical-align: top;\n",
       "    }\n",
       "\n",
       "    .dataframe thead th {\n",
       "        text-align: right;\n",
       "    }\n",
       "</style>\n",
       "<table border=\"1\" class=\"dataframe\">\n",
       "  <thead>\n",
       "    <tr style=\"text-align: right;\">\n",
       "      <th></th>\n",
       "      <th>Weight</th>\n",
       "      <th>Hip</th>\n",
       "      <th>Abdomen</th>\n",
       "      <th>Chest</th>\n",
       "      <th>Thigh</th>\n",
       "      <th>Knee</th>\n",
       "      <th>Neck</th>\n",
       "    </tr>\n",
       "  </thead>\n",
       "  <tbody>\n",
       "    <tr>\n",
       "      <th>VIF</th>\n",
       "      <td>41.750859</td>\n",
       "      <td>11.814695</td>\n",
       "      <td>10.895483</td>\n",
       "      <td>9.087333</td>\n",
       "      <td>6.444677</td>\n",
       "      <td>4.280428</td>\n",
       "      <td>3.712001</td>\n",
       "    </tr>\n",
       "  </tbody>\n",
       "</table>\n",
       "</div>"
      ],
      "text/plain": [
       "        Weight        Hip    Abdomen     Chest     Thigh      Knee      Neck\n",
       "VIF  41.750859  11.814695  10.895483  9.087333  6.444677  4.280428  3.712001"
      ]
     },
     "execution_count": 17,
     "metadata": {},
     "output_type": "execute_result"
    }
   ],
   "source": [
    "vif_pd.iloc[:,0:7]"
   ]
  },
  {
   "cell_type": "code",
   "execution_count": 18,
   "id": "9962a974",
   "metadata": {},
   "outputs": [
    {
     "data": {
      "text/html": [
       "<div>\n",
       "<style scoped>\n",
       "    .dataframe tbody tr th:only-of-type {\n",
       "        vertical-align: middle;\n",
       "    }\n",
       "\n",
       "    .dataframe tbody tr th {\n",
       "        vertical-align: top;\n",
       "    }\n",
       "\n",
       "    .dataframe thead th {\n",
       "        text-align: right;\n",
       "    }\n",
       "</style>\n",
       "<table border=\"1\" class=\"dataframe\">\n",
       "  <thead>\n",
       "    <tr style=\"text-align: right;\">\n",
       "      <th></th>\n",
       "      <th>Height</th>\n",
       "      <th>Wrist</th>\n",
       "      <th>Biceps</th>\n",
       "      <th>Ankle</th>\n",
       "      <th>Forearm</th>\n",
       "      <th>Age</th>\n",
       "    </tr>\n",
       "  </thead>\n",
       "  <tbody>\n",
       "    <tr>\n",
       "      <th>VIF</th>\n",
       "      <td>3.355202</td>\n",
       "      <td>3.288581</td>\n",
       "      <td>3.080229</td>\n",
       "      <td>2.993099</td>\n",
       "      <td>2.322044</td>\n",
       "      <td>2.198885</td>\n",
       "    </tr>\n",
       "  </tbody>\n",
       "</table>\n",
       "</div>"
      ],
      "text/plain": [
       "       Height     Wrist    Biceps     Ankle   Forearm       Age\n",
       "VIF  3.355202  3.288581  3.080229  2.993099  2.322044  2.198885"
      ]
     },
     "execution_count": 18,
     "metadata": {},
     "output_type": "execute_result"
    }
   ],
   "source": [
    "vif_pd.iloc[:,7:]"
   ]
  },
  {
   "cell_type": "code",
   "execution_count": 19,
   "id": "e33acfdd",
   "metadata": {},
   "outputs": [],
   "source": [
    "# VIFs with Weight removed\n",
    "vif2 = {}\n",
    "feature_col = cols[1:].copy()\n",
    "feature_col.remove('Weight')\n",
    "calvif(vif2, feature_col)\n",
    "# save result\n",
    "vif_pd2 = pd.DataFrame(vif2.values(), index=vif2.keys(), columns=['VIF'])\\\n",
    "  .sort_values('VIF', ascending=False).T"
   ]
  },
  {
   "cell_type": "code",
   "execution_count": 20,
   "id": "1d206d52",
   "metadata": {},
   "outputs": [
    {
     "data": {
      "text/html": [
       "<div>\n",
       "<style scoped>\n",
       "    .dataframe tbody tr th:only-of-type {\n",
       "        vertical-align: middle;\n",
       "    }\n",
       "\n",
       "    .dataframe tbody tr th {\n",
       "        vertical-align: top;\n",
       "    }\n",
       "\n",
       "    .dataframe thead th {\n",
       "        text-align: right;\n",
       "    }\n",
       "</style>\n",
       "<table border=\"1\" class=\"dataframe\">\n",
       "  <thead>\n",
       "    <tr style=\"text-align: right;\">\n",
       "      <th></th>\n",
       "      <th>Hip</th>\n",
       "      <th>Abdomen</th>\n",
       "      <th>Chest</th>\n",
       "      <th>Thigh</th>\n",
       "      <th>Knee</th>\n",
       "      <th>Neck</th>\n",
       "      <th>Wrist</th>\n",
       "    </tr>\n",
       "  </thead>\n",
       "  <tbody>\n",
       "    <tr>\n",
       "      <th>VIF</th>\n",
       "      <td>9.740636</td>\n",
       "      <td>9.088349</td>\n",
       "      <td>6.771034</td>\n",
       "      <td>6.316341</td>\n",
       "      <td>4.21307</td>\n",
       "      <td>3.39414</td>\n",
       "      <td>3.163677</td>\n",
       "    </tr>\n",
       "  </tbody>\n",
       "</table>\n",
       "</div>"
      ],
      "text/plain": [
       "          Hip   Abdomen     Chest     Thigh     Knee     Neck     Wrist\n",
       "VIF  9.740636  9.088349  6.771034  6.316341  4.21307  3.39414  3.163677"
      ]
     },
     "execution_count": 20,
     "metadata": {},
     "output_type": "execute_result"
    }
   ],
   "source": [
    "vif_pd2.iloc[:,0:7]"
   ]
  },
  {
   "cell_type": "code",
   "execution_count": 21,
   "id": "3749e2c0",
   "metadata": {
    "scrolled": true
   },
   "outputs": [
    {
     "data": {
      "text/html": [
       "<div>\n",
       "<style scoped>\n",
       "    .dataframe tbody tr th:only-of-type {\n",
       "        vertical-align: middle;\n",
       "    }\n",
       "\n",
       "    .dataframe tbody tr th {\n",
       "        vertical-align: top;\n",
       "    }\n",
       "\n",
       "    .dataframe thead th {\n",
       "        text-align: right;\n",
       "    }\n",
       "</style>\n",
       "<table border=\"1\" class=\"dataframe\">\n",
       "  <thead>\n",
       "    <tr style=\"text-align: right;\">\n",
       "      <th></th>\n",
       "      <th>Biceps</th>\n",
       "      <th>Ankle</th>\n",
       "      <th>Forearm</th>\n",
       "      <th>Age</th>\n",
       "      <th>Height</th>\n",
       "    </tr>\n",
       "  </thead>\n",
       "  <tbody>\n",
       "    <tr>\n",
       "      <th>VIF</th>\n",
       "      <td>2.929988</td>\n",
       "      <td>2.886339</td>\n",
       "      <td>2.289553</td>\n",
       "      <td>2.069797</td>\n",
       "      <td>1.836834</td>\n",
       "    </tr>\n",
       "  </tbody>\n",
       "</table>\n",
       "</div>"
      ],
      "text/plain": [
       "       Biceps     Ankle   Forearm       Age    Height\n",
       "VIF  2.929988  2.886339  2.289553  2.069797  1.836834"
      ]
     },
     "execution_count": 21,
     "metadata": {},
     "output_type": "execute_result"
    }
   ],
   "source": [
    "vif_pd2.iloc[:,7:]"
   ]
  },
  {
   "cell_type": "markdown",
   "id": "1231ae11",
   "metadata": {},
   "source": [
    "### 5(b) Effect due to Feature Selection\n",
    "\n",
    "A simple linear regression model is used to estimate the effect.  The training error, meausred in adjusted R$^2$ score, slightly improves (reduces) with the (multi-)collinear feature Weight removed."
   ]
  },
  {
   "cell_type": "code",
   "execution_count": 22,
   "id": "292ace3b",
   "metadata": {},
   "outputs": [
    {
     "name": "stdout",
     "output_type": "stream",
     "text": [
      "Training error in adjusted R^2 score:\n"
     ]
    },
    {
     "data": {
      "text/plain": [
       "{'all features': 0.7483591387035834, 'Weight removed': 0.7498506622374421}"
      ]
     },
     "execution_count": 22,
     "metadata": {},
     "output_type": "execute_result"
    }
   ],
   "source": [
    "# Model comparision by adjusted R2 score\n",
    "def LR_train(feature_col):\n",
    "    va_ = VA(inputCols=feature_col, outputCol='features')\n",
    "    lr_ = LR(featuresCol='features', labelCol='BodyFat', regParam=1e-12)\n",
    "    df_ = va_.transform(df_train)\n",
    "    lr_model_ = lr_.fit(df_)\n",
    "    return lr_model_.summary.r2adj\n",
    "\n",
    "lr_train_err = {}\n",
    "\n",
    "feature_col = cols[1:].copy() # all features\n",
    "lr_train_err['all features'] = LR_train(feature_col)\n",
    "\n",
    "feature_col.remove('Weight') # remove Weight\n",
    "lr_train_err['Weight removed'] = LR_train(feature_col)\n",
    "\n",
    "print('Training error in adjusted R^2 score:')\n",
    "lr_train_err"
   ]
  },
  {
   "cell_type": "markdown",
   "id": "b46e8bea",
   "metadata": {},
   "source": [
    "<a href='#content'>Top</a>\n",
    "<p id='s6'></p>\n",
    "\n",
    "## 6. Modelling\n",
    "To recap the features to be used"
   ]
  },
  {
   "cell_type": "code",
   "execution_count": 23,
   "id": "d9e21435",
   "metadata": {},
   "outputs": [
    {
     "name": "stdout",
     "output_type": "stream",
     "text": [
      "['Age', 'Height', 'Neck', 'Chest', 'Abdomen', 'Hip', 'Thigh', 'Knee', 'Ankle', 'Biceps', 'Forearm', 'Wrist']\n"
     ]
    }
   ],
   "source": [
    "print(feature_col)"
   ]
  },
  {
   "cell_type": "markdown",
   "id": "31443a79",
   "metadata": {},
   "source": [
    "A couple of regression models are be explored:\n",
    "- **Simple Linear Regression**\n",
    "- **ElasticNet** i.e. linear combination of Lasso and Ridge Regression\n",
    "- **Generalised Linear Model**\n",
    "- **Decision Tree Regression**\n",
    "\n",
    "To maintain equal footing of features in the models, the train / test data are first standardised.  The BodyFat in percentage is also transformed into decimals."
   ]
  },
  {
   "cell_type": "code",
   "execution_count": 24,
   "id": "7acbd77a",
   "metadata": {},
   "outputs": [],
   "source": [
    "from pyspark.ml import Pipeline\n",
    "va_ss = VA(inputCols=feature_col, outputCol='features')  # vector assembler\n",
    "ss = SS(inputCol='features', outputCol='features_ss', \n",
    "        withMean=True, withStd=True)                     # standard scaler\n",
    "pipeline = Pipeline(stages=[va_ss, ss])                  # pipeline"
   ]
  },
  {
   "cell_type": "code",
   "execution_count": 25,
   "id": "153949c6",
   "metadata": {},
   "outputs": [],
   "source": [
    "# standardise train / test set\n",
    "df_train_ss = pipeline.fit(df_train).transform(df_train)\n",
    "df_test_ss = pipeline.fit(df_test).transform(df_test)\n",
    "\n",
    "# convert BodyFat to decimals\n",
    "df_train_ss = df_train_ss.withColumnRenamed('BodyFat', 'BodyFat%')\n",
    "df_train_ss = df_train_ss.withColumn('BodyFat', df_train_ss['BodyFat%']/100)\n",
    "\n",
    "df_test_ss = df_test_ss.withColumnRenamed('BodyFat', 'BodyFat%')\n",
    "df_test_ss = df_test_ss.withColumn('BodyFat', df_test_ss['BodyFat%']/100)"
   ]
  },
  {
   "cell_type": "markdown",
   "id": "e121819f",
   "metadata": {},
   "source": [
    "To evaluate the training error and actual test error, a evaluation function is defined to calculate the RMSE of the predicted BodyFat and the adjusted R$^2$ of a model."
   ]
  },
  {
   "cell_type": "code",
   "execution_count": 26,
   "id": "427e9bed",
   "metadata": {},
   "outputs": [],
   "source": [
    "def model_eval(model, eval_set):\n",
    "    \n",
    "    # get prediction\n",
    "    pred = model.transform(eval_set)\n",
    "    \n",
    "    n = eval_set.count()\n",
    "    p = len(feature_col)\n",
    "    \n",
    "    # compute metrics using RMSE and R2\n",
    "    rmse = RE(predictionCol='prediction', labelCol='BodyFat', metricName='rmse')\n",
    "    r2 = RE(predictionCol='prediction', labelCol='BodyFat', metricName='r2')\n",
    "    \n",
    "    # calculate adjusted R2\n",
    "    rmse = rmse.evaluate(pred)\n",
    "    r2adj = 1-(1-r2.evaluate(pred))*(n-1)/(n-p-1)\n",
    "    \n",
    "    print('RMSE:', rmse)\n",
    "    print('Adjusted R^2:', r2adj)\n",
    "    \n",
    "    return [rmse, r2adj]"
   ]
  },
  {
   "cell_type": "code",
   "execution_count": 27,
   "id": "aa28ce54",
   "metadata": {},
   "outputs": [],
   "source": [
    "# to store model train rmse for comparison\n",
    "train_rmse = {}"
   ]
  },
  {
   "cell_type": "markdown",
   "id": "68493a66",
   "metadata": {},
   "source": [
    "### 6(a) Simple Linear Regression"
   ]
  },
  {
   "cell_type": "markdown",
   "id": "4530c85d",
   "metadata": {},
   "source": [
    "Here regParam is set to be zero (default value).  The adjusted R$^2$ score is almost the same as that obtained in the VIF analysis above.  It is invariant because of the linearity of the model.  The RMSE and regression coefficients are, however, subject to the scaling."
   ]
  },
  {
   "cell_type": "code",
   "execution_count": 28,
   "id": "bee843f8",
   "metadata": {},
   "outputs": [
    {
     "name": "stdout",
     "output_type": "stream",
     "text": [
      "23/09/27 07:01:06 WARN Instrumentation: [9bebc3f3] regParam is zero, which might cause numerical instability and overfitting.\n",
      "LR train\n",
      "RMSE: 0.038631858659956025\n",
      "Adjusted R^2: 0.7498506622374416\n"
     ]
    }
   ],
   "source": [
    "# Simple Linear Regression Model\n",
    "lr = LR(featuresCol='features_ss', labelCol='BodyFat')\n",
    "lr_model = lr.fit(df_train_ss)\n",
    "\n",
    "print('LR train')\n",
    "train_rmse['LR'] = model_eval(lr_model, df_train_ss)"
   ]
  },
  {
   "cell_type": "markdown",
   "id": "fc0e247c",
   "metadata": {},
   "source": [
    "### 6(b) ElasticNet and CrossValidation\n",
    "The ElasticNet is the linear combination of Lasso regression and Ridge regression.  The hyperparameter space is explored through grid search of the ElasticNet parameter and the regularisation parameter.  According to PySpark documentation, elasticNetParam is 1 for (pure) Lasso and 0 for (pure) Ridge.  A **five-fold Cross-validation** (CV) on train set is used to find the hyperparameters with yielding lowest CV error."
   ]
  },
  {
   "cell_type": "code",
   "execution_count": 29,
   "id": "b879a840",
   "metadata": {},
   "outputs": [],
   "source": [
    "from pyspark.ml.tuning import CrossValidator, ParamGridBuilder, CrossValidatorModel\n",
    "\n",
    "estimator = LR(featuresCol='features_ss', labelCol='BodyFat')\n",
    "grid = ParamGridBuilder().addGrid(estimator.regParam, [1e-4, 0.001, 0.01, 0.1, 1, 10]) \\\n",
    "                         .addGrid(estimator.elasticNetParam, [0, 0.5, 1]).build()\n",
    "evaluator = RE(predictionCol='prediction', labelCol='BodyFat', metricName='rmse')\n",
    "\n",
    "cv = CrossValidator(estimator=estimator, estimatorParamMaps=grid, evaluator=evaluator, numFolds=5)\n",
    "cvModel = cv.fit(df_train_ss)"
   ]
  },
  {
   "cell_type": "code",
   "execution_count": 30,
   "id": "5c810a65",
   "metadata": {},
   "outputs": [
    {
     "name": "stdout",
     "output_type": "stream",
     "text": [
      "0.001 1.0\n"
     ]
    }
   ],
   "source": [
    "best_reg = cvModel.bestModel.getRegParam()\n",
    "best_en = cvModel.bestModel.getElasticNetParam()\n",
    "print(best_reg, best_en)"
   ]
  },
  {
   "cell_type": "markdown",
   "id": "bce1a68b",
   "metadata": {},
   "source": [
    "Based on the CV result, a Lasso regression with regularisation parameter 0.001 is the best model of ElasticNet."
   ]
  },
  {
   "cell_type": "code",
   "execution_count": 31,
   "id": "0948025d",
   "metadata": {},
   "outputs": [
    {
     "name": "stdout",
     "output_type": "stream",
     "text": [
      "Lasso train\n",
      "RMSE: 0.039078033715678945\n",
      "Adjusted R^2: 0.7440391421324497\n"
     ]
    }
   ],
   "source": [
    "lasso = LR(featuresCol='features_ss', labelCol='BodyFat', regParam=best_reg, elasticNetParam=best_en)\n",
    "lasso_model = lasso.fit(df_train_ss)\n",
    "\n",
    "print('Lasso train')\n",
    "train_rmse['Lasso'] = model_eval(lasso_model, df_train_ss)"
   ]
  },
  {
   "cell_type": "markdown",
   "id": "7a5a9ce4",
   "metadata": {},
   "source": [
    "### 6(c) Generalised Linear Model\n",
    "A Generalised Linear Model (GLM) of **Gamma family and log link** function is used.  The linear regression above is the case using Gaussian family with identity link."
   ]
  },
  {
   "cell_type": "code",
   "execution_count": 32,
   "id": "4f314151",
   "metadata": {},
   "outputs": [
    {
     "name": "stdout",
     "output_type": "stream",
     "text": [
      "GLM Gamma train\n",
      "RMSE: 0.04313084416037503\n",
      "Adjusted R^2: 0.6881942877924532\n"
     ]
    }
   ],
   "source": [
    "from pyspark.ml.regression import GeneralizedLinearRegression as GLM\n",
    "glm_gamma = GLM(family='gamma', link='log', regParam=1e-12,\n",
    "                featuresCol='features_ss', labelCol='BodyFat')\n",
    "glm_gamma_model = glm_gamma.fit(df_train_ss)\n",
    "\n",
    "print('GLM Gamma train')\n",
    "train_rmse['Gamma'] = model_eval(glm_gamma_model, df_train_ss)"
   ]
  },
  {
   "cell_type": "markdown",
   "id": "aef175ef",
   "metadata": {},
   "source": [
    "Though not legitimate, let's try to convince (confuse) ourselves that BodyFat percentage is a measure of probability that the body is made up of fat.  A GLM using **Binomial family with logit link** function is tested out.  This is also one of the considerations to convert the responses BodyFat into decimals."
   ]
  },
  {
   "cell_type": "code",
   "execution_count": 33,
   "id": "104f8274",
   "metadata": {},
   "outputs": [
    {
     "name": "stdout",
     "output_type": "stream",
     "text": [
      "GLM Binomial train\n",
      "RMSE: 0.03973350839520098\n",
      "Adjusted R^2: 0.735380418145825\n"
     ]
    }
   ],
   "source": [
    "glm_bino = GLM(family='binomial', link='logit', regParam=1e-12,\n",
    "               featuresCol='features_ss', labelCol='BodyFat')\n",
    "glm_bino_model = glm_bino.fit(df_train_ss)\n",
    "\n",
    "print('GLM Binomial train')\n",
    "train_rmse['Binomial'] = model_eval(glm_bino_model, df_train_ss)"
   ]
  },
  {
   "cell_type": "markdown",
   "id": "1ae2ba1d",
   "metadata": {},
   "source": [
    "### 6(d) Decision Tree Regression\n",
    "**Non-parametric models** are explored.  **Decision trees** are easily overfitted.  It is reasonable to CV the tree depth for at most half the number of variables.  It turns out othat the best maximum depth is 2 Decision Tree Regression."
   ]
  },
  {
   "cell_type": "code",
   "execution_count": 34,
   "id": "c18f2642",
   "metadata": {},
   "outputs": [],
   "source": [
    "from pyspark.ml.regression import DecisionTreeRegressor as DTR"
   ]
  },
  {
   "cell_type": "code",
   "execution_count": 35,
   "id": "0b22a0f0",
   "metadata": {},
   "outputs": [],
   "source": [
    "# CV on maximum depth of the decision tree\n",
    "estimator = DTR(featuresCol='features_ss', labelCol='BodyFat')\n",
    "grid = ParamGridBuilder().addGrid(estimator.maxDepth, np.arange(6)).build()\n",
    "evaluator = RE(predictionCol='prediction', labelCol='BodyFat', metricName='rmse')\n",
    "\n",
    "cv = CrossValidator(estimator=estimator, estimatorParamMaps=grid, \n",
    "                    evaluator=evaluator, numFolds=5)\n",
    "cvModel = cv.fit(df_train_ss)"
   ]
  },
  {
   "cell_type": "code",
   "execution_count": 36,
   "id": "1c89fcd6",
   "metadata": {},
   "outputs": [
    {
     "data": {
      "text/plain": [
       "2"
      ]
     },
     "execution_count": 36,
     "metadata": {},
     "output_type": "execute_result"
    }
   ],
   "source": [
    "cvModel.bestModel.getMaxDepth()"
   ]
  },
  {
   "cell_type": "code",
   "execution_count": 37,
   "id": "1371b9d9",
   "metadata": {},
   "outputs": [
    {
     "name": "stdout",
     "output_type": "stream",
     "text": [
      "DT Regression train\n",
      "RMSE: 0.049146016514987415\n",
      "Adjusted R^2: 0.5951587146417627\n"
     ]
    }
   ],
   "source": [
    "dtr = DTR(featuresCol='features_ss', labelCol='BodyFat', maxDepth=2)\n",
    "dtr_model = dtr.fit(df_train_ss)\n",
    "\n",
    "print('DT Regression train')\n",
    "train_rmse['DT'] = model_eval(dtr_model, df_train_ss)"
   ]
  },
  {
   "cell_type": "markdown",
   "id": "14fd0d61",
   "metadata": {},
   "source": [
    "Let's go further to deploy **Random Forest Regression** with bootstrap.  Maximum depth is chosen to be 2 from previous experience.  CV finds that the best number of trees is 400."
   ]
  },
  {
   "cell_type": "code",
   "execution_count": 38,
   "id": "413cac1b",
   "metadata": {},
   "outputs": [],
   "source": [
    "from pyspark.ml.regression import RandomForestRegressor as RFR"
   ]
  },
  {
   "cell_type": "code",
   "execution_count": 39,
   "id": "b0f020bb",
   "metadata": {},
   "outputs": [],
   "source": [
    "# CV on numTrees from 100 to 500 on an interval of 50\n",
    "estimator = RFR(featuresCol='features_ss', labelCol='BodyFat', \n",
    "                bootstrap=True, maxDepth=2, seed=123)\n",
    "grid = ParamGridBuilder().addGrid(estimator.numTrees, np.arange(100,501,50)).build()\n",
    "evaluator = RE(predictionCol='prediction', labelCol='BodyFat', metricName='rmse')\n",
    "\n",
    "cv = CrossValidator(estimator=estimator, estimatorParamMaps=grid, \n",
    "                    evaluator=evaluator, numFolds=5)\n",
    "cvModel = cv.fit(df_train_ss)"
   ]
  },
  {
   "cell_type": "code",
   "execution_count": 40,
   "id": "dce34a1e",
   "metadata": {},
   "outputs": [
    {
     "data": {
      "text/plain": [
       "250"
      ]
     },
     "execution_count": 40,
     "metadata": {},
     "output_type": "execute_result"
    }
   ],
   "source": [
    "cvModel.bestModel.getNumTrees"
   ]
  },
  {
   "cell_type": "code",
   "execution_count": 41,
   "id": "88790ee5",
   "metadata": {},
   "outputs": [
    {
     "name": "stdout",
     "output_type": "stream",
     "text": [
      "RF Regression train\n",
      "RMSE: 0.05001905649030885\n",
      "Adjusted R^2: 0.5806475918724885\n"
     ]
    }
   ],
   "source": [
    "rfr = RFR(featuresCol='features_ss', labelCol='BodyFat', \n",
    "          bootstrap=True, maxDepth=2, numTrees=400, seed=123)\n",
    "rfr_model = rfr.fit(df_train_ss)\n",
    "\n",
    "print('RF Regression train')\n",
    "train_rmse['RF'] = model_eval(rfr_model, df_train_ss)"
   ]
  },
  {
   "cell_type": "markdown",
   "id": "4723c9d9",
   "metadata": {},
   "source": [
    "<a href='#content'>Top</a>\n",
    "<p id='s7'></p>\n",
    "\n",
    "## 7. Model Selection, Diagnostics and Summary\n",
    "### 7(a) Model Selection\n",
    "The training errors of the models in terms of RMSE and adjusted R$^2$ scores are compared.  Despite being simple, the **Linear Regression Model** yields the lowest RMSE and higest adjusted R$^2$ scores in the training and is therefore selected."
   ]
  },
  {
   "cell_type": "code",
   "execution_count": 42,
   "id": "f1ccb791",
   "metadata": {},
   "outputs": [
    {
     "data": {
      "text/html": [
       "<div>\n",
       "<style scoped>\n",
       "    .dataframe tbody tr th:only-of-type {\n",
       "        vertical-align: middle;\n",
       "    }\n",
       "\n",
       "    .dataframe tbody tr th {\n",
       "        vertical-align: top;\n",
       "    }\n",
       "\n",
       "    .dataframe thead th {\n",
       "        text-align: right;\n",
       "    }\n",
       "</style>\n",
       "<table border=\"1\" class=\"dataframe\">\n",
       "  <thead>\n",
       "    <tr style=\"text-align: right;\">\n",
       "      <th></th>\n",
       "      <th>LR</th>\n",
       "      <th>Lasso</th>\n",
       "      <th>Gamma</th>\n",
       "      <th>Binomial</th>\n",
       "      <th>DT</th>\n",
       "      <th>RF</th>\n",
       "    </tr>\n",
       "  </thead>\n",
       "  <tbody>\n",
       "    <tr>\n",
       "      <th>Train RMSE</th>\n",
       "      <td>0.038632</td>\n",
       "      <td>0.039078</td>\n",
       "      <td>0.043131</td>\n",
       "      <td>0.039734</td>\n",
       "      <td>0.049146</td>\n",
       "      <td>0.050019</td>\n",
       "    </tr>\n",
       "    <tr>\n",
       "      <th>Train R2</th>\n",
       "      <td>0.749851</td>\n",
       "      <td>0.744039</td>\n",
       "      <td>0.688194</td>\n",
       "      <td>0.735380</td>\n",
       "      <td>0.595159</td>\n",
       "      <td>0.580648</td>\n",
       "    </tr>\n",
       "  </tbody>\n",
       "</table>\n",
       "</div>"
      ],
      "text/plain": [
       "                  LR     Lasso     Gamma  Binomial        DT        RF\n",
       "Train RMSE  0.038632  0.039078  0.043131  0.039734  0.049146  0.050019\n",
       "Train R2    0.749851  0.744039  0.688194  0.735380  0.595159  0.580648"
      ]
     },
     "execution_count": 42,
     "metadata": {},
     "output_type": "execute_result"
    }
   ],
   "source": [
    "pd.DataFrame(train_rmse, index=['Train RMSE', 'Train R2'])"
   ]
  },
  {
   "cell_type": "markdown",
   "id": "fb1f7034",
   "metadata": {},
   "source": [
    "Here the original format of the train / test data are used i.e. without standardisation of features and responses remain as percentages.  The interpretation just goes from \"change of decimal BodyFat per unit change of a standard deviation of a biomarker\" to \"change of BodyFat percentage per unit change of a biomarker\", which may help understanding of some audience.  Due to linearity of the model, the train RMSE would change (to be specific 100 times as represented in percentages), so would the magnitudes of the regression coefficients.  On the contrary, the adjused R$^2$ and feature importance (in terms of sign and p-values) would not change."
   ]
  },
  {
   "cell_type": "code",
   "execution_count": 43,
   "id": "998e4b7d",
   "metadata": {},
   "outputs": [
    {
     "name": "stdout",
     "output_type": "stream",
     "text": [
      "23/09/27 07:02:33 WARN Instrumentation: [0a94dbf5] regParam is zero, which might cause numerical instability and overfitting.\n",
      "RMSE: 3.8631858659956033\n",
      "Adjusted R^2: 0.7498506622374419\n"
     ]
    }
   ],
   "source": [
    "# evaluate performance of LR model using original magnitudes\n",
    "va2 = VA(inputCols=feature_col, outputCol='features')\n",
    "df_train2 = va2.transform(df_train)\n",
    "df_test2 = va2.transform(df_test)\n",
    "\n",
    "lr2 = LR(featuresCol='features', labelCol='BodyFat')\n",
    "lr_model2 = lr2.fit(df_train2)\n",
    "\n",
    "model_eval(lr_model2, df_train2);"
   ]
  },
  {
   "cell_type": "markdown",
   "id": "e5e10185",
   "metadata": {},
   "source": [
    "### 7(b) Diagnostic Plots\n",
    "In R, there is a handy function plot(linear_model) to diagnose the model.  A replica in Python is reproduced as follows.  The left panel is residuals vs fitted values, there is no apparent pattern.  If there is, there should be unmodelled relationship between the response and the features.  The middle panel is the scale-location plot which shows constant variance across the fitted value i.e. the constant variance assumption of the linear regression model is satisfied.  The last one is the QQ-plot which the central portion generally fits onto a straight line with slope one - it is evident that the normal assumption of the model is satisfied and model summary can be discussed."
   ]
  },
  {
   "cell_type": "code",
   "execution_count": 44,
   "id": "f8e7f0f6",
   "metadata": {},
   "outputs": [],
   "source": [
    "from pyspark.sql import functions as func"
   ]
  },
  {
   "cell_type": "code",
   "execution_count": 45,
   "id": "006f947d",
   "metadata": {},
   "outputs": [],
   "source": [
    "def diagnostic_plot(model): # takes a fitted model as argument\n",
    "    \n",
    "    # it happens that LR is the best model so the PySpark functions can be exploited\n",
    "    # otherwise the predictions and residuals may need to be computed out\n",
    "    df_fit = model.summary.predictions\n",
    "    res = model.summary.residuals\n",
    "    \n",
    "    # standardise predictions, StandardScaler can also be used\n",
    "    pred_mean = df_fit.agg(func.mean('prediction')).collect()[0][0]\n",
    "    pred_sd = df_fit.agg(func.stddev('prediction')).collect()[0][0]\n",
    "    df_fit = df_fit.withColumn('pred_s', (df_fit['prediction']-pred_mean)/pred_sd)\n",
    "    \n",
    "    # standardise residuals \n",
    "    res_mean = res.agg(func.mean('residuals')).collect()[0][0]\n",
    "    res_sd = res.agg(func.stddev('residuals')).collect()[0][0]\n",
    "    res = res.withColumn('res_s', (res['residuals']-res_mean)/res_sd)\n",
    "        \n",
    "    # square root of standardised residuals\n",
    "    res = res.withColumn('abs_sq_res_s', func.sqrt(func.abs(res['res_s'])))\n",
    "    \n",
    "    # collect only necessary columns\n",
    "    df_fit_pd = df_fit.select('prediction','pred_s').toPandas()\n",
    "    res_pd = res.select('residuals','res_s','abs_sq_res_s').toPandas()\n",
    "    \n",
    "    # replica of R plot(linear_model)\n",
    "    fig, ax = plt.subplots(1,3, figsize=(15,3))\n",
    "    ax = ax.flatten()\n",
    "\n",
    "    # subplot1 - residuals vs fitted values\n",
    "    ax[0].scatter(df_fit_pd['prediction'], res_pd['residuals'], s=6)\n",
    "    ax[0].axhline(0, ls='dotted', color='black')\n",
    "    ax[0].set_xlabel('fitted values')\n",
    "    ax[0].set_ylabel('residuals')\n",
    "\n",
    "    # subplot2 - sqrt|standardised residuals| vs fitted values\n",
    "    ax[1].scatter(df_fit_pd['prediction'], res_pd['abs_sq_res_s'], s=6)\n",
    "    ax[1].set_xlabel('fitted values')\n",
    "    ax[1].set_ylabel('sqrt |standardised residuals|')\n",
    "\n",
    "    # subplot3 - QQ-plot: standardised residuals vs fitted values \n",
    "    ax[2].scatter(np.sort(df_fit_pd['pred_s']), np.sort(res_pd['res_s']), s=6)\n",
    "    ax[2].plot([-3,3],[-3,3], ls='dotted', color='black')\n",
    "    ax[2].set_xlabel('theoretical quantiles')\n",
    "    ax[2].set_ylabel('standardised residuals')\n",
    "\n",
    "    plt.show()"
   ]
  },
  {
   "cell_type": "code",
   "execution_count": 46,
   "id": "3c1ef445",
   "metadata": {},
   "outputs": [
    {
     "data": {
      "image/png": "[encoded data removed]",
      "text/plain": [
       "<Figure size 1080x216 with 3 Axes>"
      ]
     },
     "metadata": {
      "needs_background": "light"
     },
     "output_type": "display_data"
    }
   ],
   "source": [
    "diagnostic_plot(lr_model2)"
   ]
  },
  {
   "cell_type": "markdown",
   "id": "74e11e2f",
   "metadata": {},
   "source": [
    "### 7(c) Model Summary\n",
    "The LR model can be easily interpreted through the coefficients.  To recap, the RMSE is about 3.8632 (% as unit).  The adjusted R$^2$ is about 0.7499 i.e. the model could explain about 75% variance of the *training* data."
   ]
  },
  {
   "cell_type": "code",
   "execution_count": 47,
   "id": "face6e6e",
   "metadata": {},
   "outputs": [
    {
     "name": "stdout",
     "output_type": "stream",
     "text": [
      "RMSE: 3.8631858659956033\n",
      "Adjusted R^2: 0.7498506622374419\n"
     ]
    }
   ],
   "source": [
    "model_eval(lr_model2, df_train2);"
   ]
  },
  {
   "cell_type": "markdown",
   "id": "4af1042d",
   "metadata": {},
   "source": [
    "**Regresion Coefficients**  \n",
    "The regression coefficients and relevant statistics in descending p-values are reported below.  The p-value of 'Abdomen' is very close to zero.  The regression coefficient of 0.9 means, keeping other features constant, on average, a unit change of Abdomen (measured in cm) is positively associated with 0.9% increase in BodyFat.  The low p-values (<0.05) suggests this association is statistically significant.  The strength of the association 0.9 falls into a 95% confidence interval of (0.715, 1.092)."
   ]
  },
  {
   "cell_type": "code",
   "execution_count": 48,
   "id": "762c9ac3",
   "metadata": {},
   "outputs": [],
   "source": [
    "# obtain coefficients, p-values, standard errors, and t-values\n",
    "# PySpark summary orders the values in features then intercept\n",
    "coef = lr_model2.coefficients.tolist() + [lr_model2.intercept]\n",
    "pval = lr_model2.summary.pValues\n",
    "se = lr_model2.summary.coefficientStandardErrors\n",
    "tval = lr_model2.summary.tValues"
   ]
  },
  {
   "cell_type": "code",
   "execution_count": 49,
   "id": "f1f60f93",
   "metadata": {},
   "outputs": [],
   "source": [
    "# sort by p-values\n",
    "train_result = pd.DataFrame(index=feature_col+['intercept'], \\\n",
    "                            data={'Coef':coef, 'pVal':pval, \\\n",
    "                                  'tval':tval, 'SE': se})\n",
    "train_result['CI low'] = train_result['Coef']-2*train_result['SE']\n",
    "train_result['CI high'] = train_result['Coef']+2*train_result['SE']\n",
    "\n",
    "train_result = train_result.sort_values('pVal').T"
   ]
  },
  {
   "cell_type": "code",
   "execution_count": 50,
   "id": "f62ccc98",
   "metadata": {},
   "outputs": [
    {
     "data": {
      "text/html": [
       "<div>\n",
       "<style scoped>\n",
       "    .dataframe tbody tr th:only-of-type {\n",
       "        vertical-align: middle;\n",
       "    }\n",
       "\n",
       "    .dataframe tbody tr th {\n",
       "        vertical-align: top;\n",
       "    }\n",
       "\n",
       "    .dataframe thead th {\n",
       "        text-align: right;\n",
       "    }\n",
       "</style>\n",
       "<table border=\"1\" class=\"dataframe\">\n",
       "  <thead>\n",
       "    <tr style=\"text-align: right;\">\n",
       "      <th></th>\n",
       "      <th>Abdomen</th>\n",
       "      <th>Wrist</th>\n",
       "      <th>Age</th>\n",
       "      <th>Chest</th>\n",
       "      <th>Forearm</th>\n",
       "      <th>Height</th>\n",
       "      <th>Thigh</th>\n",
       "    </tr>\n",
       "  </thead>\n",
       "  <tbody>\n",
       "    <tr>\n",
       "      <th>Coef</th>\n",
       "      <td>0.903424</td>\n",
       "      <td>-2.497925</td>\n",
       "      <td>0.080304</td>\n",
       "      <td>-0.163496</td>\n",
       "      <td>0.264169</td>\n",
       "      <td>-0.177597</td>\n",
       "      <td>0.164957</td>\n",
       "    </tr>\n",
       "    <tr>\n",
       "      <th>pVal</th>\n",
       "      <td>0.000000</td>\n",
       "      <td>0.000077</td>\n",
       "      <td>0.027753</td>\n",
       "      <td>0.104628</td>\n",
       "      <td>0.245794</td>\n",
       "      <td>0.269927</td>\n",
       "      <td>0.333912</td>\n",
       "    </tr>\n",
       "    <tr>\n",
       "      <th>tval</th>\n",
       "      <td>9.593155</td>\n",
       "      <td>-4.057890</td>\n",
       "      <td>2.220899</td>\n",
       "      <td>-1.632027</td>\n",
       "      <td>1.164871</td>\n",
       "      <td>-1.107042</td>\n",
       "      <td>0.969174</td>\n",
       "    </tr>\n",
       "    <tr>\n",
       "      <th>SE</th>\n",
       "      <td>0.094174</td>\n",
       "      <td>0.615572</td>\n",
       "      <td>0.036158</td>\n",
       "      <td>0.100180</td>\n",
       "      <td>0.226780</td>\n",
       "      <td>0.160425</td>\n",
       "      <td>0.170204</td>\n",
       "    </tr>\n",
       "    <tr>\n",
       "      <th>CI low</th>\n",
       "      <td>0.715076</td>\n",
       "      <td>-3.729070</td>\n",
       "      <td>0.007987</td>\n",
       "      <td>-0.363856</td>\n",
       "      <td>-0.189390</td>\n",
       "      <td>-0.498448</td>\n",
       "      <td>-0.175450</td>\n",
       "    </tr>\n",
       "    <tr>\n",
       "      <th>CI high</th>\n",
       "      <td>1.091771</td>\n",
       "      <td>-1.266780</td>\n",
       "      <td>0.152621</td>\n",
       "      <td>0.036863</td>\n",
       "      <td>0.717728</td>\n",
       "      <td>0.143253</td>\n",
       "      <td>0.505365</td>\n",
       "    </tr>\n",
       "  </tbody>\n",
       "</table>\n",
       "</div>"
      ],
      "text/plain": [
       "          Abdomen     Wrist       Age     Chest   Forearm    Height     Thigh\n",
       "Coef     0.903424 -2.497925  0.080304 -0.163496  0.264169 -0.177597  0.164957\n",
       "pVal     0.000000  0.000077  0.027753  0.104628  0.245794  0.269927  0.333912\n",
       "tval     9.593155 -4.057890  2.220899 -1.632027  1.164871 -1.107042  0.969174\n",
       "SE       0.094174  0.615572  0.036158  0.100180  0.226780  0.160425  0.170204\n",
       "CI low   0.715076 -3.729070  0.007987 -0.363856 -0.189390 -0.498448 -0.175450\n",
       "CI high  1.091771 -1.266780  0.152621  0.036863  0.717728  0.143253  0.505365"
      ]
     },
     "execution_count": 50,
     "metadata": {},
     "output_type": "execute_result"
    }
   ],
   "source": [
    "# 7 most significant features\n",
    "train_result.iloc[:,:7]"
   ]
  },
  {
   "cell_type": "code",
   "execution_count": 51,
   "id": "92d9e80d",
   "metadata": {
    "scrolled": true
   },
   "outputs": [
    {
     "data": {
      "text/html": [
       "<div>\n",
       "<style scoped>\n",
       "    .dataframe tbody tr th:only-of-type {\n",
       "        vertical-align: middle;\n",
       "    }\n",
       "\n",
       "    .dataframe tbody tr th {\n",
       "        vertical-align: top;\n",
       "    }\n",
       "\n",
       "    .dataframe thead th {\n",
       "        text-align: right;\n",
       "    }\n",
       "</style>\n",
       "<table border=\"1\" class=\"dataframe\">\n",
       "  <thead>\n",
       "    <tr style=\"text-align: right;\">\n",
       "      <th></th>\n",
       "      <th>Neck</th>\n",
       "      <th>intercept</th>\n",
       "      <th>Hip</th>\n",
       "      <th>Ankle</th>\n",
       "      <th>Knee</th>\n",
       "      <th>Biceps</th>\n",
       "    </tr>\n",
       "  </thead>\n",
       "  <tbody>\n",
       "    <tr>\n",
       "      <th>Coef</th>\n",
       "      <td>-0.219424</td>\n",
       "      <td>8.080830</td>\n",
       "      <td>-0.089178</td>\n",
       "      <td>-0.093363</td>\n",
       "      <td>0.025464</td>\n",
       "      <td>-0.010244</td>\n",
       "    </tr>\n",
       "    <tr>\n",
       "      <th>pVal</th>\n",
       "      <td>0.377354</td>\n",
       "      <td>0.412859</td>\n",
       "      <td>0.565234</td>\n",
       "      <td>0.820434</td>\n",
       "      <td>0.929815</td>\n",
       "      <td>0.956384</td>\n",
       "    </tr>\n",
       "    <tr>\n",
       "      <th>tval</th>\n",
       "      <td>-0.885227</td>\n",
       "      <td>0.821002</td>\n",
       "      <td>-0.576276</td>\n",
       "      <td>-0.227358</td>\n",
       "      <td>0.088216</td>\n",
       "      <td>-0.054777</td>\n",
       "    </tr>\n",
       "    <tr>\n",
       "      <th>SE</th>\n",
       "      <td>0.247874</td>\n",
       "      <td>9.842646</td>\n",
       "      <td>0.154749</td>\n",
       "      <td>0.410641</td>\n",
       "      <td>0.288657</td>\n",
       "      <td>0.187012</td>\n",
       "    </tr>\n",
       "    <tr>\n",
       "      <th>CI low</th>\n",
       "      <td>-0.715171</td>\n",
       "      <td>-11.604462</td>\n",
       "      <td>-0.398675</td>\n",
       "      <td>-0.914645</td>\n",
       "      <td>-0.551849</td>\n",
       "      <td>-0.384268</td>\n",
       "    </tr>\n",
       "    <tr>\n",
       "      <th>CI high</th>\n",
       "      <td>0.276323</td>\n",
       "      <td>27.766122</td>\n",
       "      <td>0.220319</td>\n",
       "      <td>0.727920</td>\n",
       "      <td>0.602778</td>\n",
       "      <td>0.363780</td>\n",
       "    </tr>\n",
       "  </tbody>\n",
       "</table>\n",
       "</div>"
      ],
      "text/plain": [
       "             Neck  intercept       Hip     Ankle      Knee    Biceps\n",
       "Coef    -0.219424   8.080830 -0.089178 -0.093363  0.025464 -0.010244\n",
       "pVal     0.377354   0.412859  0.565234  0.820434  0.929815  0.956384\n",
       "tval    -0.885227   0.821002 -0.576276 -0.227358  0.088216 -0.054777\n",
       "SE       0.247874   9.842646  0.154749  0.410641  0.288657  0.187012\n",
       "CI low  -0.715171 -11.604462 -0.398675 -0.914645 -0.551849 -0.384268\n",
       "CI high  0.276323  27.766122  0.220319  0.727920  0.602778  0.363780"
      ]
     },
     "execution_count": 51,
     "metadata": {},
     "output_type": "execute_result"
    }
   ],
   "source": [
    "# least significant features\n",
    "train_result.iloc[:,7:]"
   ]
  },
  {
   "cell_type": "markdown",
   "id": "fd29b019",
   "metadata": {},
   "source": [
    "<a href='#content'>Top</a>\n",
    "<p id='s8'></p>\n",
    "\n",
    "## 8. Model Evaluation"
   ]
  },
  {
   "cell_type": "markdown",
   "id": "0585acd3",
   "metadata": {},
   "source": [
    "The test set, not being exposed in the training stage, is used to evaluate the selected LR model.  The metrics are computed:"
   ]
  },
  {
   "cell_type": "code",
   "execution_count": 52,
   "id": "9e1a2cf7",
   "metadata": {
    "scrolled": true
   },
   "outputs": [
    {
     "name": "stdout",
     "output_type": "stream",
     "text": [
      "RMSE: 4.814293453362716\n",
      "Adjusted R^2: 0.6069762923947721\n"
     ]
    }
   ],
   "source": [
    "model_eval(lr_model2, df_test2);"
   ]
  },
  {
   "cell_type": "markdown",
   "id": "4fc28be4",
   "metadata": {},
   "source": [
    "The RMSE of test data is about 4.8143 (% as unit), slightly larger than training error as expected.  The adjusted R$^2$ score is about 0.6070, smaller than training value also as expected.  The model could explain about 60.7% of the variance of the test data."
   ]
  },
  {
   "cell_type": "markdown",
   "id": "0777e084",
   "metadata": {},
   "source": [
    "<a href='#content'>Top</a>\n",
    "<p id='s9'></p>\n",
    "\n",
    "## 9. Interpretation and Discussion\n",
    "Among Linear Regression models (including regularised elasticNet and Generalised Linear Models) as non-parametric models (Decision Tree Regression and Random Forest Regression), the **simple Linear Regression model performs the best in the training error and is selected**.  \n",
    "\n",
    "From Model Diagnostic, the Linear Regression model **fairly captures the relationships between the features and the response** BodyFat.  From Model Summary, the model is able to explain about 75% variance of the training data and 61% variance of the test data.  The RMSEs for training / test data are 3.86 / 4.81, which roughly translate to an average error of 3.86 (% as unit) and 4.81 (% as unit) on predictions of BodyFat percentages.\n",
    "\n",
    "There are **three statistically signficant biomarkers identified**: keeping other features unchanged, on average, the BodyFat (i) increases by about 0.9% per each cm increase in Abdomen measurement; (ii) decreases by about 2.5% per each cm increase in Wrist measurement; and (iii) increases by 0.08% per each year increment on Age.  The other biomarkers are not statistically significant, and Weight is discarded in the analysis as it correlates much with other features."
   ]
  },
  {
   "cell_type": "markdown",
   "id": "2087df96",
   "metadata": {},
   "source": [
    "<a href='#content'>Top</a>\n",
    "<p id='s10'></p>\n",
    "\n",
    "## 10. A Heuristic Application\n",
    "\n",
    "The model is applied to estimate the BodyFat of Bruce Lee <a href='#ref23'>[2]</a>.  It is not possible to weigh him underwater to estimate his density but some of his body measurements are available upon Google search <a href='#ref23'>[3]</a>.  For other missing values, the average values of the wranggled dataset are heuristically adopted.  The model predicts his BodyFat at about 8.4%. \n",
    "\n",
    "From <a href='#ref23'>[3]</a>, Bruce Lee has the following body measurement:  \n",
    "Height: 5'7 1/4\" (67.25 inches)  \n",
    "Weight: 141 pounds (not used in the model)  \n",
    "Chest: 40 inches (101.6 cm)  \n",
    "Waist: 32 inches (81.28 cm, assumed to be Abdomen)  \n",
    "Biceps: 15 inches (38.1 cm)  \n",
    "\n",
    "No other measurements found i.e. missing values.  It may not be justified, but average values of the BodyFat dataset is adopted.\n",
    "\n",
    "Mr Lee passed away at age 32.  The age attribute is just assumed to be 30."
   ]
  },
  {
   "cell_type": "code",
   "execution_count": 53,
   "id": "ec98beec",
   "metadata": {},
   "outputs": [
    {
     "data": {
      "text/plain": [
       "{'Age': 30,\n",
       " 'Height': 67.25,\n",
       " 'Neck': 37.98048780487802,\n",
       " 'Chest': 101.6,\n",
       " 'Abdomen': 81.28,\n",
       " 'Hip': 99.76666666666662,\n",
       " 'Thigh': 59.361788617886155,\n",
       " 'Knee': 38.5707317073171,\n",
       " 'Ankle': 23.0028455284553,\n",
       " 'Biceps': 38.1,\n",
       " 'Forearm': 28.697967479674794,\n",
       " 'Wrist': 18.232113821138213}"
      ]
     },
     "execution_count": 53,
     "metadata": {},
     "output_type": "execute_result"
    }
   ],
   "source": [
    "web = {'Age':30, 'Height':67.25, 'Chest': 101.6, 'Abdomen':81.28, 'Biceps':38.1}\n",
    "bruce_col = cols[1:].copy()\n",
    "bruce_col.remove('Weight')\n",
    "bruce = {}\n",
    "\n",
    "# use known values otherwise use mean from dataset\n",
    "for col in bruce_col:\n",
    "    if col in web.keys():\n",
    "        bruce[col] = web[col]\n",
    "    else:\n",
    "        bruce[col] = df_fil.select(func.mean(col)).collect()[0][0]\n",
    "bruce"
   ]
  },
  {
   "cell_type": "code",
   "execution_count": 54,
   "id": "200aad0b",
   "metadata": {},
   "outputs": [
    {
     "name": "stderr",
     "output_type": "stream",
     "text": [
      "                                                                                \r"
     ]
    }
   ],
   "source": [
    "# create dataframe\n",
    "rdd = sc.parallelize([bruce])\n",
    "bruce_df = spark.createDataFrame(rdd)"
   ]
  },
  {
   "cell_type": "code",
   "execution_count": 55,
   "id": "9e917454",
   "metadata": {},
   "outputs": [
    {
     "name": "stdout",
     "output_type": "stream",
     "text": [
      "+-----------------+\n",
      "|       prediction|\n",
      "+-----------------+\n",
      "|8.409868141084742|\n",
      "+-----------------+\n",
      "\n"
     ]
    }
   ],
   "source": [
    "# predict\n",
    "bruce_df = va2.transform(bruce_df)\n",
    "bruce_df = lr_model2.transform(bruce_df)\n",
    "bruce_df.select('prediction').show()"
   ]
  },
  {
   "cell_type": "markdown",
   "id": "4dab6a40",
   "metadata": {},
   "source": [
    "<p id='ref23'></p>  \n",
    "\n",
    "[2] https://en.wikipedia.org/wiki/Bruce_Lee  \n",
    "[3] https://celebrityinside.com/body-measurements/actor/bruce-lee-height-weight-shoe-size-facts-family-bio/\n",
    "\n",
    "<a href='#content'>Top</a>"
   ]
  }
 ],
 "metadata": {
  "kernelspec": {
   "display_name": "Python 3",
   "language": "python",
   "name": "python3"
  },
  "language_info": {
   "codemirror_mode": {
    "name": "ipython",
    "version": 3
   },
   "file_extension": ".py",
   "mimetype": "text/x-python",
   "name": "python",
   "nbconvert_exporter": "python",
   "pygments_lexer": "ipython3",
   "version": "3.10.6"
  }
 },
 "nbformat": 4,
 "nbformat_minor": 5
}
