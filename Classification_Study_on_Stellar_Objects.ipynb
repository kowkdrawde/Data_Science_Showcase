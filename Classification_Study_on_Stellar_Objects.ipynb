{
 "cells": [
  {
   "cell_type": "markdown",
   "metadata": {},
   "source": [
    "<h2> Objective of this notebook </h2>\n",
    "<p> To explore a dataset about stellar objects and build models to classify them with given astronomical measurements and understand the interpretability of some models.</p>"
   ]
  },
  {
   "cell_type": "markdown",
   "metadata": {},
   "source": [
    "<h2> Source of dataset </h2>\n",
    "<p> From Kaggle: <a href=https://www.kaggle.com/datasets/fedesoriano/stellar-classification-dataset-sdss17>Stellar Classification dataset </a></p>\n",
    "<p> Features are astronomical measures and target is galaxy, quasar object (QSO), and star</p>"
   ]
  },
  {
   "cell_type": "markdown",
   "metadata": {},
   "source": [
    "<h2> Exploratory Data Analysis </h2>"
   ]
  },
  {
   "cell_type": "code",
   "execution_count": 1,
   "metadata": {},
   "outputs": [],
   "source": [
    "import numpy as np\n",
    "import pandas as pd\n",
    "import matplotlib.pyplot as plt\n",
    "import seaborn as sns\n",
    "import warnings\n",
    "warnings.filterwarnings('ignore')"
   ]
  },
  {
   "cell_type": "markdown",
   "metadata": {},
   "source": [
    "<p> <strong>Basic information</strong> of the dataset</p>"
   ]
  },
  {
   "cell_type": "code",
   "execution_count": 2,
   "metadata": {},
   "outputs": [
    {
     "name": "stdout",
     "output_type": "stream",
     "text": [
      "Dataset shape: (100000, 18)\n",
      "Datatypes: [dtype('float64') dtype('int64') dtype('O')]\n",
      "With null values: False\n"
     ]
    }
   ],
   "source": [
    "df = pd.read_csv('star.csv')\n",
    "print('Dataset shape:',df.shape)\n",
    "print('Datatypes:', df.dtypes.unique())\n",
    "print('With null values:',df.isnull().values.any())"
   ]
  },
  {
   "cell_type": "code",
   "execution_count": 3,
   "metadata": {},
   "outputs": [
    {
     "data": {
      "text/html": [
       "<div>\n",
       "<style scoped>\n",
       "    .dataframe tbody tr th:only-of-type {\n",
       "        vertical-align: middle;\n",
       "    }\n",
       "\n",
       "    .dataframe tbody tr th {\n",
       "        vertical-align: top;\n",
       "    }\n",
       "\n",
       "    .dataframe thead th {\n",
       "        text-align: right;\n",
       "    }\n",
       "</style>\n",
       "<table border=\"1\" class=\"dataframe\">\n",
       "  <thead>\n",
       "    <tr style=\"text-align: right;\">\n",
       "      <th></th>\n",
       "      <th>obj_ID</th>\n",
       "      <th>alpha</th>\n",
       "      <th>delta</th>\n",
       "      <th>u</th>\n",
       "      <th>g</th>\n",
       "      <th>r</th>\n",
       "      <th>i</th>\n",
       "      <th>z</th>\n",
       "      <th>run_ID</th>\n",
       "      <th>rerun_ID</th>\n",
       "      <th>cam_col</th>\n",
       "      <th>field_ID</th>\n",
       "      <th>spec_obj_ID</th>\n",
       "      <th>class</th>\n",
       "      <th>redshift</th>\n",
       "      <th>plate</th>\n",
       "      <th>MJD</th>\n",
       "      <th>fiber_ID</th>\n",
       "    </tr>\n",
       "  </thead>\n",
       "  <tbody>\n",
       "    <tr>\n",
       "      <th>0</th>\n",
       "      <td>1.237661e+18</td>\n",
       "      <td>135.689107</td>\n",
       "      <td>32.494632</td>\n",
       "      <td>23.87882</td>\n",
       "      <td>22.27530</td>\n",
       "      <td>20.39501</td>\n",
       "      <td>19.16573</td>\n",
       "      <td>18.79371</td>\n",
       "      <td>3606</td>\n",
       "      <td>301</td>\n",
       "      <td>2</td>\n",
       "      <td>79</td>\n",
       "      <td>6.543777e+18</td>\n",
       "      <td>GALAXY</td>\n",
       "      <td>0.634794</td>\n",
       "      <td>5812</td>\n",
       "      <td>56354</td>\n",
       "      <td>171</td>\n",
       "    </tr>\n",
       "    <tr>\n",
       "      <th>1</th>\n",
       "      <td>1.237665e+18</td>\n",
       "      <td>144.826101</td>\n",
       "      <td>31.274185</td>\n",
       "      <td>24.77759</td>\n",
       "      <td>22.83188</td>\n",
       "      <td>22.58444</td>\n",
       "      <td>21.16812</td>\n",
       "      <td>21.61427</td>\n",
       "      <td>4518</td>\n",
       "      <td>301</td>\n",
       "      <td>5</td>\n",
       "      <td>119</td>\n",
       "      <td>1.176014e+19</td>\n",
       "      <td>GALAXY</td>\n",
       "      <td>0.779136</td>\n",
       "      <td>10445</td>\n",
       "      <td>58158</td>\n",
       "      <td>427</td>\n",
       "    </tr>\n",
       "    <tr>\n",
       "      <th>2</th>\n",
       "      <td>1.237661e+18</td>\n",
       "      <td>142.188790</td>\n",
       "      <td>35.582444</td>\n",
       "      <td>25.26307</td>\n",
       "      <td>22.66389</td>\n",
       "      <td>20.60976</td>\n",
       "      <td>19.34857</td>\n",
       "      <td>18.94827</td>\n",
       "      <td>3606</td>\n",
       "      <td>301</td>\n",
       "      <td>2</td>\n",
       "      <td>120</td>\n",
       "      <td>5.152200e+18</td>\n",
       "      <td>GALAXY</td>\n",
       "      <td>0.644195</td>\n",
       "      <td>4576</td>\n",
       "      <td>55592</td>\n",
       "      <td>299</td>\n",
       "    </tr>\n",
       "  </tbody>\n",
       "</table>\n",
       "</div>"
      ],
      "text/plain": [
       "         obj_ID       alpha      delta         u         g         r  \\\n",
       "0  1.237661e+18  135.689107  32.494632  23.87882  22.27530  20.39501   \n",
       "1  1.237665e+18  144.826101  31.274185  24.77759  22.83188  22.58444   \n",
       "2  1.237661e+18  142.188790  35.582444  25.26307  22.66389  20.60976   \n",
       "\n",
       "          i         z  run_ID  rerun_ID  cam_col  field_ID   spec_obj_ID  \\\n",
       "0  19.16573  18.79371    3606       301        2        79  6.543777e+18   \n",
       "1  21.16812  21.61427    4518       301        5       119  1.176014e+19   \n",
       "2  19.34857  18.94827    3606       301        2       120  5.152200e+18   \n",
       "\n",
       "    class  redshift  plate    MJD  fiber_ID  \n",
       "0  GALAXY  0.634794   5812  56354       171  \n",
       "1  GALAXY  0.779136  10445  58158       427  \n",
       "2  GALAXY  0.644195   4576  55592       299  "
      ]
     },
     "execution_count": 3,
     "metadata": {},
     "output_type": "execute_result"
    }
   ],
   "source": [
    "df.head(3)"
   ]
  },
  {
   "cell_type": "markdown",
   "metadata": {},
   "source": [
    "<p> Measurements and class are retained. Others are IDs, measurement date, and angles (alpha and delta) which are not relevant. </p>"
   ]
  },
  {
   "cell_type": "code",
   "execution_count": 4,
   "metadata": {
    "scrolled": false
   },
   "outputs": [
    {
     "name": "stdout",
     "output_type": "stream",
     "text": [
      "<class 'pandas.core.frame.DataFrame'>\n",
      "RangeIndex: 100000 entries, 0 to 99999\n",
      "Data columns (total 18 columns):\n",
      " #   Column       Non-Null Count   Dtype  \n",
      "---  ------       --------------   -----  \n",
      " 0   obj_ID       100000 non-null  float64\n",
      " 1   alpha        100000 non-null  float64\n",
      " 2   delta        100000 non-null  float64\n",
      " 3   u            100000 non-null  float64\n",
      " 4   g            100000 non-null  float64\n",
      " 5   r            100000 non-null  float64\n",
      " 6   i            100000 non-null  float64\n",
      " 7   z            100000 non-null  float64\n",
      " 8   run_ID       100000 non-null  int64  \n",
      " 9   rerun_ID     100000 non-null  int64  \n",
      " 10  cam_col      100000 non-null  int64  \n",
      " 11  field_ID     100000 non-null  int64  \n",
      " 12  spec_obj_ID  100000 non-null  float64\n",
      " 13  class        100000 non-null  object \n",
      " 14  redshift     100000 non-null  float64\n",
      " 15  plate        100000 non-null  int64  \n",
      " 16  MJD          100000 non-null  int64  \n",
      " 17  fiber_ID     100000 non-null  int64  \n",
      "dtypes: float64(10), int64(7), object(1)\n",
      "memory usage: 13.7+ MB\n"
     ]
    }
   ],
   "source": [
    "df.info()"
   ]
  },
  {
   "cell_type": "code",
   "execution_count": 5,
   "metadata": {},
   "outputs": [
    {
     "name": "stdout",
     "output_type": "stream",
     "text": [
      "<class 'pandas.core.frame.DataFrame'>\n",
      "RangeIndex: 100000 entries, 0 to 99999\n",
      "Data columns (total 7 columns):\n",
      " #   Column    Non-Null Count   Dtype  \n",
      "---  ------    --------------   -----  \n",
      " 0   u         100000 non-null  float64\n",
      " 1   g         100000 non-null  float64\n",
      " 2   r         100000 non-null  float64\n",
      " 3   i         100000 non-null  float64\n",
      " 4   z         100000 non-null  float64\n",
      " 5   class     100000 non-null  object \n",
      " 6   redshift  100000 non-null  float64\n",
      "dtypes: float64(6), object(1)\n",
      "memory usage: 5.3+ MB\n"
     ]
    }
   ],
   "source": [
    "df2 = df.select_dtypes(['float','object']).drop(['obj_ID', 'spec_obj_ID','alpha','delta'], axis=1)\n",
    "df2.info()"
   ]
  },
  {
   "cell_type": "code",
   "execution_count": 6,
   "metadata": {},
   "outputs": [
    {
     "data": {
      "text/plain": [
       "GALAXY    59445\n",
       "STAR      21594\n",
       "QSO       18961\n",
       "Name: class, dtype: int64"
      ]
     },
     "execution_count": 6,
     "metadata": {},
     "output_type": "execute_result"
    }
   ],
   "source": [
    "df2['class'].value_counts()"
   ]
  },
  {
   "cell_type": "code",
   "execution_count": 7,
   "metadata": {},
   "outputs": [
    {
     "data": {
      "text/html": [
       "<div>\n",
       "<style scoped>\n",
       "    .dataframe tbody tr th:only-of-type {\n",
       "        vertical-align: middle;\n",
       "    }\n",
       "\n",
       "    .dataframe tbody tr th {\n",
       "        vertical-align: top;\n",
       "    }\n",
       "\n",
       "    .dataframe thead th {\n",
       "        text-align: right;\n",
       "    }\n",
       "</style>\n",
       "<table border=\"1\" class=\"dataframe\">\n",
       "  <thead>\n",
       "    <tr style=\"text-align: right;\">\n",
       "      <th></th>\n",
       "      <th>u</th>\n",
       "      <th>g</th>\n",
       "      <th>r</th>\n",
       "      <th>i</th>\n",
       "      <th>z</th>\n",
       "      <th>redshift</th>\n",
       "    </tr>\n",
       "  </thead>\n",
       "  <tbody>\n",
       "    <tr>\n",
       "      <th>count</th>\n",
       "      <td>100000.000000</td>\n",
       "      <td>100000.000000</td>\n",
       "      <td>100000.000000</td>\n",
       "      <td>100000.000000</td>\n",
       "      <td>100000.000000</td>\n",
       "      <td>100000.000000</td>\n",
       "    </tr>\n",
       "    <tr>\n",
       "      <th>mean</th>\n",
       "      <td>21.980468</td>\n",
       "      <td>20.531387</td>\n",
       "      <td>19.645762</td>\n",
       "      <td>19.084854</td>\n",
       "      <td>18.668810</td>\n",
       "      <td>0.576661</td>\n",
       "    </tr>\n",
       "    <tr>\n",
       "      <th>std</th>\n",
       "      <td>31.769291</td>\n",
       "      <td>31.750292</td>\n",
       "      <td>1.854760</td>\n",
       "      <td>1.757895</td>\n",
       "      <td>31.728152</td>\n",
       "      <td>0.730707</td>\n",
       "    </tr>\n",
       "    <tr>\n",
       "      <th>min</th>\n",
       "      <td>-9999.000000</td>\n",
       "      <td>-9999.000000</td>\n",
       "      <td>9.822070</td>\n",
       "      <td>9.469903</td>\n",
       "      <td>-9999.000000</td>\n",
       "      <td>-0.009971</td>\n",
       "    </tr>\n",
       "    <tr>\n",
       "      <th>25%</th>\n",
       "      <td>20.352353</td>\n",
       "      <td>18.965230</td>\n",
       "      <td>18.135828</td>\n",
       "      <td>17.732285</td>\n",
       "      <td>17.460677</td>\n",
       "      <td>0.054517</td>\n",
       "    </tr>\n",
       "    <tr>\n",
       "      <th>50%</th>\n",
       "      <td>22.179135</td>\n",
       "      <td>21.099835</td>\n",
       "      <td>20.125290</td>\n",
       "      <td>19.405145</td>\n",
       "      <td>19.004595</td>\n",
       "      <td>0.424173</td>\n",
       "    </tr>\n",
       "    <tr>\n",
       "      <th>75%</th>\n",
       "      <td>23.687440</td>\n",
       "      <td>22.123767</td>\n",
       "      <td>21.044785</td>\n",
       "      <td>20.396495</td>\n",
       "      <td>19.921120</td>\n",
       "      <td>0.704154</td>\n",
       "    </tr>\n",
       "    <tr>\n",
       "      <th>max</th>\n",
       "      <td>32.781390</td>\n",
       "      <td>31.602240</td>\n",
       "      <td>29.571860</td>\n",
       "      <td>32.141470</td>\n",
       "      <td>29.383740</td>\n",
       "      <td>7.011245</td>\n",
       "    </tr>\n",
       "  </tbody>\n",
       "</table>\n",
       "</div>"
      ],
      "text/plain": [
       "                   u              g              r              i  \\\n",
       "count  100000.000000  100000.000000  100000.000000  100000.000000   \n",
       "mean       21.980468      20.531387      19.645762      19.084854   \n",
       "std        31.769291      31.750292       1.854760       1.757895   \n",
       "min     -9999.000000   -9999.000000       9.822070       9.469903   \n",
       "25%        20.352353      18.965230      18.135828      17.732285   \n",
       "50%        22.179135      21.099835      20.125290      19.405145   \n",
       "75%        23.687440      22.123767      21.044785      20.396495   \n",
       "max        32.781390      31.602240      29.571860      32.141470   \n",
       "\n",
       "                   z       redshift  \n",
       "count  100000.000000  100000.000000  \n",
       "mean       18.668810       0.576661  \n",
       "std        31.728152       0.730707  \n",
       "min     -9999.000000      -0.009971  \n",
       "25%        17.460677       0.054517  \n",
       "50%        19.004595       0.424173  \n",
       "75%        19.921120       0.704154  \n",
       "max        29.383740       7.011245  "
      ]
     },
     "execution_count": 7,
     "metadata": {},
     "output_type": "execute_result"
    }
   ],
   "source": [
    "df2.describe()"
   ]
  },
  {
   "cell_type": "markdown",
   "metadata": {},
   "source": [
    "<p>A <strong>boxplot</strong> suggests outlier(s) at u, g, and z.</p>"
   ]
  },
  {
   "cell_type": "code",
   "execution_count": 8,
   "metadata": {},
   "outputs": [
    {
     "data": {
      "text/plain": [
       "<AxesSubplot:>"
      ]
     },
     "execution_count": 8,
     "metadata": {},
     "output_type": "execute_result"
    },
    {
     "data": {
      "image/png": "[encoded data removed]",
      "text/plain": [
       "<Figure size 432x288 with 1 Axes>"
      ]
     },
     "metadata": {
      "needs_background": "light"
     },
     "output_type": "display_data"
    }
   ],
   "source": [
    "sns.boxplot(data=df2.select_dtypes('float64'))"
   ]
  },
  {
   "cell_type": "code",
   "execution_count": 9,
   "metadata": {},
   "outputs": [],
   "source": [
    "#generate 3 separately series sorted in ascending order  \n",
    "temp = {}\n",
    "for key in ['u','g','z']:\n",
    "    temp[key] = df2[key].sort_values().values"
   ]
  },
  {
   "cell_type": "code",
   "execution_count": 10,
   "metadata": {},
   "outputs": [
    {
     "data": {
      "text/html": [
       "<div>\n",
       "<style scoped>\n",
       "    .dataframe tbody tr th:only-of-type {\n",
       "        vertical-align: middle;\n",
       "    }\n",
       "\n",
       "    .dataframe tbody tr th {\n",
       "        vertical-align: top;\n",
       "    }\n",
       "\n",
       "    .dataframe thead th {\n",
       "        text-align: right;\n",
       "    }\n",
       "</style>\n",
       "<table border=\"1\" class=\"dataframe\">\n",
       "  <thead>\n",
       "    <tr style=\"text-align: right;\">\n",
       "      <th></th>\n",
       "      <th>u</th>\n",
       "      <th>g</th>\n",
       "      <th>z</th>\n",
       "    </tr>\n",
       "  </thead>\n",
       "  <tbody>\n",
       "    <tr>\n",
       "      <th>0</th>\n",
       "      <td>-9999.00000</td>\n",
       "      <td>-9999.00000</td>\n",
       "      <td>-9999.000000</td>\n",
       "    </tr>\n",
       "    <tr>\n",
       "      <th>1</th>\n",
       "      <td>10.99623</td>\n",
       "      <td>10.49820</td>\n",
       "      <td>9.612333</td>\n",
       "    </tr>\n",
       "    <tr>\n",
       "      <th>2</th>\n",
       "      <td>12.10168</td>\n",
       "      <td>10.51139</td>\n",
       "      <td>10.225510</td>\n",
       "    </tr>\n",
       "    <tr>\n",
       "      <th>3</th>\n",
       "      <td>12.26240</td>\n",
       "      <td>10.67180</td>\n",
       "      <td>10.441310</td>\n",
       "    </tr>\n",
       "    <tr>\n",
       "      <th>4</th>\n",
       "      <td>12.30349</td>\n",
       "      <td>10.73097</td>\n",
       "      <td>10.650560</td>\n",
       "    </tr>\n",
       "  </tbody>\n",
       "</table>\n",
       "</div>"
      ],
      "text/plain": [
       "            u           g            z\n",
       "0 -9999.00000 -9999.00000 -9999.000000\n",
       "1    10.99623    10.49820     9.612333\n",
       "2    12.10168    10.51139    10.225510\n",
       "3    12.26240    10.67180    10.441310\n",
       "4    12.30349    10.73097    10.650560"
      ]
     },
     "execution_count": 10,
     "metadata": {},
     "output_type": "execute_result"
    }
   ],
   "source": [
    "#the index does not correspond to the original dataframe\n",
    "temp = pd.DataFrame(temp).head(5) \n",
    "temp"
   ]
  },
  {
   "cell_type": "code",
   "execution_count": 11,
   "metadata": {},
   "outputs": [
    {
     "data": {
      "text/html": [
       "<div>\n",
       "<style scoped>\n",
       "    .dataframe tbody tr th:only-of-type {\n",
       "        vertical-align: middle;\n",
       "    }\n",
       "\n",
       "    .dataframe tbody tr th {\n",
       "        vertical-align: top;\n",
       "    }\n",
       "\n",
       "    .dataframe thead th {\n",
       "        text-align: right;\n",
       "    }\n",
       "</style>\n",
       "<table border=\"1\" class=\"dataframe\">\n",
       "  <thead>\n",
       "    <tr style=\"text-align: right;\">\n",
       "      <th></th>\n",
       "      <th>u</th>\n",
       "      <th>g</th>\n",
       "      <th>r</th>\n",
       "      <th>i</th>\n",
       "      <th>z</th>\n",
       "      <th>class</th>\n",
       "      <th>redshift</th>\n",
       "    </tr>\n",
       "  </thead>\n",
       "  <tbody>\n",
       "    <tr>\n",
       "      <th>79543</th>\n",
       "      <td>-9999.0</td>\n",
       "      <td>-9999.0</td>\n",
       "      <td>18.1656</td>\n",
       "      <td>18.01675</td>\n",
       "      <td>-9999.0</td>\n",
       "      <td>STAR</td>\n",
       "      <td>0.000089</td>\n",
       "    </tr>\n",
       "  </tbody>\n",
       "</table>\n",
       "</div>"
      ],
      "text/plain": [
       "            u       g        r         i       z class  redshift\n",
       "79543 -9999.0 -9999.0  18.1656  18.01675 -9999.0  STAR  0.000089"
      ]
     },
     "execution_count": 11,
     "metadata": {},
     "output_type": "execute_result"
    }
   ],
   "source": [
    "df2[df2['u']==df2['u'].min()]"
   ]
  },
  {
   "cell_type": "markdown",
   "metadata": {},
   "source": [
    "<p> It happens to be one outlier with very low u, g, and z (row 79543) which should be dropped. After removing this data point, the distributions still have data points outside the 1.5 interquartile range. </p>"
   ]
  },
  {
   "cell_type": "code",
   "execution_count": 12,
   "metadata": {},
   "outputs": [],
   "source": [
    "df3 = df2.drop(79543).reset_index(drop=True)"
   ]
  },
  {
   "cell_type": "code",
   "execution_count": 13,
   "metadata": {},
   "outputs": [
    {
     "data": {
      "text/plain": [
       "<AxesSubplot:>"
      ]
     },
     "execution_count": 13,
     "metadata": {},
     "output_type": "execute_result"
    },
    {
     "data": {
      "image/png": "[encoded data removed]",
      "text/plain": [
       "<Figure size 432x288 with 1 Axes>"
      ]
     },
     "metadata": {
      "needs_background": "light"
     },
     "output_type": "display_data"
    }
   ],
   "source": [
    "sns.boxplot(data=df3)"
   ]
  },
  {
   "cell_type": "markdown",
   "metadata": {},
   "source": [
    "<p> Below is a summary of the characteristics of the dataset which inform further feature engineering:</p>\n",
    "<ul>\n",
    "    <li> There are <strong>3 Target Classes:</strong>GALAXY, STAR, and QSO</li>\n",
    "    <li> All features are continuous but in slightly different scales</li>\n",
    "    <li> <strong>Redshift, u, g, r, i, z</strong> have <strong>outliers</strong> outside the IQR</li> \n",
    "</p>"
   ]
  },
  {
   "cell_type": "markdown",
   "metadata": {},
   "source": [
    "<h2> Feature Selection and Engineering </h2>"
   ]
  },
  {
   "cell_type": "markdown",
   "metadata": {},
   "source": [
    "<p>First drop data points <strong>outside 1.5 IQR</strong>.</p>"
   ]
  },
  {
   "cell_type": "code",
   "execution_count": 14,
   "metadata": {},
   "outputs": [],
   "source": [
    "#obtaining the 1.5IQR for a column\n",
    "def iqr(col):\n",
    "    q1 = col.quantile(0.25)\n",
    "    q3 = col.quantile(0.75)\n",
    "    iqr = q3-q1\n",
    "    return q1-1.5*iqr, q3+1.5*iqr"
   ]
  },
  {
   "cell_type": "code",
   "execution_count": 15,
   "metadata": {},
   "outputs": [],
   "source": [
    "df4 = df3.copy()"
   ]
  },
  {
   "cell_type": "code",
   "execution_count": 16,
   "metadata": {},
   "outputs": [
    {
     "name": "stdout",
     "output_type": "stream",
     "text": [
      "(90632, 7)\n"
     ]
    },
    {
     "data": {
      "text/plain": [
       "<AxesSubplot:>"
      ]
     },
     "execution_count": 16,
     "metadata": {},
     "output_type": "execute_result"
    },
    {
     "data": {
      "image/png": "[encoded data removed]",
      "text/plain": [
       "<Figure size 1080x432 with 3 Axes>"
      ]
     },
     "metadata": {
      "needs_background": "light"
     },
     "output_type": "display_data"
    }
   ],
   "source": [
    "#remove data points outside 1.5 IQR for each column iteratively\n",
    "for col in df4.drop('class', axis=1).columns:\n",
    "    lq, uq = iqr(df[col])\n",
    "    df4 = df4[(df4[col] >= lq) & (df4[col] <= uq)]\n",
    "print(df4.shape)\n",
    "\n",
    "fig, ax = plt.subplots(1,2, figsize=(15,6))\n",
    "sns.boxplot(data=df4, ax=ax[0])\n",
    "sns.heatmap(df4.drop('class', axis=1).corr(), annot=True, ax=ax[1], cmap='Blues')"
   ]
  },
  {
   "cell_type": "markdown",
   "metadata": {},
   "source": [
    "<p> The features are quite positively correlated</p> "
   ]
  },
  {
   "cell_type": "markdown",
   "metadata": {},
   "source": [
    "<h2> Model Training </h2>"
   ]
  },
  {
   "cell_type": "markdown",
   "metadata": {},
   "source": [
    "<p> Three models are selected to fit the data to serve different purposes.</p>\n",
    "<ol><strong>\n",
    "    <li>Logistic Regression - interpretability</li>\n",
    "    <li>Random Forest - ensemble method</li>\n",
    "    <li>Gradient Boosting - boosting</li>\n",
    "</ol></strong>\n",
    "\n",
    "<p> They will be evaluated by accuracy metrics. </p>"
   ]
  },
  {
   "cell_type": "code",
   "execution_count": 17,
   "metadata": {},
   "outputs": [],
   "source": [
    "from sklearn.preprocessing import MinMaxScaler\n",
    "from sklearn.model_selection import train_test_split, GridSearchCV, StratifiedKFold\n",
    "from sklearn.linear_model import LogisticRegression as LGR\n",
    "from sklearn.tree import DecisionTreeClassifier as DT\n",
    "from sklearn.ensemble import RandomForestClassifier as RF\n",
    "from sklearn.ensemble import GradientBoostingClassifier as GBC, AdaBoostClassifier as ABC"
   ]
  },
  {
   "cell_type": "markdown",
   "metadata": {},
   "source": [
    "<p> First perform <strong>Min-max scaling</strong> followed by <strong>train_test_split</strong>. This is to ensure all features share the same scale for fitting the coefficients. </p>"
   ]
  },
  {
   "cell_type": "code",
   "execution_count": 18,
   "metadata": {},
   "outputs": [],
   "source": [
    "x, y = df4.drop('class', axis=1), df4['class']"
   ]
  },
  {
   "cell_type": "code",
   "execution_count": 19,
   "metadata": {},
   "outputs": [
    {
     "data": {
      "text/html": [
       "<div>\n",
       "<style scoped>\n",
       "    .dataframe tbody tr th:only-of-type {\n",
       "        vertical-align: middle;\n",
       "    }\n",
       "\n",
       "    .dataframe tbody tr th {\n",
       "        vertical-align: top;\n",
       "    }\n",
       "\n",
       "    .dataframe thead th {\n",
       "        text-align: right;\n",
       "    }\n",
       "</style>\n",
       "<table border=\"1\" class=\"dataframe\">\n",
       "  <thead>\n",
       "    <tr style=\"text-align: right;\">\n",
       "      <th></th>\n",
       "      <th>u</th>\n",
       "      <th>g</th>\n",
       "      <th>r</th>\n",
       "      <th>i</th>\n",
       "      <th>z</th>\n",
       "      <th>redshift</th>\n",
       "    </tr>\n",
       "  </thead>\n",
       "  <tbody>\n",
       "    <tr>\n",
       "      <th>73148</th>\n",
       "      <td>0.538544</td>\n",
       "      <td>0.594871</td>\n",
       "      <td>0.670937</td>\n",
       "      <td>0.703686</td>\n",
       "      <td>0.795114</td>\n",
       "      <td>0.962185</td>\n",
       "    </tr>\n",
       "    <tr>\n",
       "      <th>7369</th>\n",
       "      <td>0.607628</td>\n",
       "      <td>0.652245</td>\n",
       "      <td>0.572886</td>\n",
       "      <td>0.550141</td>\n",
       "      <td>0.558957</td>\n",
       "      <td>0.349717</td>\n",
       "    </tr>\n",
       "    <tr>\n",
       "      <th>45984</th>\n",
       "      <td>0.828224</td>\n",
       "      <td>0.612452</td>\n",
       "      <td>0.463324</td>\n",
       "      <td>0.401191</td>\n",
       "      <td>0.381220</td>\n",
       "      <td>0.441211</td>\n",
       "    </tr>\n",
       "  </tbody>\n",
       "</table>\n",
       "</div>"
      ],
      "text/plain": [
       "              u         g         r         i         z  redshift\n",
       "73148  0.538544  0.594871  0.670937  0.703686  0.795114  0.962185\n",
       "7369   0.607628  0.652245  0.572886  0.550141  0.558957  0.349717\n",
       "45984  0.828224  0.612452  0.463324  0.401191  0.381220  0.441211"
      ]
     },
     "execution_count": 19,
     "metadata": {},
     "output_type": "execute_result"
    }
   ],
   "source": [
    "mm = MinMaxScaler()\n",
    "for col in x.columns:\n",
    "    x[col] = mm.fit_transform(x[[col]])\n",
    "    \n",
    "x.sample(3)"
   ]
  },
  {
   "cell_type": "markdown",
   "metadata": {},
   "source": [
    "<p> The dataset is imbalanced</p>"
   ]
  },
  {
   "cell_type": "code",
   "execution_count": 20,
   "metadata": {},
   "outputs": [
    {
     "data": {
      "text/plain": [
       "GALAXY    0.652441\n",
       "STAR      0.237378\n",
       "QSO       0.110182\n",
       "Name: class, dtype: float64"
      ]
     },
     "execution_count": 20,
     "metadata": {},
     "output_type": "execute_result"
    }
   ],
   "source": [
    "y.value_counts(normalize=True)"
   ]
  },
  {
   "cell_type": "code",
   "execution_count": 21,
   "metadata": {},
   "outputs": [],
   "source": [
    "x_train, x_test, y_train, y_test = train_test_split(x, y, test_size=0.3, stratify=y)"
   ]
  },
  {
   "cell_type": "markdown",
   "metadata": {},
   "source": [
    "<p> <strong>Random Under Sampling and SMOTE</strong> are used to further transform the samples </p>"
   ]
  },
  {
   "cell_type": "code",
   "execution_count": 22,
   "metadata": {},
   "outputs": [],
   "source": [
    "from imblearn.over_sampling import SMOTE\n",
    "from imblearn.under_sampling import RandomUnderSampler"
   ]
  },
  {
   "cell_type": "code",
   "execution_count": 23,
   "metadata": {},
   "outputs": [],
   "source": [
    "smote = SMOTE()\n",
    "under = RandomUnderSampler()\n",
    "\n",
    "x_smo, y_smo = smote.fit_resample(x_train, y_train)\n",
    "x_under, y_under = under.fit_resample(x_train, y_train)"
   ]
  },
  {
   "cell_type": "markdown",
   "metadata": {},
   "source": [
    "<p> Define model builders to run GridSearchCV with different hpyerparameters.  Then compute the best_estimator with score with original (without resampling), SMO, and UnderSampling datasets.</p>"
   ]
  },
  {
   "cell_type": "markdown",
   "metadata": {},
   "source": [
    "<h4>1. Logistic Regression </h4>"
   ]
  },
  {
   "cell_type": "code",
   "execution_count": 24,
   "metadata": {},
   "outputs": [],
   "source": [
    "def build_lgr(x_train, y_train, class_weight=['balanced'], scoring='f1_macro'): \n",
    "    lgr = LGR(solver='saga', multi_class='multinomial', random_state=42) #only saga supports multinomial + L1/L2 penalty\n",
    "\n",
    "    params_lgr = {'penalty':['none','l1','l2'],\n",
    "                  'class_weight':class_weight,\n",
    "                  'C':[0.001, 0.01, 0.1, 1, 10]}\n",
    "\n",
    "    grid = GridSearchCV(lgr, params_lgr, cv=StratifiedKFold(n_splits=4), scoring=scoring)\n",
    "    grid.fit(x_train, y_train)\n",
    "    \n",
    "    print('Best score:', grid.best_score_)\n",
    "    print(grid.best_estimator_)\n",
    "   \n",
    "    return grid"
   ]
  },
  {
   "cell_type": "markdown",
   "metadata": {},
   "source": [
    "<p>For skewed dataset, there is an additional option for equal class weights </p> "
   ]
  },
  {
   "cell_type": "code",
   "execution_count": 25,
   "metadata": {},
   "outputs": [
    {
     "name": "stdout",
     "output_type": "stream",
     "text": [
      "Best score: 0.9255603849033768\n",
      "LogisticRegression(C=0.001, class_weight={'GALAXY': 1, 'QSO': 1, 'STAR': 1},\n",
      "                   multi_class='multinomial', penalty='none', random_state=42,\n",
      "                   solver='saga')\n"
     ]
    }
   ],
   "source": [
    "lgr = build_lgr(x_train, y_train, class_weight=['balanced', {'GALAXY':1, 'QSO':1, 'STAR':1}])"
   ]
  },
  {
   "cell_type": "code",
   "execution_count": 26,
   "metadata": {},
   "outputs": [
    {
     "name": "stdout",
     "output_type": "stream",
     "text": [
      "Best score: 0.9345492436601068\n",
      "LogisticRegression(C=0.001, class_weight='balanced', multi_class='multinomial',\n",
      "                   penalty='none', random_state=42, solver='saga')\n"
     ]
    }
   ],
   "source": [
    "lgr_smo = build_lgr(x_smo, y_smo)"
   ]
  },
  {
   "cell_type": "code",
   "execution_count": 27,
   "metadata": {},
   "outputs": [
    {
     "name": "stdout",
     "output_type": "stream",
     "text": [
      "Best score: 0.9317292886312821\n",
      "LogisticRegression(C=0.001, class_weight='balanced', multi_class='multinomial',\n",
      "                   penalty='none', random_state=42, solver='saga')\n"
     ]
    }
   ],
   "source": [
    "lgr_under = build_lgr(x_under, y_under)"
   ]
  },
  {
   "cell_type": "markdown",
   "metadata": {},
   "source": [
    "<h4> 2. Random Forest </h4>"
   ]
  },
  {
   "cell_type": "code",
   "execution_count": 28,
   "metadata": {},
   "outputs": [],
   "source": [
    "def build_rf(x_train, y_train, class_weight=['balanced','balanced_subsample'], scoring='f1_macro'):\n",
    "    rf = RF(oob_score=True, random_state=42)\n",
    "\n",
    "    params = {'n_estimators': [10*(n+1) for n in range(30)],\n",
    "              'max_depth' : [2*n+1 for n in range(2) ], #only 6 features\n",
    "              'max_features':[\"sqrt\", \"log2\"],\n",
    "              'class_weight':class_weight}\n",
    "\n",
    "    grid = GridSearchCV(rf, params, cv=4, scoring=scoring, n_jobs=-1)\n",
    "    grid.fit(x_train, y_train)\n",
    "    print('Best score:', grid.best_score_)\n",
    "    print(grid.best_estimator_)\n",
    "   \n",
    "    return grid"
   ]
  },
  {
   "cell_type": "code",
   "execution_count": 29,
   "metadata": {},
   "outputs": [
    {
     "name": "stdout",
     "output_type": "stream",
     "text": [
      "Best score: 0.9005525138868297\n",
      "RandomForestClassifier(class_weight='balanced', max_depth=3, n_estimators=40,\n",
      "                       oob_score=True, random_state=42)\n"
     ]
    }
   ],
   "source": [
    "rf = build_rf(x_train, y_train, ['balanced','balanced_subsample',{'GALAXY':1, 'QSO':1, 'STAR':1}])"
   ]
  },
  {
   "cell_type": "code",
   "execution_count": 30,
   "metadata": {},
   "outputs": [
    {
     "name": "stdout",
     "output_type": "stream",
     "text": [
      "Best score: 0.9307016994993953\n",
      "RandomForestClassifier(class_weight='balanced_subsample', max_depth=3,\n",
      "                       n_estimators=40, oob_score=True, random_state=42)\n"
     ]
    }
   ],
   "source": [
    "rf_smo = build_rf(x_smo, y_smo)"
   ]
  },
  {
   "cell_type": "code",
   "execution_count": 31,
   "metadata": {},
   "outputs": [
    {
     "name": "stdout",
     "output_type": "stream",
     "text": [
      "Best score: 0.9303451552394556\n",
      "RandomForestClassifier(class_weight='balanced', max_depth=3, n_estimators=40,\n",
      "                       oob_score=True, random_state=42)\n"
     ]
    }
   ],
   "source": [
    "rf_under = build_rf(x_under, y_under)"
   ]
  },
  {
   "cell_type": "markdown",
   "metadata": {},
   "source": [
    "<h4> 3. Gradient Boosting </h4>"
   ]
  },
  {
   "cell_type": "code",
   "execution_count": 32,
   "metadata": {},
   "outputs": [],
   "source": [
    "def build_gbc(x_train, y_train, class_weight=['balanced','balanced_subsample'], scoring='f1_macro'):\n",
    "    gbc = GBC(random_state=42)\n",
    "\n",
    "    params = {'n_estimators': [10, 20, 40, 100, 200, 400],\n",
    "              'learning_rate': [0.001, 0.01, 0.1],\n",
    "              'subsample': [1.0, 0.5],\n",
    "              'max_features': [1, 2, 3, 4]}\n",
    "\n",
    "    grid = GridSearchCV(gbc, params, cv=4, scoring=scoring, n_jobs=-1)\n",
    "    grid.fit(x_train, y_train)\n",
    "    \n",
    "    print('Best score:', grid.best_score_)\n",
    "    print(grid.best_estimator_)\n",
    "   \n",
    "    return grid"
   ]
  },
  {
   "cell_type": "code",
   "execution_count": 33,
   "metadata": {
    "scrolled": true
   },
   "outputs": [
    {
     "name": "stdout",
     "output_type": "stream",
     "text": [
      "Best score: 0.9544487863450312\n",
      "GradientBoostingClassifier(max_features=2, n_estimators=400, random_state=42)\n"
     ]
    }
   ],
   "source": [
    "gbc = build_gbc(x_train, y_train)"
   ]
  },
  {
   "cell_type": "code",
   "execution_count": 34,
   "metadata": {
    "scrolled": true
   },
   "outputs": [
    {
     "name": "stdout",
     "output_type": "stream",
     "text": [
      "Best score: 0.9631460394360145\n",
      "GradientBoostingClassifier(max_features=4, n_estimators=400, random_state=42)\n"
     ]
    }
   ],
   "source": [
    "gbc_smo = build_gbc(x_smo, y_smo)"
   ]
  },
  {
   "cell_type": "code",
   "execution_count": 35,
   "metadata": {},
   "outputs": [
    {
     "name": "stdout",
     "output_type": "stream",
     "text": [
      "Best score: 0.9578549308757139\n",
      "GradientBoostingClassifier(max_features=2, n_estimators=400, random_state=42)\n"
     ]
    }
   ],
   "source": [
    "gbc_under = build_gbc(x_under, y_under)"
   ]
  },
  {
   "cell_type": "markdown",
   "metadata": {},
   "source": [
    "<h3> Model Evaluation </h3>"
   ]
  },
  {
   "cell_type": "markdown",
   "metadata": {},
   "source": [
    "<p> From the above models, it is observed that <strong>SMOTE resampling</strong> gives the best fit in all models and produces a <strong>training score over 0.93</strong>. </p>\n",
    "<p> For logistic regression, the coefficients for individual class are further analysed.</p>"
   ]
  },
  {
   "cell_type": "code",
   "execution_count": 85,
   "metadata": {},
   "outputs": [
    {
     "data": {
      "text/html": [
       "<div>\n",
       "<style scoped>\n",
       "    .dataframe tbody tr th:only-of-type {\n",
       "        vertical-align: middle;\n",
       "    }\n",
       "\n",
       "    .dataframe tbody tr th {\n",
       "        vertical-align: top;\n",
       "    }\n",
       "\n",
       "    .dataframe thead th {\n",
       "        text-align: right;\n",
       "    }\n",
       "</style>\n",
       "<table border=\"1\" class=\"dataframe\">\n",
       "  <thead>\n",
       "    <tr style=\"text-align: right;\">\n",
       "      <th></th>\n",
       "      <th>u</th>\n",
       "      <th>g</th>\n",
       "      <th>r</th>\n",
       "      <th>i</th>\n",
       "      <th>z</th>\n",
       "      <th>redshift</th>\n",
       "    </tr>\n",
       "  </thead>\n",
       "  <tbody>\n",
       "    <tr>\n",
       "      <th>GALAXY</th>\n",
       "      <td>0.998036</td>\n",
       "      <td>5.602135</td>\n",
       "      <td>3.519769</td>\n",
       "      <td>-9.228714</td>\n",
       "      <td>1.452900</td>\n",
       "      <td>135.437668</td>\n",
       "    </tr>\n",
       "    <tr>\n",
       "      <th>QSO</th>\n",
       "      <td>-5.241386</td>\n",
       "      <td>-5.599343</td>\n",
       "      <td>-5.322326</td>\n",
       "      <td>11.434273</td>\n",
       "      <td>0.826174</td>\n",
       "      <td>143.779047</td>\n",
       "    </tr>\n",
       "    <tr>\n",
       "      <th>STAR</th>\n",
       "      <td>4.243350</td>\n",
       "      <td>-0.002791</td>\n",
       "      <td>1.802557</td>\n",
       "      <td>-2.205559</td>\n",
       "      <td>-2.279075</td>\n",
       "      <td>-279.216715</td>\n",
       "    </tr>\n",
       "  </tbody>\n",
       "</table>\n",
       "</div>"
      ],
      "text/plain": [
       "               u         g         r          i         z    redshift\n",
       "GALAXY  0.998036  5.602135  3.519769  -9.228714  1.452900  135.437668\n",
       "QSO    -5.241386 -5.599343 -5.322326  11.434273  0.826174  143.779047\n",
       "STAR    4.243350 -0.002791  1.802557  -2.205559 -2.279075 -279.216715"
      ]
     },
     "execution_count": 85,
     "metadata": {},
     "output_type": "execute_result"
    }
   ],
   "source": [
    "pd.DataFrame(data=lgr_smo.best_estimator_.coef_, \n",
    "             index=lgr_smo.best_estimator_.classes_, \n",
    "             columns=x.columns)"
   ]
  },
  {
   "cell_type": "markdown",
   "metadata": {},
   "source": [
    "<p><strong>Redshift</strong> is the dominating factor for predicting the class. It is about 2 orders higher than the other measuresments.</p>\n",
    "<p> Coefficients of Redshift for Galaxy and QSO are close. It suggests <strong>GALAXY and QSO </strong> may be <strong>prone to mis-classification</strong>.</p>\n",
    "<p> Redshift of STAR has the opposite sign with that of GALAXY and QSO, suggesting it can be easily distinguished from the latter two.</p>"
   ]
  },
  {
   "cell_type": "markdown",
   "metadata": {},
   "source": [
    "<p>Next is to compare the predictions in Logistic Regression, Random Forest, and Gradient Boosting models trained with SMOTE resampling.</p>"
   ]
  },
  {
   "cell_type": "code",
   "execution_count": 94,
   "metadata": {},
   "outputs": [],
   "source": [
    "from sklearn.metrics import confusion_matrix, precision_recall_fscore_support, classification_report, accuracy_score"
   ]
  },
  {
   "cell_type": "code",
   "execution_count": 101,
   "metadata": {},
   "outputs": [],
   "source": [
    "def evaluate(grid, x_test=x_test, y_test=y_test):\n",
    "    result = {}\n",
    "    y_pred = grid.best_estimator_.predict(x_test)\n",
    "    print(classification_report(y_test, y_pred))\n",
    "    \n",
    "    result['Accuracy'] = accuracy_score(y_test, y_pred)\n",
    "    result['Precision'], result['Recall'], result['F1_macro'], _ = \\\n",
    "    precision_recall_fscore_support(y_test, y_pred, average='macro')\n",
    "    return result"
   ]
  },
  {
   "cell_type": "code",
   "execution_count": 103,
   "metadata": {},
   "outputs": [
    {
     "name": "stdout",
     "output_type": "stream",
     "text": [
      "Logistic Regression\n",
      "              precision    recall  f1-score   support\n",
      "\n",
      "      GALAXY       0.98      0.92      0.95     17740\n",
      "         QSO       0.69      0.89      0.78      2996\n",
      "        STAR       0.97      1.00      0.98      6454\n",
      "\n",
      "    accuracy                           0.94     27190\n",
      "   macro avg       0.88      0.94      0.90     27190\n",
      "weighted avg       0.95      0.94      0.94     27190\n",
      "\n",
      "Random Forest\n",
      "              precision    recall  f1-score   support\n",
      "\n",
      "      GALAXY       0.98      0.92      0.95     17740\n",
      "         QSO       0.68      0.87      0.77      2996\n",
      "        STAR       0.98      1.00      0.99      6454\n",
      "\n",
      "    accuracy                           0.94     27190\n",
      "   macro avg       0.88      0.93      0.90     27190\n",
      "weighted avg       0.95      0.94      0.94     27190\n",
      "\n",
      "Gradient Boosting\n",
      "              precision    recall  f1-score   support\n",
      "\n",
      "      GALAXY       0.99      0.96      0.97     17740\n",
      "         QSO       0.80      0.92      0.85      2996\n",
      "        STAR       0.98      1.00      0.99      6454\n",
      "\n",
      "    accuracy                           0.96     27190\n",
      "   macro avg       0.92      0.96      0.94     27190\n",
      "weighted avg       0.96      0.96      0.96     27190\n",
      "\n"
     ]
    }
   ],
   "source": [
    "print('Logistic Regression')\n",
    "lgr_score = evaluate(lgr_smo)\n",
    "\n",
    "print('Random Forest')\n",
    "rf_score = evaluate(rf_smo)\n",
    "\n",
    "print('Gradient Boosting')\n",
    "gbc_score = evaluate(gbc_smo)"
   ]
  },
  {
   "cell_type": "code",
   "execution_count": 100,
   "metadata": {},
   "outputs": [
    {
     "data": {
      "text/html": [
       "<div>\n",
       "<style scoped>\n",
       "    .dataframe tbody tr th:only-of-type {\n",
       "        vertical-align: middle;\n",
       "    }\n",
       "\n",
       "    .dataframe tbody tr th {\n",
       "        vertical-align: top;\n",
       "    }\n",
       "\n",
       "    .dataframe thead th {\n",
       "        text-align: right;\n",
       "    }\n",
       "</style>\n",
       "<table border=\"1\" class=\"dataframe\">\n",
       "  <thead>\n",
       "    <tr style=\"text-align: right;\">\n",
       "      <th></th>\n",
       "      <th>Random Forest</th>\n",
       "      <th>Logistic Regression</th>\n",
       "      <th>Gradient Boosting</th>\n",
       "    </tr>\n",
       "  </thead>\n",
       "  <tbody>\n",
       "    <tr>\n",
       "      <th>Accuracy</th>\n",
       "      <td>0.936594</td>\n",
       "      <td>0.936116</td>\n",
       "      <td>0.961456</td>\n",
       "    </tr>\n",
       "    <tr>\n",
       "      <th>Precision</th>\n",
       "      <td>0.880461</td>\n",
       "      <td>0.879564</td>\n",
       "      <td>0.922741</td>\n",
       "    </tr>\n",
       "    <tr>\n",
       "      <th>Recall</th>\n",
       "      <td>0.937178</td>\n",
       "      <td>0.932131</td>\n",
       "      <td>0.956815</td>\n",
       "    </tr>\n",
       "    <tr>\n",
       "      <th>F1_macro</th>\n",
       "      <td>0.904360</td>\n",
       "      <td>0.901713</td>\n",
       "      <td>0.938347</td>\n",
       "    </tr>\n",
       "  </tbody>\n",
       "</table>\n",
       "</div>"
      ],
      "text/plain": [
       "           Random Forest  Logistic Regression  Gradient Boosting\n",
       "Accuracy        0.936594             0.936116           0.961456\n",
       "Precision       0.880461             0.879564           0.922741\n",
       "Recall          0.937178             0.932131           0.956815\n",
       "F1_macro        0.904360             0.901713           0.938347"
      ]
     },
     "execution_count": 100,
     "metadata": {},
     "output_type": "execute_result"
    }
   ],
   "source": [
    "pd.DataFrame([lgr_score, rf_score, gbc_score], index={'Logistic Regression','Random Forest','Gradient Boosting'}).T"
   ]
  },
  {
   "cell_type": "markdown",
   "metadata": {},
   "source": [
    "<p><strong>Graident Boosting</strong> gives the best overall prediction result.</p>\n",
    "<p>It is further seen the models have <strong>close-to-1 recall</strong> in predicting <strong>STAR</strong>. It "
   ]
  },
  {
   "cell_type": "code",
   "execution_count": 66,
   "metadata": {
    "scrolled": true
   },
   "outputs": [
    {
     "data": {
      "image/png": "[encoded data removed]",
      "text/plain": [
       "<Figure size 1296x360 with 6 Axes>"
      ]
     },
     "metadata": {
      "needs_background": "light"
     },
     "output_type": "display_data"
    }
   ],
   "source": [
    "fig, ax = plt.subplots(1,3, figsize=(18,5),sharey=True)\n",
    "model_names = ['Logistic Regression','Random Forest','Gradient Boosting']\n",
    "labels = ['GALAXY','QSO','STAR']\n",
    "\n",
    "for idx, grid in enumerate([lgr_smo, rf_smo, gbc_smo]):\n",
    "    y_pred = grid.best_estimator_.predict(x_test)\n",
    "    cm = confusion_matrix(y_test, y_pred)\n",
    "    sns.heatmap(cm, annot=True, fmt='g', ax=ax[idx], xticklabels=labels, yticklabels=labels, cmap='Blues')\n",
    "    ax[idx].set_xlabel('{}, TP no.: {}'.format(model_names[idx], np.diag(cm).sum()))"
   ]
  },
  {
   "cell_type": "markdown",
   "metadata": {},
   "source": [
    "<p> A closer look at the <strong>Confusion Matrices</strong> suggests the Random Forest model always predicts STAR correctly at a trade-off of overall scores, while Gradient Boosting gives the best over predicting results.</p>"
   ]
  },
  {
   "cell_type": "markdown",
   "metadata": {},
   "source": [
    "<h2> Summary </h2>"
   ]
  },
  {
   "cell_type": "markdown",
   "metadata": {},
   "source": [
    "<p> From the above analysis, the <strong>best model</strong> in prediction is <strong>Gradient Boosting with SMOTE resampling</strong>, for this <strong>multi-class classification</strong> it achieves overall: </p>\n",
    "<ul>\n",
    "    <strong>\n",
    "    <li>Accuracy 0.961 </li><li>Precision 0.923 </li><li>Recall 0.957 </li><li>F1 score 0.938 </li>\n",
    "    </strong>\n",
    "    </ul>\n",
    "\n",
    "<p> As supported by the analysis on the coefficients the Logistic Regression model, <strong>Redshift</strong> is the dominating factor for predicting the class. It is about 2 orders higher than the other measuresments.</p>\n",
    "<p> Coefficients of Redshift for Galaxy and QSO are close. It suggests <strong>GALAXY and QSO </strong> may be <strong>easily mixed up</strong>.</p>\n",
    "<p> The coefficient of Redshift of <strong>STAR</strong> has the opposite sign with that of GALAXY and QSO, suggesting it can be <strong>easily distinguished</strong> from the rest, and it is evidenced by the prediction results.</p>\n",
    "<p>In particular, the Random Forest model, though with the lowest scores among the models, could always predict STAR correctly using the testing data.</p>"
   ]
  },
  {
   "cell_type": "markdown",
   "metadata": {},
   "source": [
    "<h3> Possible Improvements </h3>\n",
    "<p> The authenticity of original dataset may be improved by <strong>clarification of further suspected (and dropped) outliers</strong>.</p>\n",
    "<p>A <strong>finer scale of hyperparameters</strong> may be deployed to refine the models. </p>"
   ]
  }
 ],
 "metadata": {
  "kernelspec": {
   "display_name": "Python 3 (ipykernel)",
   "language": "python",
   "name": "python3"
  },
  "language_info": {
   "codemirror_mode": {
    "name": "ipython",
    "version": 3
   },
   "file_extension": ".py",
   "mimetype": "text/x-python",
   "name": "python",
   "nbconvert_exporter": "python",
   "pygments_lexer": "ipython3",
   "version": "3.9.12"
  }
 },
 "nbformat": 4,
 "nbformat_minor": 4
}
