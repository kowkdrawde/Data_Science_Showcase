{
 "cells": [
  {
   "cell_type": "markdown",
   "metadata": {},
   "source": [
    "## Objective of this notebook\n",
    "To explore a dataset about credit card customer data and build **unsupervised learning models** to segment the customers. <br>\n",
    "The results may help analyse customers' behaviours and/or characteristics of a group."
   ]
  },
  {
   "cell_type": "markdown",
   "metadata": {},
   "source": [
    "## Source of dataset\n",
    "From Kaggle: [Credit Card Customer Data](https://www.kaggle.com/datasets/aryashah2k/credit-card-customer-data) <br>\n",
    "Features are average credit limit, numbers of credit cards, bank visits, online visits and calls."
   ]
  },
  {
   "cell_type": "markdown",
   "metadata": {},
   "source": [
    "<h2> Exploratory Data Analysis </h2>"
   ]
  },
  {
   "cell_type": "code",
   "execution_count": 1,
   "metadata": {},
   "outputs": [],
   "source": [
    "import numpy as np\n",
    "import pandas as pd\n",
    "import matplotlib.pyplot as plt\n",
    "import seaborn as sns\n",
    "import warnings\n",
    "warnings.filterwarnings('ignore')"
   ]
  },
  {
   "cell_type": "markdown",
   "metadata": {},
   "source": [
    "<p> <strong>Basic information</strong> of the dataset</p>"
   ]
  },
  {
   "cell_type": "code",
   "execution_count": 2,
   "metadata": {},
   "outputs": [
    {
     "name": "stdout",
     "output_type": "stream",
     "text": [
      "Dataset shape: (660, 7)\n",
      "Datatypes: [dtype('int64')]\n",
      "With null values: False\n"
     ]
    }
   ],
   "source": [
    "df = pd.read_csv('credit.csv')\n",
    "print('Dataset shape:',df.shape)\n",
    "print('Datatypes:', df.dtypes.unique())\n",
    "print('With null values:',df.isnull().values.any())"
   ]
  },
  {
   "cell_type": "code",
   "execution_count": 3,
   "metadata": {},
   "outputs": [
    {
     "data": {
      "text/html": [
       "<div>\n",
       "<style scoped>\n",
       "    .dataframe tbody tr th:only-of-type {\n",
       "        vertical-align: middle;\n",
       "    }\n",
       "\n",
       "    .dataframe tbody tr th {\n",
       "        vertical-align: top;\n",
       "    }\n",
       "\n",
       "    .dataframe thead th {\n",
       "        text-align: right;\n",
       "    }\n",
       "</style>\n",
       "<table border=\"1\" class=\"dataframe\">\n",
       "  <thead>\n",
       "    <tr style=\"text-align: right;\">\n",
       "      <th></th>\n",
       "      <th>Sl_No</th>\n",
       "      <th>Customer Key</th>\n",
       "      <th>Avg_Credit_Limit</th>\n",
       "      <th>Total_Credit_Cards</th>\n",
       "      <th>Total_visits_bank</th>\n",
       "      <th>Total_visits_online</th>\n",
       "      <th>Total_calls_made</th>\n",
       "    </tr>\n",
       "  </thead>\n",
       "  <tbody>\n",
       "    <tr>\n",
       "      <th>0</th>\n",
       "      <td>1</td>\n",
       "      <td>87073</td>\n",
       "      <td>100000</td>\n",
       "      <td>2</td>\n",
       "      <td>1</td>\n",
       "      <td>1</td>\n",
       "      <td>0</td>\n",
       "    </tr>\n",
       "    <tr>\n",
       "      <th>1</th>\n",
       "      <td>2</td>\n",
       "      <td>38414</td>\n",
       "      <td>50000</td>\n",
       "      <td>3</td>\n",
       "      <td>0</td>\n",
       "      <td>10</td>\n",
       "      <td>9</td>\n",
       "    </tr>\n",
       "    <tr>\n",
       "      <th>2</th>\n",
       "      <td>3</td>\n",
       "      <td>17341</td>\n",
       "      <td>50000</td>\n",
       "      <td>7</td>\n",
       "      <td>1</td>\n",
       "      <td>3</td>\n",
       "      <td>4</td>\n",
       "    </tr>\n",
       "  </tbody>\n",
       "</table>\n",
       "</div>"
      ],
      "text/plain": [
       "   Sl_No  Customer Key  Avg_Credit_Limit  Total_Credit_Cards  \\\n",
       "0      1         87073            100000                   2   \n",
       "1      2         38414             50000                   3   \n",
       "2      3         17341             50000                   7   \n",
       "\n",
       "   Total_visits_bank  Total_visits_online  Total_calls_made  \n",
       "0                  1                    1                 0  \n",
       "1                  0                   10                 9  \n",
       "2                  1                    3                 4  "
      ]
     },
     "execution_count": 3,
     "metadata": {},
     "output_type": "execute_result"
    }
   ],
   "source": [
    "df.head(3)"
   ]
  },
  {
   "cell_type": "code",
   "execution_count": 4,
   "metadata": {
    "scrolled": false
   },
   "outputs": [
    {
     "name": "stdout",
     "output_type": "stream",
     "text": [
      "<class 'pandas.core.frame.DataFrame'>\n",
      "RangeIndex: 660 entries, 0 to 659\n",
      "Data columns (total 7 columns):\n",
      " #   Column               Non-Null Count  Dtype\n",
      "---  ------               --------------  -----\n",
      " 0   Sl_No                660 non-null    int64\n",
      " 1   Customer Key         660 non-null    int64\n",
      " 2   Avg_Credit_Limit     660 non-null    int64\n",
      " 3   Total_Credit_Cards   660 non-null    int64\n",
      " 4   Total_visits_bank    660 non-null    int64\n",
      " 5   Total_visits_online  660 non-null    int64\n",
      " 6   Total_calls_made     660 non-null    int64\n",
      "dtypes: int64(7)\n",
      "memory usage: 36.2 KB\n"
     ]
    }
   ],
   "source": [
    "df.info()"
   ]
  },
  {
   "cell_type": "code",
   "execution_count": 5,
   "metadata": {},
   "outputs": [],
   "source": [
    "df.drop(['Sl_No','Customer Key'], axis=1, inplace=True) #keep only useful features"
   ]
  },
  {
   "cell_type": "code",
   "execution_count": 6,
   "metadata": {},
   "outputs": [
    {
     "data": {
      "text/html": [
       "<div>\n",
       "<style scoped>\n",
       "    .dataframe tbody tr th:only-of-type {\n",
       "        vertical-align: middle;\n",
       "    }\n",
       "\n",
       "    .dataframe tbody tr th {\n",
       "        vertical-align: top;\n",
       "    }\n",
       "\n",
       "    .dataframe thead th {\n",
       "        text-align: right;\n",
       "    }\n",
       "</style>\n",
       "<table border=\"1\" class=\"dataframe\">\n",
       "  <thead>\n",
       "    <tr style=\"text-align: right;\">\n",
       "      <th></th>\n",
       "      <th>count</th>\n",
       "      <th>mean</th>\n",
       "      <th>std</th>\n",
       "      <th>min</th>\n",
       "      <th>25%</th>\n",
       "      <th>50%</th>\n",
       "      <th>75%</th>\n",
       "      <th>max</th>\n",
       "    </tr>\n",
       "  </thead>\n",
       "  <tbody>\n",
       "    <tr>\n",
       "      <th>Avg_Credit_Limit</th>\n",
       "      <td>660.0</td>\n",
       "      <td>34574.242424</td>\n",
       "      <td>37625.487804</td>\n",
       "      <td>3000.0</td>\n",
       "      <td>10000.0</td>\n",
       "      <td>18000.0</td>\n",
       "      <td>48000.0</td>\n",
       "      <td>200000.0</td>\n",
       "    </tr>\n",
       "    <tr>\n",
       "      <th>Total_Credit_Cards</th>\n",
       "      <td>660.0</td>\n",
       "      <td>4.706061</td>\n",
       "      <td>2.167835</td>\n",
       "      <td>1.0</td>\n",
       "      <td>3.0</td>\n",
       "      <td>5.0</td>\n",
       "      <td>6.0</td>\n",
       "      <td>10.0</td>\n",
       "    </tr>\n",
       "    <tr>\n",
       "      <th>Total_visits_bank</th>\n",
       "      <td>660.0</td>\n",
       "      <td>2.403030</td>\n",
       "      <td>1.631813</td>\n",
       "      <td>0.0</td>\n",
       "      <td>1.0</td>\n",
       "      <td>2.0</td>\n",
       "      <td>4.0</td>\n",
       "      <td>5.0</td>\n",
       "    </tr>\n",
       "    <tr>\n",
       "      <th>Total_visits_online</th>\n",
       "      <td>660.0</td>\n",
       "      <td>2.606061</td>\n",
       "      <td>2.935724</td>\n",
       "      <td>0.0</td>\n",
       "      <td>1.0</td>\n",
       "      <td>2.0</td>\n",
       "      <td>4.0</td>\n",
       "      <td>15.0</td>\n",
       "    </tr>\n",
       "    <tr>\n",
       "      <th>Total_calls_made</th>\n",
       "      <td>660.0</td>\n",
       "      <td>3.583333</td>\n",
       "      <td>2.865317</td>\n",
       "      <td>0.0</td>\n",
       "      <td>1.0</td>\n",
       "      <td>3.0</td>\n",
       "      <td>5.0</td>\n",
       "      <td>10.0</td>\n",
       "    </tr>\n",
       "  </tbody>\n",
       "</table>\n",
       "</div>"
      ],
      "text/plain": [
       "                     count          mean           std     min      25%  \\\n",
       "Avg_Credit_Limit     660.0  34574.242424  37625.487804  3000.0  10000.0   \n",
       "Total_Credit_Cards   660.0      4.706061      2.167835     1.0      3.0   \n",
       "Total_visits_bank    660.0      2.403030      1.631813     0.0      1.0   \n",
       "Total_visits_online  660.0      2.606061      2.935724     0.0      1.0   \n",
       "Total_calls_made     660.0      3.583333      2.865317     0.0      1.0   \n",
       "\n",
       "                         50%      75%       max  \n",
       "Avg_Credit_Limit     18000.0  48000.0  200000.0  \n",
       "Total_Credit_Cards       5.0      6.0      10.0  \n",
       "Total_visits_bank        2.0      4.0       5.0  \n",
       "Total_visits_online      2.0      4.0      15.0  \n",
       "Total_calls_made         3.0      5.0      10.0  "
      ]
     },
     "execution_count": 6,
     "metadata": {},
     "output_type": "execute_result"
    }
   ],
   "source": [
    "df.astype('float64')\n",
    "df.describe().T"
   ]
  },
  {
   "cell_type": "markdown",
   "metadata": {},
   "source": [
    "**Avg Credit Limit** is understandably a key feature and high values are not treated as outliers."
   ]
  },
  {
   "cell_type": "markdown",
   "metadata": {},
   "source": [
    "## Feature Selection and Engineering"
   ]
  },
  {
   "cell_type": "code",
   "execution_count": 7,
   "metadata": {},
   "outputs": [
    {
     "data": {
      "text/plain": [
       "<AxesSubplot:>"
      ]
     },
     "execution_count": 7,
     "metadata": {},
     "output_type": "execute_result"
    },
    {
     "data": {
      "image/png": "[encoded data removed]",
      "text/plain": [
       "<Figure size 432x288 with 2 Axes>"
      ]
     },
     "metadata": {
      "needs_background": "light"
     },
     "output_type": "display_data"
    }
   ],
   "source": [
    "sns.heatmap(df.corr(), annot=True, cmap='Blues')"
   ]
  },
  {
   "cell_type": "markdown",
   "metadata": {},
   "source": [
    "Some features are moderately correlated, customers who visit bank more often have less chance in making calls or online visits.  Customers who have more credit cards also tend to have higher average credit limits."
   ]
  },
  {
   "cell_type": "markdown",
   "metadata": {},
   "source": [
    "<h2> Model Training </h2>"
   ]
  },
  {
   "cell_type": "markdown",
   "metadata": {},
   "source": [
    "Three models are selected to fit the data to serve different purposes.\n",
    "1. **KMeans**\n",
    "2. **Hierarchal Agglomerative Clustering (HAC)**\n",
    "3. **DBSCAN**\n",
    "\n",
    "DBSCAN is particularly used to find outliers in the dataset."
   ]
  },
  {
   "cell_type": "code",
   "execution_count": 8,
   "metadata": {},
   "outputs": [],
   "source": [
    "from sklearn.preprocessing import MinMaxScaler\n",
    "from sklearn.cluster import KMeans, AgglomerativeClustering as HAC, DBSCAN\n",
    "from sklearn.metrics import silhouette_score"
   ]
  },
  {
   "cell_type": "markdown",
   "metadata": {},
   "source": [
    "First perform **MinMax scaling** to ensure all features share the same scale for calculating the distance."
   ]
  },
  {
   "cell_type": "code",
   "execution_count": 9,
   "metadata": {},
   "outputs": [],
   "source": [
    "mm = MinMaxScaler()\n",
    "df_mm = mm.fit_transform(df)"
   ]
  },
  {
   "cell_type": "markdown",
   "metadata": {},
   "source": [
    "### KMeans"
   ]
  },
  {
   "cell_type": "markdown",
   "metadata": {},
   "source": [
    "A guess value of **k** could be determined by the **inertia and silhouette_score**."
   ]
  },
  {
   "cell_type": "code",
   "execution_count": 10,
   "metadata": {},
   "outputs": [],
   "source": [
    "def kmfit(X):\n",
    "    k_range = np.arange(2,11)\n",
    "    inertia = []\n",
    "    sil_score = []\n",
    "\n",
    "    for k in k_range:\n",
    "        km = KMeans(n_clusters=k)\n",
    "        km.fit(X)\n",
    "        inertia.append(km.inertia_)\n",
    "        sil_score.append(silhouette_score(X, km.labels_))\n",
    "        \n",
    "    return inertia, sil_score"
   ]
  },
  {
   "cell_type": "code",
   "execution_count": 11,
   "metadata": {},
   "outputs": [],
   "source": [
    "inertia = []\n",
    "sil_score = []\n",
    "for k in range(2,11): #2 to 11 clusters\n",
    "    km = KMeans(n_clusters=k)\n",
    "    km.fit(df_mm)\n",
    "    \n",
    "    inertia.append(km.inertia_)\n",
    "    sil_score.append(silhouette_score(df_mm, km.labels_))"
   ]
  },
  {
   "cell_type": "code",
   "execution_count": 12,
   "metadata": {},
   "outputs": [
    {
     "data": {
      "image/png": "[encoded data removed]",
      "text/plain": [
       "<Figure size 648x432 with 2 Axes>"
      ]
     },
     "metadata": {
      "needs_background": "light"
     },
     "output_type": "display_data"
    }
   ],
   "source": [
    "fig, ax = plt.subplots(figsize=(9,6))\n",
    "\n",
    "ax2 = ax.twinx()\n",
    "\n",
    "sns.lineplot(x=range(2,11), y=inertia, ax=ax, ls='-', marker='o', label='inertia')\n",
    "sns.lineplot(x=range(2,11), y=sil_score, ax=ax2, ls='--', marker='s', color='red', label='score')\n",
    "ax.set_xlabel('k')\n",
    "ax.set_ylabel('inertia')\n",
    "ax2.set_ylabel('silhouette score')\n",
    "\n",
    "lines, labels = ax.get_legend_handles_labels()\n",
    "lines2, labels2 = ax2.get_legend_handles_labels()\n",
    "ax2.get_legend().remove()\n",
    "ax.legend(lines + lines2, labels + labels2, loc=0)\n",
    "\n",
    "fig.show()"
   ]
  },
  {
   "cell_type": "markdown",
   "metadata": {},
   "source": [
    "The above suggest **k = 3** is a fairly reasonable number of clusters."
   ]
  },
  {
   "cell_type": "code",
   "execution_count": 14,
   "metadata": {},
   "outputs": [
    {
     "data": {
      "text/plain": [
       "0    385\n",
       "1    225\n",
       "2     50\n",
       "Name: kmeans, dtype: int64"
      ]
     },
     "execution_count": 14,
     "metadata": {},
     "output_type": "execute_result"
    }
   ],
   "source": [
    "km = KMeans(n_clusters=3)\n",
    "km.fit(df_mm)\n",
    "df['kmeans'] = km.labels_\n",
    "    \n",
    "df['kmeans'].value_counts()"
   ]
  },
  {
   "cell_type": "markdown",
   "metadata": {},
   "source": [
    "### HAC"
   ]
  },
  {
   "cell_type": "markdown",
   "metadata": {},
   "source": [
    "HAC also yields similar numbers of data points within clusters."
   ]
  },
  {
   "cell_type": "code",
   "execution_count": 15,
   "metadata": {},
   "outputs": [
    {
     "data": {
      "text/plain": [
       "0    382\n",
       "1    228\n",
       "2     50\n",
       "Name: HAC, dtype: int64"
      ]
     },
     "execution_count": 15,
     "metadata": {},
     "output_type": "execute_result"
    }
   ],
   "source": [
    "hac = HAC(n_clusters=3, linkage='ward', compute_full_tree=True)\n",
    "hac.fit(df_mm)\n",
    "df['HAC'] = hac.labels_\n",
    "\n",
    "df['HAC'].value_counts()"
   ]
  },
  {
   "cell_type": "markdown",
   "metadata": {},
   "source": [
    "### DBSCAN"
   ]
  },
  {
   "cell_type": "code",
   "execution_count": 16,
   "metadata": {},
   "outputs": [],
   "source": [
    "def dbscaneps(X, eps_0=0, delta=0.05):\n",
    "    nlabels = [] \n",
    "    for i in range(1,101): #default 0 to 50\n",
    "        db = DBSCAN(eps=eps_0 + i*delta, min_samples=5)\n",
    "        db.fit(X)\n",
    "        \n",
    "        lbl, cnt = np.unique(db.labels_, return_counts=True)\n",
    "        \n",
    "        #count outlier numbers, zero if none\n",
    "        cntout = dict(zip(lbl, cnt)).get(-1, 0)\n",
    "        \n",
    "        #report number of outliers or more than one clusters without outliers\n",
    "        if (cntout > 0) | ((cntout == 0) & (len(lbl) > 1)):\n",
    "            \n",
    "            #minus 1 outlier class in the length of labels\n",
    "            nlabels.append((eps_0 + i*delta, len(np.unique(db.labels_))-1, cntout))\n",
    "            \n",
    "    return nlabels"
   ]
  },
  {
   "cell_type": "code",
   "execution_count": 17,
   "metadata": {},
   "outputs": [],
   "source": [
    "dfdb = dbscaneps(df_mm)"
   ]
  },
  {
   "cell_type": "code",
   "execution_count": 18,
   "metadata": {},
   "outputs": [],
   "source": [
    "z = list(map(list, zip(*dfdb)))"
   ]
  },
  {
   "cell_type": "code",
   "execution_count": 19,
   "metadata": {},
   "outputs": [
    {
     "data": {
      "image/png": "[encoded data removed]",
      "text/plain": [
       "<Figure size 648x360 with 2 Axes>"
      ]
     },
     "metadata": {
      "needs_background": "light"
     },
     "output_type": "display_data"
    }
   ],
   "source": [
    "fig, ax = plt.subplots(figsize=(9,5))\n",
    "\n",
    "ax2 = ax.twinx()\n",
    "\n",
    "sns.scatterplot(x=z[0], y=z[1], ax=ax, label='n_clusters')\n",
    "sns.lineplot(x=z[0], y=z[2], color='grey', alpha=0.7, ls='--', ax=ax2, label='n_outliers')\n",
    "\n",
    "ax.set_xlabel('epsilon')\n",
    "ax.set_ylabel('number of clusters')\n",
    "ax2.set_ylabel('number of outliers')\n",
    "\n",
    "lines, labels = ax.get_legend_handles_labels()\n",
    "lines2, labels2 = ax2.get_legend_handles_labels()\n",
    "ax2.get_legend().remove()\n",
    "ax.legend(lines + lines2, labels + labels2, loc=0)\n",
    "\n",
    "fig.show()"
   ]
  },
  {
   "cell_type": "markdown",
   "metadata": {},
   "source": [
    "Epsilon at 0.15 (6 clusters), 0.2 (3 clusters) and 0.35 (2 clusters) produce fairly low number of outliers. <br>\n",
    "**epsilon = 0.15 or 0.2** produces rather **even-sized clusters**, where epsilon = 0.35 yields clusters of different magnitudes."
   ]
  },
  {
   "cell_type": "code",
   "execution_count": 20,
   "metadata": {},
   "outputs": [
    {
     "name": "stdout",
     "output_type": "stream",
     "text": [
      "0.15 (array([-1,  0,  1,  2,  3,  4,  5], dtype=int64), array([ 68,  77, 154,  76,  95, 100,  90], dtype=int64))\n",
      "0.35 (array([-1,  0,  1], dtype=int64), array([  1, 609,  50], dtype=int64))\n",
      "0.2 (array([-1,  0,  1,  2], dtype=int64), array([ 34, 315, 290,  21], dtype=int64))\n"
     ]
    }
   ],
   "source": [
    "for eps in [0.15, 0.35, 0.2]:\n",
    "    db = DBSCAN(eps=eps, min_samples=5)\n",
    "    db.fit(df_mm)\n",
    "    print(eps, np.unique(db.labels_, return_counts=True))"
   ]
  },
  {
   "cell_type": "markdown",
   "metadata": {},
   "source": [
    "For comparison purpose, epsilon = 0.2 with 3 clusters are adopted."
   ]
  },
  {
   "cell_type": "code",
   "execution_count": 21,
   "metadata": {},
   "outputs": [],
   "source": [
    "df['DBSCAN'] = db.labels_"
   ]
  },
  {
   "cell_type": "markdown",
   "metadata": {},
   "source": [
    "<h3> Model Evaluation </h3>"
   ]
  },
  {
   "cell_type": "markdown",
   "metadata": {},
   "source": [
    "From the above models, it is observed that the data can be grouped into **3 clusters**. <br>\n",
    "The labels for each algorithm are renamed as A/B/C according to the size of the clusters.  Outliers in DBSCAN is renamed as O."
   ]
  },
  {
   "cell_type": "code",
   "execution_count": 22,
   "metadata": {},
   "outputs": [],
   "source": [
    "dfn = df.copy()"
   ]
  },
  {
   "cell_type": "code",
   "execution_count": 23,
   "metadata": {},
   "outputs": [
    {
     "data": {
      "text/plain": [
       "B    385\n",
       "C    225\n",
       "A     50\n",
       "Name: kmeans, dtype: int64"
      ]
     },
     "execution_count": 23,
     "metadata": {},
     "output_type": "execute_result"
    }
   ],
   "source": [
    "dfn['kmeans'].replace({0:'B', 1:'C', 2:'A'}, inplace=True)\n",
    "dfn['kmeans'].value_counts()"
   ]
  },
  {
   "cell_type": "code",
   "execution_count": 24,
   "metadata": {},
   "outputs": [
    {
     "data": {
      "text/plain": [
       "B    382\n",
       "C    228\n",
       "A     50\n",
       "Name: HAC, dtype: int64"
      ]
     },
     "execution_count": 24,
     "metadata": {},
     "output_type": "execute_result"
    }
   ],
   "source": [
    "dfn['HAC'].replace({0:'B', 1:'C', 2:'A'}, inplace=True)\n",
    "dfn['HAC'].value_counts()"
   ]
  },
  {
   "cell_type": "code",
   "execution_count": 25,
   "metadata": {},
   "outputs": [
    {
     "data": {
      "text/plain": [
       "B    315\n",
       "C    290\n",
       "O     34\n",
       "A     21\n",
       "Name: DBSCAN, dtype: int64"
      ]
     },
     "execution_count": 25,
     "metadata": {},
     "output_type": "execute_result"
    }
   ],
   "source": [
    "dfn['DBSCAN'].replace({0:'B', 1:'C', 2:'A',-1:'O'}, inplace=True) \n",
    "dfn['DBSCAN'].value_counts()"
   ]
  },
  {
   "cell_type": "markdown",
   "metadata": {},
   "source": [
    "A compare function is defined to check the agreement between algorithms."
   ]
  },
  {
   "cell_type": "code",
   "execution_count": 26,
   "metadata": {},
   "outputs": [],
   "source": [
    "def compare(algo1, algo2):\n",
    "    print(df.groupby([algo1, algo2])[algo2].count())"
   ]
  },
  {
   "cell_type": "markdown",
   "metadata": {},
   "source": [
    "The labels for KMeans and HAC agree to a large extent."
   ]
  },
  {
   "cell_type": "code",
   "execution_count": 27,
   "metadata": {},
   "outputs": [
    {
     "name": "stdout",
     "output_type": "stream",
     "text": [
      "kmeans  HAC\n",
      "0       0      382\n",
      "        1        3\n",
      "1       1      225\n",
      "2       2       50\n",
      "Name: HAC, dtype: int64\n"
     ]
    }
   ],
   "source": [
    "compare('kmeans','HAC')"
   ]
  },
  {
   "cell_type": "markdown",
   "metadata": {},
   "source": [
    "The labels for HAC and DBSCAN switched."
   ]
  },
  {
   "cell_type": "code",
   "execution_count": 28,
   "metadata": {},
   "outputs": [
    {
     "name": "stdout",
     "output_type": "stream",
     "text": [
      "HAC  DBSCAN\n",
      "0    -1          2\n",
      "      0         90\n",
      "      1        290\n",
      "1    -1          3\n",
      "      0        225\n",
      "2    -1         29\n",
      "      2         21\n",
      "Name: DBSCAN, dtype: int64\n"
     ]
    }
   ],
   "source": [
    "compare('HAC','DBSCAN')"
   ]
  },
  {
   "cell_type": "markdown",
   "metadata": {},
   "source": [
    "A heatmap is to illustrate the comparison.  First further switch labels A and B in DBSCAN."
   ]
  },
  {
   "cell_type": "code",
   "execution_count": 29,
   "metadata": {},
   "outputs": [],
   "source": [
    "dfn['DBSCAN'].replace({'C':'B', 'B':'C'}, inplace=True) "
   ]
  },
  {
   "cell_type": "code",
   "execution_count": 30,
   "metadata": {},
   "outputs": [],
   "source": [
    "from sklearn.metrics import confusion_matrix"
   ]
  },
  {
   "cell_type": "code",
   "execution_count": 31,
   "metadata": {},
   "outputs": [],
   "source": [
    "cm1 = confusion_matrix(dfn['kmeans'],dfn['HAC'])\n",
    "cm2 = confusion_matrix(dfn['kmeans'],dfn['DBSCAN'])\n",
    "cm3 = confusion_matrix(dfn['HAC'],dfn['DBSCAN'])"
   ]
  },
  {
   "cell_type": "code",
   "execution_count": 32,
   "metadata": {},
   "outputs": [
    {
     "data": {
      "image/png": "[encoded data removed]",
      "text/plain": [
       "<Figure size 1152x288 with 6 Axes>"
      ]
     },
     "metadata": {
      "needs_background": "light"
     },
     "output_type": "display_data"
    }
   ],
   "source": [
    "lbl1 = ['A', 'B', 'C']\n",
    "lbl2 = ['A', 'B', 'C','O']\n",
    "\n",
    "fig, ax = plt.subplots(1,3,figsize=(16,4))\n",
    "\n",
    "sns.heatmap(cm1, annot=True, fmt='g', xticklabels=lbl1, yticklabels=lbl1, ax=ax[0], cmap='Blues')\n",
    "sns.heatmap(cm2, annot=True, fmt='g', xticklabels=lbl2, yticklabels=lbl1, ax=ax[1], cmap='Blues')\n",
    "sns.heatmap(cm3, annot=True, fmt='g', xticklabels=lbl2, yticklabels=lbl1, ax=ax[2], cmap='Blues')\n",
    "\n",
    "ax[0].set_xlabel('HAC')\n",
    "ax[0].set_ylabel('kmeans')\n",
    "ax[1].set_xlabel('DBSCAN')\n",
    "ax[1].set_ylabel('kmeans')\n",
    "ax[2].set_xlabel('DBSCAN')\n",
    "ax[2].set_ylabel('HAC')\n",
    "\n",
    "fig.show()"
   ]
  },
  {
   "cell_type": "markdown",
   "metadata": {},
   "source": [
    "It can be further seen that the 3 culsters A/B/C have rather **distinct mean value of features**. The **3 algorithms** have **converging results**."
   ]
  },
  {
   "cell_type": "code",
   "execution_count": 33,
   "metadata": {
    "scrolled": true
   },
   "outputs": [
    {
     "data": {
      "text/html": [
       "<div>\n",
       "<style scoped>\n",
       "    .dataframe tbody tr th:only-of-type {\n",
       "        vertical-align: middle;\n",
       "    }\n",
       "\n",
       "    .dataframe tbody tr th {\n",
       "        vertical-align: top;\n",
       "    }\n",
       "\n",
       "    .dataframe thead th {\n",
       "        text-align: right;\n",
       "    }\n",
       "</style>\n",
       "<table border=\"1\" class=\"dataframe\">\n",
       "  <thead>\n",
       "    <tr style=\"text-align: right;\">\n",
       "      <th></th>\n",
       "      <th>Avg_Credit_Limit</th>\n",
       "      <th>Total_Credit_Cards</th>\n",
       "      <th>Total_visits_bank</th>\n",
       "      <th>Total_visits_online</th>\n",
       "      <th>Total_calls_made</th>\n",
       "      <th>count</th>\n",
       "    </tr>\n",
       "    <tr>\n",
       "      <th>kmeans</th>\n",
       "      <th></th>\n",
       "      <th></th>\n",
       "      <th></th>\n",
       "      <th></th>\n",
       "      <th></th>\n",
       "      <th></th>\n",
       "    </tr>\n",
       "  </thead>\n",
       "  <tbody>\n",
       "    <tr>\n",
       "      <th>A</th>\n",
       "      <td>141040.000000</td>\n",
       "      <td>8.740000</td>\n",
       "      <td>0.600000</td>\n",
       "      <td>10.900000</td>\n",
       "      <td>1.080000</td>\n",
       "      <td>50</td>\n",
       "    </tr>\n",
       "    <tr>\n",
       "      <th>B</th>\n",
       "      <td>33792.207792</td>\n",
       "      <td>5.516883</td>\n",
       "      <td>3.496104</td>\n",
       "      <td>0.981818</td>\n",
       "      <td>1.994805</td>\n",
       "      <td>385</td>\n",
       "    </tr>\n",
       "    <tr>\n",
       "      <th>C</th>\n",
       "      <td>12253.333333</td>\n",
       "      <td>2.422222</td>\n",
       "      <td>0.933333</td>\n",
       "      <td>3.542222</td>\n",
       "      <td>6.857778</td>\n",
       "      <td>225</td>\n",
       "    </tr>\n",
       "  </tbody>\n",
       "</table>\n",
       "</div>"
      ],
      "text/plain": [
       "        Avg_Credit_Limit  Total_Credit_Cards  Total_visits_bank  \\\n",
       "kmeans                                                            \n",
       "A          141040.000000            8.740000           0.600000   \n",
       "B           33792.207792            5.516883           3.496104   \n",
       "C           12253.333333            2.422222           0.933333   \n",
       "\n",
       "        Total_visits_online  Total_calls_made  count  \n",
       "kmeans                                                \n",
       "A                 10.900000          1.080000     50  \n",
       "B                  0.981818          1.994805    385  \n",
       "C                  3.542222          6.857778    225  "
      ]
     },
     "execution_count": 33,
     "metadata": {},
     "output_type": "execute_result"
    }
   ],
   "source": [
    "pd.concat([dfn.groupby(['kmeans']).mean(), \n",
    "           dfn.groupby(['kmeans'])['kmeans'].count()], axis=1).rename(columns={'kmeans':'count'})"
   ]
  },
  {
   "cell_type": "code",
   "execution_count": 34,
   "metadata": {},
   "outputs": [
    {
     "data": {
      "text/html": [
       "<div>\n",
       "<style scoped>\n",
       "    .dataframe tbody tr th:only-of-type {\n",
       "        vertical-align: middle;\n",
       "    }\n",
       "\n",
       "    .dataframe tbody tr th {\n",
       "        vertical-align: top;\n",
       "    }\n",
       "\n",
       "    .dataframe thead th {\n",
       "        text-align: right;\n",
       "    }\n",
       "</style>\n",
       "<table border=\"1\" class=\"dataframe\">\n",
       "  <thead>\n",
       "    <tr style=\"text-align: right;\">\n",
       "      <th></th>\n",
       "      <th>Avg_Credit_Limit</th>\n",
       "      <th>Total_Credit_Cards</th>\n",
       "      <th>Total_visits_bank</th>\n",
       "      <th>Total_visits_online</th>\n",
       "      <th>Total_calls_made</th>\n",
       "      <th>count</th>\n",
       "    </tr>\n",
       "    <tr>\n",
       "      <th>HAC</th>\n",
       "      <th></th>\n",
       "      <th></th>\n",
       "      <th></th>\n",
       "      <th></th>\n",
       "      <th></th>\n",
       "      <th></th>\n",
       "    </tr>\n",
       "  </thead>\n",
       "  <tbody>\n",
       "    <tr>\n",
       "      <th>A</th>\n",
       "      <td>141040.000000</td>\n",
       "      <td>8.740000</td>\n",
       "      <td>0.600000</td>\n",
       "      <td>10.900000</td>\n",
       "      <td>1.080000</td>\n",
       "      <td>50</td>\n",
       "    </tr>\n",
       "    <tr>\n",
       "      <th>B</th>\n",
       "      <td>33960.732984</td>\n",
       "      <td>5.523560</td>\n",
       "      <td>3.507853</td>\n",
       "      <td>0.984293</td>\n",
       "      <td>1.979058</td>\n",
       "      <td>382</td>\n",
       "    </tr>\n",
       "    <tr>\n",
       "      <th>C</th>\n",
       "      <td>12254.385965</td>\n",
       "      <td>2.451754</td>\n",
       "      <td>0.947368</td>\n",
       "      <td>3.504386</td>\n",
       "      <td>6.820175</td>\n",
       "      <td>228</td>\n",
       "    </tr>\n",
       "  </tbody>\n",
       "</table>\n",
       "</div>"
      ],
      "text/plain": [
       "     Avg_Credit_Limit  Total_Credit_Cards  Total_visits_bank  \\\n",
       "HAC                                                            \n",
       "A       141040.000000            8.740000           0.600000   \n",
       "B        33960.732984            5.523560           3.507853   \n",
       "C        12254.385965            2.451754           0.947368   \n",
       "\n",
       "     Total_visits_online  Total_calls_made  count  \n",
       "HAC                                                \n",
       "A              10.900000          1.080000     50  \n",
       "B               0.984293          1.979058    382  \n",
       "C               3.504386          6.820175    228  "
      ]
     },
     "execution_count": 34,
     "metadata": {},
     "output_type": "execute_result"
    }
   ],
   "source": [
    "pd.concat([dfn.groupby(['HAC']).mean(), \n",
    "           dfn.groupby(['HAC'])['HAC'].count()], axis=1).rename(columns={'HAC':'count'})"
   ]
  },
  {
   "cell_type": "code",
   "execution_count": 35,
   "metadata": {
    "scrolled": true
   },
   "outputs": [
    {
     "data": {
      "text/html": [
       "<div>\n",
       "<style scoped>\n",
       "    .dataframe tbody tr th:only-of-type {\n",
       "        vertical-align: middle;\n",
       "    }\n",
       "\n",
       "    .dataframe tbody tr th {\n",
       "        vertical-align: top;\n",
       "    }\n",
       "\n",
       "    .dataframe thead th {\n",
       "        text-align: right;\n",
       "    }\n",
       "</style>\n",
       "<table border=\"1\" class=\"dataframe\">\n",
       "  <thead>\n",
       "    <tr style=\"text-align: right;\">\n",
       "      <th></th>\n",
       "      <th>Avg_Credit_Limit</th>\n",
       "      <th>Total_Credit_Cards</th>\n",
       "      <th>Total_visits_bank</th>\n",
       "      <th>Total_visits_online</th>\n",
       "      <th>Total_calls_made</th>\n",
       "      <th>count</th>\n",
       "    </tr>\n",
       "    <tr>\n",
       "      <th>DBSCAN</th>\n",
       "      <th></th>\n",
       "      <th></th>\n",
       "      <th></th>\n",
       "      <th></th>\n",
       "      <th></th>\n",
       "      <th></th>\n",
       "    </tr>\n",
       "  </thead>\n",
       "  <tbody>\n",
       "    <tr>\n",
       "      <th>A</th>\n",
       "      <td>147571.428571</td>\n",
       "      <td>9.095238</td>\n",
       "      <td>1.000000</td>\n",
       "      <td>10.190476</td>\n",
       "      <td>1.095238</td>\n",
       "      <td>21</td>\n",
       "    </tr>\n",
       "    <tr>\n",
       "      <th>B</th>\n",
       "      <td>32631.034483</td>\n",
       "      <td>5.513793</td>\n",
       "      <td>3.993103</td>\n",
       "      <td>1.017241</td>\n",
       "      <td>1.965517</td>\n",
       "      <td>290</td>\n",
       "    </tr>\n",
       "    <tr>\n",
       "      <th>C</th>\n",
       "      <td>19314.285714</td>\n",
       "      <td>3.342857</td>\n",
       "      <td>1.257143</td>\n",
       "      <td>2.739683</td>\n",
       "      <td>5.476190</td>\n",
       "      <td>315</td>\n",
       "    </tr>\n",
       "    <tr>\n",
       "      <th>O</th>\n",
       "      <td>122735.294118</td>\n",
       "      <td>7.735294</td>\n",
       "      <td>0.323529</td>\n",
       "      <td>10.235294</td>\n",
       "      <td>1.382353</td>\n",
       "      <td>34</td>\n",
       "    </tr>\n",
       "  </tbody>\n",
       "</table>\n",
       "</div>"
      ],
      "text/plain": [
       "        Avg_Credit_Limit  Total_Credit_Cards  Total_visits_bank  \\\n",
       "DBSCAN                                                            \n",
       "A          147571.428571            9.095238           1.000000   \n",
       "B           32631.034483            5.513793           3.993103   \n",
       "C           19314.285714            3.342857           1.257143   \n",
       "O          122735.294118            7.735294           0.323529   \n",
       "\n",
       "        Total_visits_online  Total_calls_made  count  \n",
       "DBSCAN                                                \n",
       "A                 10.190476          1.095238     21  \n",
       "B                  1.017241          1.965517    290  \n",
       "C                  2.739683          5.476190    315  \n",
       "O                 10.235294          1.382353     34  "
      ]
     },
     "execution_count": 35,
     "metadata": {},
     "output_type": "execute_result"
    }
   ],
   "source": [
    "pd.concat([dfn.groupby(['DBSCAN']).mean(), \n",
    "           dfn.groupby(['DBSCAN'])['DBSCAN'].count()], axis=1).rename(columns={'DBSCAN':'count'})"
   ]
  },
  {
   "cell_type": "markdown",
   "metadata": {},
   "source": [
    "The **3 groups** are, on average:\n",
    "\n",
    "- A: small population high average credit limit (>\\\\$141,000), have more credit cards (8-9), more likely to make online visits\n",
    "- B: middle population, mid average credit limit (\\\\$32,000 to \\\\$34,000), have some credit cards (5-6), more likely to visit banks\n",
    "- C: middle population, low average credit limit (\\\\$12,000 to \\\\$20,000), have fewer credit cards (2-3), more likely to make calls"
   ]
  },
  {
   "cell_type": "markdown",
   "metadata": {},
   "source": [
    "The outlier group found by DBSCAN resembles Group A, but have less average credit limit."
   ]
  },
  {
   "cell_type": "markdown",
   "metadata": {},
   "source": [
    "<h2> Summary </h2>"
   ]
  },
  {
   "cell_type": "markdown",
   "metadata": {},
   "source": [
    "From the above analysis, 5 features of average credit limit, total number of credit cards, bank visits, online visits and calls made were used.  **KMeans, Hierarchal Agglomerative Clustering (HAC)**, and **DBSCAN** suggest segmenting the customers into **3 clusters**.\n",
    "\n",
    "In respect of DBSCAN, with minimum number of sample of 5, the epsilon is reasonably set at 0.2 to obtain even-sized clusters.\n",
    "\n",
    "The 3 **algorithms** generally **coverge** in segmenting the customers into the following 3 groups:  \n",
    "\n",
    "- A: small population high average credit limit (>\\\\$141,000), have more credit cards (8-9), more likely to make online visits\n",
    "- B: middle population, mid average credit limit (\\\\$32,000 to \\\\$34,000), have some credit cards (5-6), more likely to visit banks\n",
    "- C: middle population, low average credit limit (\\\\$12,000 to \\\\$20,000), have fewer credit cards (2-3), more likely to make calls\n",
    "\n",
    "The outlier group found by DBSCAN resembles Group A, but have less average credit limit."
   ]
  },
  {
   "cell_type": "markdown",
   "metadata": {},
   "source": [
    "### Possible Improvements\n",
    "The authenticity of original dataset may be improved by **clarification of further suspected outliers**. <br>\n",
    "**More features and observations** may be brough to the dataset for deeper analysis. <br>\n",
    "A **finer scale of hyperparameters** may be deployed to refine the DBSCAN models."
   ]
  }
 ],
 "metadata": {
  "kernelspec": {
   "display_name": "Python 3 (ipykernel)",
   "language": "python",
   "name": "python3"
  },
  "language_info": {
   "codemirror_mode": {
    "name": "ipython",
    "version": 3
   },
   "file_extension": ".py",
   "mimetype": "text/x-python",
   "name": "python",
   "nbconvert_exporter": "python",
   "pygments_lexer": "ipython3",
   "version": "3.9.12"
  }
 },
 "nbformat": 4,
 "nbformat_minor": 4
}
