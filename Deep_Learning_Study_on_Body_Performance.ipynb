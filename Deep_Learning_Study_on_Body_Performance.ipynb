{
 "cells": [
  {
   "cell_type": "markdown",
   "metadata": {},
   "source": [
    "## Objective of this notebook\n",
    "To explore a dataset about body performance and deep learning learning models to classify performers. <br>\n",
    "The results would be compared to a reference simple k-Nearest Neighbour classification."
   ]
  },
  {
   "cell_type": "markdown",
   "metadata": {},
   "source": [
    "## Source of dataset\n",
    "From Kaggle: [Body Performance Data](https://www.kaggle.com/datasets/kukuroo3/body-performance-data) <br>\n",
    "Features are body performance measurements. The 4 classes (A,B,C,D) are targets."
   ]
  },
  {
   "cell_type": "markdown",
   "metadata": {},
   "source": [
    "<h2> Exploratory Data Analysis </h2>"
   ]
  },
  {
   "cell_type": "code",
   "execution_count": 1,
   "metadata": {},
   "outputs": [],
   "source": [
    "import numpy as np\n",
    "import pandas as pd\n",
    "import matplotlib.pyplot as plt\n",
    "import seaborn as sns\n",
    "import warnings\n",
    "warnings.filterwarnings('ignore')"
   ]
  },
  {
   "cell_type": "markdown",
   "metadata": {},
   "source": [
    "<p> <strong>Basic information</strong> of the dataset</p>"
   ]
  },
  {
   "cell_type": "code",
   "execution_count": 2,
   "metadata": {},
   "outputs": [
    {
     "name": "stdout",
     "output_type": "stream",
     "text": [
      "Dataset shape: (13393, 12)\n",
      "Datatypes: [dtype('float64') dtype('O')]\n",
      "With null values: False\n"
     ]
    }
   ],
   "source": [
    "df = pd.read_csv('bodyperformance.csv')\n",
    "print('Dataset shape:',df.shape)\n",
    "print('Datatypes:', df.dtypes.unique())\n",
    "print('With null values:',df.isnull().values.any())"
   ]
  },
  {
   "cell_type": "code",
   "execution_count": 3,
   "metadata": {},
   "outputs": [
    {
     "data": {
      "text/html": [
       "<div>\n",
       "<style scoped>\n",
       "    .dataframe tbody tr th:only-of-type {\n",
       "        vertical-align: middle;\n",
       "    }\n",
       "\n",
       "    .dataframe tbody tr th {\n",
       "        vertical-align: top;\n",
       "    }\n",
       "\n",
       "    .dataframe thead th {\n",
       "        text-align: right;\n",
       "    }\n",
       "</style>\n",
       "<table border=\"1\" class=\"dataframe\">\n",
       "  <thead>\n",
       "    <tr style=\"text-align: right;\">\n",
       "      <th></th>\n",
       "      <th>age</th>\n",
       "      <th>gender</th>\n",
       "      <th>height_cm</th>\n",
       "      <th>weight_kg</th>\n",
       "      <th>body fat_%</th>\n",
       "      <th>diastolic</th>\n",
       "      <th>systolic</th>\n",
       "      <th>gripForce</th>\n",
       "      <th>sit and bend forward_cm</th>\n",
       "      <th>sit-ups counts</th>\n",
       "      <th>broad jump_cm</th>\n",
       "      <th>class</th>\n",
       "    </tr>\n",
       "  </thead>\n",
       "  <tbody>\n",
       "    <tr>\n",
       "      <th>0</th>\n",
       "      <td>27.0</td>\n",
       "      <td>M</td>\n",
       "      <td>172.3</td>\n",
       "      <td>75.24</td>\n",
       "      <td>21.3</td>\n",
       "      <td>80.0</td>\n",
       "      <td>130.0</td>\n",
       "      <td>54.9</td>\n",
       "      <td>18.4</td>\n",
       "      <td>60.0</td>\n",
       "      <td>217.0</td>\n",
       "      <td>C</td>\n",
       "    </tr>\n",
       "    <tr>\n",
       "      <th>1</th>\n",
       "      <td>25.0</td>\n",
       "      <td>M</td>\n",
       "      <td>165.0</td>\n",
       "      <td>55.80</td>\n",
       "      <td>15.7</td>\n",
       "      <td>77.0</td>\n",
       "      <td>126.0</td>\n",
       "      <td>36.4</td>\n",
       "      <td>16.3</td>\n",
       "      <td>53.0</td>\n",
       "      <td>229.0</td>\n",
       "      <td>A</td>\n",
       "    </tr>\n",
       "    <tr>\n",
       "      <th>2</th>\n",
       "      <td>31.0</td>\n",
       "      <td>M</td>\n",
       "      <td>179.6</td>\n",
       "      <td>78.00</td>\n",
       "      <td>20.1</td>\n",
       "      <td>92.0</td>\n",
       "      <td>152.0</td>\n",
       "      <td>44.8</td>\n",
       "      <td>12.0</td>\n",
       "      <td>49.0</td>\n",
       "      <td>181.0</td>\n",
       "      <td>C</td>\n",
       "    </tr>\n",
       "  </tbody>\n",
       "</table>\n",
       "</div>"
      ],
      "text/plain": [
       "    age gender  height_cm  weight_kg  body fat_%  diastolic  systolic  \\\n",
       "0  27.0      M      172.3      75.24        21.3       80.0     130.0   \n",
       "1  25.0      M      165.0      55.80        15.7       77.0     126.0   \n",
       "2  31.0      M      179.6      78.00        20.1       92.0     152.0   \n",
       "\n",
       "   gripForce  sit and bend forward_cm  sit-ups counts  broad jump_cm class  \n",
       "0       54.9                     18.4            60.0          217.0     C  \n",
       "1       36.4                     16.3            53.0          229.0     A  \n",
       "2       44.8                     12.0            49.0          181.0     C  "
      ]
     },
     "execution_count": 3,
     "metadata": {},
     "output_type": "execute_result"
    }
   ],
   "source": [
    "df.head(3)"
   ]
  },
  {
   "cell_type": "code",
   "execution_count": 4,
   "metadata": {
    "scrolled": false
   },
   "outputs": [
    {
     "name": "stdout",
     "output_type": "stream",
     "text": [
      "<class 'pandas.core.frame.DataFrame'>\n",
      "RangeIndex: 13393 entries, 0 to 13392\n",
      "Data columns (total 12 columns):\n",
      " #   Column                   Non-Null Count  Dtype  \n",
      "---  ------                   --------------  -----  \n",
      " 0   age                      13393 non-null  float64\n",
      " 1   gender                   13393 non-null  object \n",
      " 2   height_cm                13393 non-null  float64\n",
      " 3   weight_kg                13393 non-null  float64\n",
      " 4   body fat_%               13393 non-null  float64\n",
      " 5   diastolic                13393 non-null  float64\n",
      " 6   systolic                 13393 non-null  float64\n",
      " 7   gripForce                13393 non-null  float64\n",
      " 8   sit and bend forward_cm  13393 non-null  float64\n",
      " 9   sit-ups counts           13393 non-null  float64\n",
      " 10  broad jump_cm            13393 non-null  float64\n",
      " 11  class                    13393 non-null  object \n",
      "dtypes: float64(10), object(2)\n",
      "memory usage: 1.2+ MB\n"
     ]
    }
   ],
   "source": [
    "df.info()"
   ]
  },
  {
   "cell_type": "code",
   "execution_count": 5,
   "metadata": {},
   "outputs": [],
   "source": [
    "df.rename(columns={'sit and bend forward_cm':'sit-bend_cm'}, inplace=True)"
   ]
  },
  {
   "cell_type": "code",
   "execution_count": 6,
   "metadata": {},
   "outputs": [
    {
     "data": {
      "text/plain": [
       "C    3349\n",
       "D    3349\n",
       "A    3348\n",
       "B    3347\n",
       "Name: class, dtype: int64"
      ]
     },
     "execution_count": 6,
     "metadata": {},
     "output_type": "execute_result"
    }
   ],
   "source": [
    "df['class'].value_counts()"
   ]
  },
  {
   "cell_type": "code",
   "execution_count": 7,
   "metadata": {},
   "outputs": [
    {
     "data": {
      "text/html": [
       "<div>\n",
       "<style scoped>\n",
       "    .dataframe tbody tr th:only-of-type {\n",
       "        vertical-align: middle;\n",
       "    }\n",
       "\n",
       "    .dataframe tbody tr th {\n",
       "        vertical-align: top;\n",
       "    }\n",
       "\n",
       "    .dataframe thead th {\n",
       "        text-align: right;\n",
       "    }\n",
       "</style>\n",
       "<table border=\"1\" class=\"dataframe\">\n",
       "  <thead>\n",
       "    <tr style=\"text-align: right;\">\n",
       "      <th></th>\n",
       "      <th>count</th>\n",
       "      <th>mean</th>\n",
       "      <th>std</th>\n",
       "      <th>min</th>\n",
       "      <th>25%</th>\n",
       "      <th>50%</th>\n",
       "      <th>75%</th>\n",
       "      <th>max</th>\n",
       "    </tr>\n",
       "  </thead>\n",
       "  <tbody>\n",
       "    <tr>\n",
       "      <th>age</th>\n",
       "      <td>13393.0</td>\n",
       "      <td>36.775106</td>\n",
       "      <td>13.625639</td>\n",
       "      <td>21.0</td>\n",
       "      <td>25.0</td>\n",
       "      <td>32.0</td>\n",
       "      <td>48.0</td>\n",
       "      <td>64.0</td>\n",
       "    </tr>\n",
       "    <tr>\n",
       "      <th>height_cm</th>\n",
       "      <td>13393.0</td>\n",
       "      <td>168.559807</td>\n",
       "      <td>8.426583</td>\n",
       "      <td>125.0</td>\n",
       "      <td>162.4</td>\n",
       "      <td>169.2</td>\n",
       "      <td>174.8</td>\n",
       "      <td>193.8</td>\n",
       "    </tr>\n",
       "    <tr>\n",
       "      <th>weight_kg</th>\n",
       "      <td>13393.0</td>\n",
       "      <td>67.447316</td>\n",
       "      <td>11.949666</td>\n",
       "      <td>26.3</td>\n",
       "      <td>58.2</td>\n",
       "      <td>67.4</td>\n",
       "      <td>75.3</td>\n",
       "      <td>138.1</td>\n",
       "    </tr>\n",
       "    <tr>\n",
       "      <th>body fat_%</th>\n",
       "      <td>13393.0</td>\n",
       "      <td>23.240165</td>\n",
       "      <td>7.256844</td>\n",
       "      <td>3.0</td>\n",
       "      <td>18.0</td>\n",
       "      <td>22.8</td>\n",
       "      <td>28.0</td>\n",
       "      <td>78.4</td>\n",
       "    </tr>\n",
       "    <tr>\n",
       "      <th>diastolic</th>\n",
       "      <td>13393.0</td>\n",
       "      <td>78.796842</td>\n",
       "      <td>10.742033</td>\n",
       "      <td>0.0</td>\n",
       "      <td>71.0</td>\n",
       "      <td>79.0</td>\n",
       "      <td>86.0</td>\n",
       "      <td>156.2</td>\n",
       "    </tr>\n",
       "    <tr>\n",
       "      <th>systolic</th>\n",
       "      <td>13393.0</td>\n",
       "      <td>130.234817</td>\n",
       "      <td>14.713954</td>\n",
       "      <td>0.0</td>\n",
       "      <td>120.0</td>\n",
       "      <td>130.0</td>\n",
       "      <td>141.0</td>\n",
       "      <td>201.0</td>\n",
       "    </tr>\n",
       "    <tr>\n",
       "      <th>gripForce</th>\n",
       "      <td>13393.0</td>\n",
       "      <td>36.963877</td>\n",
       "      <td>10.624864</td>\n",
       "      <td>0.0</td>\n",
       "      <td>27.5</td>\n",
       "      <td>37.9</td>\n",
       "      <td>45.2</td>\n",
       "      <td>70.5</td>\n",
       "    </tr>\n",
       "    <tr>\n",
       "      <th>sit-bend_cm</th>\n",
       "      <td>13393.0</td>\n",
       "      <td>15.209268</td>\n",
       "      <td>8.456677</td>\n",
       "      <td>-25.0</td>\n",
       "      <td>10.9</td>\n",
       "      <td>16.2</td>\n",
       "      <td>20.7</td>\n",
       "      <td>213.0</td>\n",
       "    </tr>\n",
       "    <tr>\n",
       "      <th>sit-ups counts</th>\n",
       "      <td>13393.0</td>\n",
       "      <td>39.771224</td>\n",
       "      <td>14.276698</td>\n",
       "      <td>0.0</td>\n",
       "      <td>30.0</td>\n",
       "      <td>41.0</td>\n",
       "      <td>50.0</td>\n",
       "      <td>80.0</td>\n",
       "    </tr>\n",
       "    <tr>\n",
       "      <th>broad jump_cm</th>\n",
       "      <td>13393.0</td>\n",
       "      <td>190.129627</td>\n",
       "      <td>39.868000</td>\n",
       "      <td>0.0</td>\n",
       "      <td>162.0</td>\n",
       "      <td>193.0</td>\n",
       "      <td>221.0</td>\n",
       "      <td>303.0</td>\n",
       "    </tr>\n",
       "  </tbody>\n",
       "</table>\n",
       "</div>"
      ],
      "text/plain": [
       "                  count        mean        std    min    25%    50%    75%  \\\n",
       "age             13393.0   36.775106  13.625639   21.0   25.0   32.0   48.0   \n",
       "height_cm       13393.0  168.559807   8.426583  125.0  162.4  169.2  174.8   \n",
       "weight_kg       13393.0   67.447316  11.949666   26.3   58.2   67.4   75.3   \n",
       "body fat_%      13393.0   23.240165   7.256844    3.0   18.0   22.8   28.0   \n",
       "diastolic       13393.0   78.796842  10.742033    0.0   71.0   79.0   86.0   \n",
       "systolic        13393.0  130.234817  14.713954    0.0  120.0  130.0  141.0   \n",
       "gripForce       13393.0   36.963877  10.624864    0.0   27.5   37.9   45.2   \n",
       "sit-bend_cm     13393.0   15.209268   8.456677  -25.0   10.9   16.2   20.7   \n",
       "sit-ups counts  13393.0   39.771224  14.276698    0.0   30.0   41.0   50.0   \n",
       "broad jump_cm   13393.0  190.129627  39.868000    0.0  162.0  193.0  221.0   \n",
       "\n",
       "                  max  \n",
       "age              64.0  \n",
       "height_cm       193.8  \n",
       "weight_kg       138.1  \n",
       "body fat_%       78.4  \n",
       "diastolic       156.2  \n",
       "systolic        201.0  \n",
       "gripForce        70.5  \n",
       "sit-bend_cm     213.0  \n",
       "sit-ups counts   80.0  \n",
       "broad jump_cm   303.0  "
      ]
     },
     "execution_count": 7,
     "metadata": {},
     "output_type": "execute_result"
    }
   ],
   "source": [
    "df.describe().T"
   ]
  },
  {
   "cell_type": "code",
   "execution_count": 8,
   "metadata": {},
   "outputs": [
    {
     "data": {
      "image/png": "[encoded data removed]",
      "text/plain": [
       "<Figure size 432x288 with 1 Axes>"
      ]
     },
     "metadata": {
      "needs_background": "light"
     },
     "output_type": "display_data"
    }
   ],
   "source": [
    "sns.boxplot(data=df.select_dtypes('float64'))\n",
    "plt.tick_params(axis='x', rotation=45)"
   ]
  },
  {
   "cell_type": "markdown",
   "metadata": {},
   "source": [
    "There are **doubtful measurements**.  They are rather incorrect in nautre than just outliers, which the latter could be spotted by some clustering algorithms.<br>\n",
    "- zero or very low diastolic / systolic\n",
    "- extremely large or negative sit-bend\n",
    "\n",
    "It is likely that the extreme sit-bends are typos i.e. 21.3 cm instead of 213 cm (taller than the person)"
   ]
  },
  {
   "cell_type": "code",
   "execution_count": 9,
   "metadata": {},
   "outputs": [
    {
     "data": {
      "text/plain": [
       "10624     0.0\n",
       "3524      6.0\n",
       "336       8.0\n",
       "6786     30.0\n",
       "344      37.0\n",
       "6234     40.0\n",
       "12698    41.0\n",
       "Name: diastolic, dtype: float64"
      ]
     },
     "execution_count": 9,
     "metadata": {},
     "output_type": "execute_result"
    }
   ],
   "source": [
    "df['diastolic'].sort_values()[:7]"
   ]
  },
  {
   "cell_type": "code",
   "execution_count": 10,
   "metadata": {},
   "outputs": [
    {
     "data": {
      "text/plain": [
       "10624     0.0\n",
       "7597     14.0\n",
       "8217     43.9\n",
       "344      77.0\n",
       "7341     82.0\n",
       "9440     84.0\n",
       "4412     86.0\n",
       "Name: systolic, dtype: float64"
      ]
     },
     "execution_count": 10,
     "metadata": {},
     "output_type": "execute_result"
    }
   ],
   "source": [
    "df['systolic'].sort_values()[:7]"
   ]
  },
  {
   "cell_type": "code",
   "execution_count": 11,
   "metadata": {},
   "outputs": [
    {
     "data": {
      "text/html": [
       "<div>\n",
       "<style scoped>\n",
       "    .dataframe tbody tr th:only-of-type {\n",
       "        vertical-align: middle;\n",
       "    }\n",
       "\n",
       "    .dataframe tbody tr th {\n",
       "        vertical-align: top;\n",
       "    }\n",
       "\n",
       "    .dataframe thead th {\n",
       "        text-align: right;\n",
       "    }\n",
       "</style>\n",
       "<table border=\"1\" class=\"dataframe\">\n",
       "  <thead>\n",
       "    <tr style=\"text-align: right;\">\n",
       "      <th></th>\n",
       "      <th>age</th>\n",
       "      <th>gender</th>\n",
       "      <th>height_cm</th>\n",
       "      <th>weight_kg</th>\n",
       "      <th>body fat_%</th>\n",
       "      <th>diastolic</th>\n",
       "      <th>systolic</th>\n",
       "      <th>gripForce</th>\n",
       "      <th>sit-bend_cm</th>\n",
       "      <th>sit-ups counts</th>\n",
       "      <th>broad jump_cm</th>\n",
       "      <th>class</th>\n",
       "    </tr>\n",
       "  </thead>\n",
       "  <tbody>\n",
       "    <tr>\n",
       "      <th>336</th>\n",
       "      <td>35.0</td>\n",
       "      <td>M</td>\n",
       "      <td>173.1</td>\n",
       "      <td>77.60</td>\n",
       "      <td>22.8</td>\n",
       "      <td>8.0</td>\n",
       "      <td>122.0</td>\n",
       "      <td>46.4</td>\n",
       "      <td>16.7</td>\n",
       "      <td>47.0</td>\n",
       "      <td>216.0</td>\n",
       "      <td>B</td>\n",
       "    </tr>\n",
       "    <tr>\n",
       "      <th>2657</th>\n",
       "      <td>33.0</td>\n",
       "      <td>M</td>\n",
       "      <td>165.6</td>\n",
       "      <td>60.40</td>\n",
       "      <td>17.8</td>\n",
       "      <td>81.0</td>\n",
       "      <td>127.0</td>\n",
       "      <td>38.6</td>\n",
       "      <td>213.0</td>\n",
       "      <td>53.0</td>\n",
       "      <td>244.0</td>\n",
       "      <td>B</td>\n",
       "    </tr>\n",
       "    <tr>\n",
       "      <th>3355</th>\n",
       "      <td>45.0</td>\n",
       "      <td>M</td>\n",
       "      <td>164.4</td>\n",
       "      <td>64.40</td>\n",
       "      <td>24.3</td>\n",
       "      <td>96.0</td>\n",
       "      <td>142.0</td>\n",
       "      <td>38.5</td>\n",
       "      <td>185.0</td>\n",
       "      <td>44.0</td>\n",
       "      <td>223.0</td>\n",
       "      <td>A</td>\n",
       "    </tr>\n",
       "    <tr>\n",
       "      <th>3524</th>\n",
       "      <td>44.0</td>\n",
       "      <td>M</td>\n",
       "      <td>177.0</td>\n",
       "      <td>78.28</td>\n",
       "      <td>22.1</td>\n",
       "      <td>6.0</td>\n",
       "      <td>145.0</td>\n",
       "      <td>47.4</td>\n",
       "      <td>10.5</td>\n",
       "      <td>42.0</td>\n",
       "      <td>215.0</td>\n",
       "      <td>B</td>\n",
       "    </tr>\n",
       "    <tr>\n",
       "      <th>7597</th>\n",
       "      <td>30.0</td>\n",
       "      <td>M</td>\n",
       "      <td>166.6</td>\n",
       "      <td>66.08</td>\n",
       "      <td>14.4</td>\n",
       "      <td>67.0</td>\n",
       "      <td>14.0</td>\n",
       "      <td>53.8</td>\n",
       "      <td>17.2</td>\n",
       "      <td>57.0</td>\n",
       "      <td>221.0</td>\n",
       "      <td>A</td>\n",
       "    </tr>\n",
       "    <tr>\n",
       "      <th>8217</th>\n",
       "      <td>31.0</td>\n",
       "      <td>M</td>\n",
       "      <td>176.7</td>\n",
       "      <td>80.32</td>\n",
       "      <td>20.8</td>\n",
       "      <td>46.2</td>\n",
       "      <td>43.9</td>\n",
       "      <td>43.9</td>\n",
       "      <td>17.2</td>\n",
       "      <td>57.0</td>\n",
       "      <td>221.0</td>\n",
       "      <td>B</td>\n",
       "    </tr>\n",
       "    <tr>\n",
       "      <th>10624</th>\n",
       "      <td>26.0</td>\n",
       "      <td>F</td>\n",
       "      <td>160.0</td>\n",
       "      <td>63.56</td>\n",
       "      <td>32.0</td>\n",
       "      <td>0.0</td>\n",
       "      <td>0.0</td>\n",
       "      <td>23.7</td>\n",
       "      <td>17.1</td>\n",
       "      <td>23.0</td>\n",
       "      <td>128.0</td>\n",
       "      <td>D</td>\n",
       "    </tr>\n",
       "  </tbody>\n",
       "</table>\n",
       "</div>"
      ],
      "text/plain": [
       "        age gender  height_cm  weight_kg  body fat_%  diastolic  systolic  \\\n",
       "336    35.0      M      173.1      77.60        22.8        8.0     122.0   \n",
       "2657   33.0      M      165.6      60.40        17.8       81.0     127.0   \n",
       "3355   45.0      M      164.4      64.40        24.3       96.0     142.0   \n",
       "3524   44.0      M      177.0      78.28        22.1        6.0     145.0   \n",
       "7597   30.0      M      166.6      66.08        14.4       67.0      14.0   \n",
       "8217   31.0      M      176.7      80.32        20.8       46.2      43.9   \n",
       "10624  26.0      F      160.0      63.56        32.0        0.0       0.0   \n",
       "\n",
       "       gripForce  sit-bend_cm  sit-ups counts  broad jump_cm class  \n",
       "336         46.4         16.7            47.0          216.0     B  \n",
       "2657        38.6        213.0            53.0          244.0     B  \n",
       "3355        38.5        185.0            44.0          223.0     A  \n",
       "3524        47.4         10.5            42.0          215.0     B  \n",
       "7597        53.8         17.2            57.0          221.0     A  \n",
       "8217        43.9         17.2            57.0          221.0     B  \n",
       "10624       23.7         17.1            23.0          128.0     D  "
      ]
     },
     "execution_count": 11,
     "metadata": {},
     "output_type": "execute_result"
    }
   ],
   "source": [
    "extreme = df[(df['diastolic']<30) | \n",
    "             (df['systolic']<77) | (df['sit-bend_cm'] >= 100)]\n",
    "extreme"
   ]
  },
  {
   "cell_type": "code",
   "execution_count": 12,
   "metadata": {},
   "outputs": [],
   "source": [
    "df = df.drop(extreme.index).reset_index(drop=True)"
   ]
  },
  {
   "cell_type": "markdown",
   "metadata": {},
   "source": [
    "On the other hand, there are 642 rows in the negative sit-bend."
   ]
  },
  {
   "cell_type": "code",
   "execution_count": 13,
   "metadata": {},
   "outputs": [
    {
     "name": "stdout",
     "output_type": "stream",
     "text": [
      "feature / zero / negative\n",
      "sit-bend_cm 12 642\n",
      "gripForce 3 0\n",
      "sit-ups counts 125 0\n",
      "broad jump_cm 10 0\n"
     ]
    }
   ],
   "source": [
    "print('feature / zero / negative')\n",
    "for col in ['sit-bend_cm','gripForce','sit-ups counts','broad jump_cm']:\n",
    "    print(col, df[df[col] == 0].shape[0], df[df[col] < 0].shape[0])"
   ]
  },
  {
   "cell_type": "markdown",
   "metadata": {},
   "source": [
    "The rows of negative sit-bend are dropped since there is no information on how it was measured. "
   ]
  },
  {
   "cell_type": "code",
   "execution_count": 14,
   "metadata": {},
   "outputs": [],
   "source": [
    "#drop negative sit-bend\n",
    "extreme2 = df[df['sit-bend_cm'] < 0]\n",
    "df = df.drop(extreme2.index).reset_index(drop=True)"
   ]
  },
  {
   "cell_type": "code",
   "execution_count": 15,
   "metadata": {},
   "outputs": [],
   "source": [
    "#obtaining the 1.5IQR for a column\n",
    "def iqr(col):\n",
    "    q1 = col.quantile(0.25)\n",
    "    q3 = col.quantile(0.75)\n",
    "    iqr = q3-q1\n",
    "    return q1-1.5*iqr, q3+1.5*iqr"
   ]
  },
  {
   "cell_type": "code",
   "execution_count": 16,
   "metadata": {},
   "outputs": [
    {
     "name": "stdout",
     "output_type": "stream",
     "text": [
      "(12395, 12)\n"
     ]
    },
    {
     "data": {
      "image/png": "[encoded data removed]",
      "text/plain": [
       "<Figure size 1080x432 with 3 Axes>"
      ]
     },
     "metadata": {
      "needs_background": "light"
     },
     "output_type": "display_data"
    }
   ],
   "source": [
    "for col in df.drop(['age','gender','class'], axis=1).columns:\n",
    "    lq, uq = iqr(df[col])\n",
    "    df = df[(df[col] >= lq) & (df[col] <= uq)]\n",
    "print(df.shape)\n",
    "\n",
    "fig, ax = plt.subplots(1,2, figsize=(15,6))\n",
    "p1 = sns.heatmap(df.select_dtypes('float64').corr(), annot=True, fmt='.2f', ax=ax[0], cmap='Blues')\n",
    "p1.set_xticklabels(p1.get_xticklabels(), rotation=45)\n",
    "\n",
    "p2 = sns.boxplot(data=df, ax=ax[1])\n",
    "p2.set_xticklabels(p2.get_xticklabels(), rotation=45)\n",
    "\n",
    "fig.show()"
   ]
  },
  {
   "cell_type": "markdown",
   "metadata": {},
   "source": [
    "## Feature Selection and Engineering"
   ]
  },
  {
   "cell_type": "markdown",
   "metadata": {},
   "source": [
    "Focusing on the performance, **age**, **height**, and **weight** are dropped."
   ]
  },
  {
   "cell_type": "code",
   "execution_count": 17,
   "metadata": {},
   "outputs": [],
   "source": [
    "df = df.drop(['age','height_cm','weight_kg'], axis=1)"
   ]
  },
  {
   "cell_type": "markdown",
   "metadata": {},
   "source": [
    "In respect of **gender**, which is a **categorical feature**, the following analysis roughly suggests that the two genders have different means of performance (such as broad jump) and body measurements (height and weight)."
   ]
  },
  {
   "cell_type": "code",
   "execution_count": 18,
   "metadata": {},
   "outputs": [
    {
     "data": {
      "image/png": "[encoded data removed]",
      "text/plain": [
       "<Figure size 864x720 with 4 Axes>"
      ]
     },
     "metadata": {
      "needs_background": "light"
     },
     "output_type": "display_data"
    }
   ],
   "source": [
    "fig, ax = plt.subplots(2,2,figsize=(12,10),sharey=True,sharex=True)\n",
    "axes = ax.flatten()\n",
    "for idx, cla in enumerate(['A','B','C','D']):\n",
    "    df_class = df[df['class']==cla].groupby('gender').mean() \\\n",
    "                                .unstack() \\\n",
    "                                .reset_index() \\\n",
    "                                .rename(columns={'level_0':'attribute',0:'mean'})\n",
    "    \n",
    "    sns.barplot(x='attribute',y='mean',hue='gender',data=df_class, \n",
    "                ax=axes[idx], palette=['grey','lightblue'], alpha=0.65)    \n",
    "    \n",
    "    axes[idx].tick_params(axis='x', rotation=45)\n",
    "    axes[idx].set_xlabel('Class {}'.format(cla))"
   ]
  },
  {
   "cell_type": "markdown",
   "metadata": {},
   "source": [
    "Female and male also have different proportion of classes and performance."
   ]
  },
  {
   "cell_type": "code",
   "execution_count": 19,
   "metadata": {},
   "outputs": [
    {
     "data": {
      "text/html": [
       "<div>\n",
       "<style scoped>\n",
       "    .dataframe tbody tr th:only-of-type {\n",
       "        vertical-align: middle;\n",
       "    }\n",
       "\n",
       "    .dataframe tbody tr th {\n",
       "        vertical-align: top;\n",
       "    }\n",
       "\n",
       "    .dataframe thead th {\n",
       "        text-align: right;\n",
       "    }\n",
       "</style>\n",
       "<table border=\"1\" class=\"dataframe\">\n",
       "  <thead>\n",
       "    <tr style=\"text-align: right;\">\n",
       "      <th></th>\n",
       "      <th></th>\n",
       "      <th>proportion</th>\n",
       "    </tr>\n",
       "    <tr>\n",
       "      <th>gender</th>\n",
       "      <th>class</th>\n",
       "      <th></th>\n",
       "    </tr>\n",
       "  </thead>\n",
       "  <tbody>\n",
       "    <tr>\n",
       "      <th rowspan=\"4\" valign=\"top\">F</th>\n",
       "      <th>A</th>\n",
       "      <td>0.320837</td>\n",
       "    </tr>\n",
       "    <tr>\n",
       "      <th>B</th>\n",
       "      <td>0.255231</td>\n",
       "    </tr>\n",
       "    <tr>\n",
       "      <th>C</th>\n",
       "      <td>0.239102</td>\n",
       "    </tr>\n",
       "    <tr>\n",
       "      <th>D</th>\n",
       "      <td>0.184830</td>\n",
       "    </tr>\n",
       "    <tr>\n",
       "      <th rowspan=\"4\" valign=\"top\">M</th>\n",
       "      <th>A</th>\n",
       "      <td>0.235942</td>\n",
       "    </tr>\n",
       "    <tr>\n",
       "      <th>B</th>\n",
       "      <td>0.274497</td>\n",
       "    </tr>\n",
       "    <tr>\n",
       "      <th>C</th>\n",
       "      <td>0.284616</td>\n",
       "    </tr>\n",
       "    <tr>\n",
       "      <th>D</th>\n",
       "      <td>0.204944</td>\n",
       "    </tr>\n",
       "  </tbody>\n",
       "</table>\n",
       "</div>"
      ],
      "text/plain": [
       "              proportion\n",
       "gender class            \n",
       "F      A        0.320837\n",
       "       B        0.255231\n",
       "       C        0.239102\n",
       "       D        0.184830\n",
       "M      A        0.235942\n",
       "       B        0.274497\n",
       "       C        0.284616\n",
       "       D        0.204944"
      ]
     },
     "execution_count": 19,
     "metadata": {},
     "output_type": "execute_result"
    }
   ],
   "source": [
    "df.groupby(['gender'])['class'].value_counts(normalize=True) \\\n",
    "    .to_frame().rename(columns={'class':'proportion'}).sort_values(['gender','class'])"
   ]
  },
  {
   "cell_type": "code",
   "execution_count": 20,
   "metadata": {},
   "outputs": [
    {
     "data": {
      "image/png": "[encoded data removed]",
      "text/plain": [
       "<Figure size 432x288 with 2 Axes>"
      ]
     },
     "metadata": {
      "needs_background": "light"
     },
     "output_type": "display_data"
    }
   ],
   "source": [
    "p3 = sns.heatmap(df.corr(), annot=True, fmt='.2f', cmap='Blues')\n",
    "p3.set_xticklabels(p3.get_xticklabels(), rotation=45)\n",
    "fig.show()"
   ]
  },
  {
   "cell_type": "markdown",
   "metadata": {},
   "source": [
    "Some features are quite correlated - diastolic and systolic pressures are understandable, sit-ups and broad jump probably reflect the physical strength. The following analysis uses all the seven features and all genders."
   ]
  },
  {
   "cell_type": "markdown",
   "metadata": {},
   "source": [
    "From here the features and target are obtained."
   ]
  },
  {
   "cell_type": "code",
   "execution_count": 21,
   "metadata": {},
   "outputs": [],
   "source": [
    "x, y = df.drop(['gender','class'], axis=1), df['class'] "
   ]
  },
  {
   "cell_type": "markdown",
   "metadata": {},
   "source": [
    "<h2> Model Training </h2>"
   ]
  },
  {
   "cell_type": "markdown",
   "metadata": {},
   "source": [
    "### Reference Model - KNN"
   ]
  },
  {
   "cell_type": "markdown",
   "metadata": {},
   "source": [
    "A rough KNN model is trained to compare with the DL model"
   ]
  },
  {
   "cell_type": "code",
   "execution_count": 22,
   "metadata": {},
   "outputs": [],
   "source": [
    "from sklearn.preprocessing import MinMaxScaler, StandardScaler\n",
    "from sklearn.neighbors import KNeighborsClassifier as KNN\n",
    "from sklearn.model_selection import train_test_split\n",
    "from sklearn.metrics import confusion_matrix, precision_recall_fscore_support, classification_report, accuracy_score"
   ]
  },
  {
   "cell_type": "markdown",
   "metadata": {},
   "source": [
    "First perform **Standard scaling** to ensure all features share the same scale for calculating the distance."
   ]
  },
  {
   "cell_type": "code",
   "execution_count": 23,
   "metadata": {},
   "outputs": [],
   "source": [
    "x_train, x_test, y_train, y_test = train_test_split(x, y, test_size=0.3, random_state=123)"
   ]
  },
  {
   "cell_type": "code",
   "execution_count": 24,
   "metadata": {},
   "outputs": [],
   "source": [
    "s = StandardScaler()\n",
    "x_train = s.fit_transform(x_train)\n",
    "x_test = s.transform(x_test)"
   ]
  },
  {
   "cell_type": "code",
   "execution_count": 25,
   "metadata": {},
   "outputs": [],
   "source": [
    "knn = KNN(n_neighbors=5)\n",
    "knn.fit(x_train, y_train)\n",
    "y_pred = knn.predict(x_test)"
   ]
  },
  {
   "cell_type": "code",
   "execution_count": 26,
   "metadata": {},
   "outputs": [
    {
     "name": "stdout",
     "output_type": "stream",
     "text": [
      "              precision    recall  f1-score   support\n",
      "\n",
      "           A       0.54      0.75      0.63       984\n",
      "           B       0.41      0.42      0.41      1009\n",
      "           C       0.52      0.45      0.48       990\n",
      "           D       0.76      0.49      0.59       736\n",
      "\n",
      "    accuracy                           0.53      3719\n",
      "   macro avg       0.56      0.53      0.53      3719\n",
      "weighted avg       0.54      0.53      0.53      3719\n",
      "\n"
     ]
    }
   ],
   "source": [
    "print(classification_report(y_test, y_pred))"
   ]
  },
  {
   "cell_type": "markdown",
   "metadata": {},
   "source": [
    "### Neural Network"
   ]
  },
  {
   "cell_type": "markdown",
   "metadata": {},
   "source": [
    "A couple of models are developed gradually with fine-tuning on activation function, optimiser and regularisation. "
   ]
  },
  {
   "cell_type": "code",
   "execution_count": 27,
   "metadata": {},
   "outputs": [],
   "source": [
    "from keras.models import Sequential\n",
    "from keras.layers import Dense, Dropout\n",
    "from keras.optimizers import Adam, SGD, RMSprop"
   ]
  },
  {
   "cell_type": "markdown",
   "metadata": {},
   "source": [
    "#### Pre-processing"
   ]
  },
  {
   "cell_type": "markdown",
   "metadata": {},
   "source": [
    "First map classes A to D into 0-3"
   ]
  },
  {
   "cell_type": "code",
   "execution_count": 28,
   "metadata": {},
   "outputs": [],
   "source": [
    "_, train_labels = np.unique(y_train, return_inverse=True)\n",
    "_, test_labels = np.unique(y_test, return_inverse=True)"
   ]
  },
  {
   "cell_type": "markdown",
   "metadata": {},
   "source": [
    "doublechecking"
   ]
  },
  {
   "cell_type": "code",
   "execution_count": 29,
   "metadata": {},
   "outputs": [
    {
     "data": {
      "text/plain": [
       "(array(['A', 'B', 'C', 'D'], dtype=object),\n",
       " array([2330, 2305, 2329, 1712], dtype=int64))"
      ]
     },
     "execution_count": 29,
     "metadata": {},
     "output_type": "execute_result"
    }
   ],
   "source": [
    "np.unique(y_train,return_counts=True)"
   ]
  },
  {
   "cell_type": "code",
   "execution_count": 30,
   "metadata": {},
   "outputs": [
    {
     "data": {
      "text/plain": [
       "(array([0, 1, 2, 3], dtype=int64),\n",
       " array([2330, 2305, 2329, 1712], dtype=int64))"
      ]
     },
     "execution_count": 30,
     "metadata": {},
     "output_type": "execute_result"
    }
   ],
   "source": [
    "np.unique(train_labels,return_counts=True)"
   ]
  },
  {
   "cell_type": "markdown",
   "metadata": {},
   "source": [
    "#### Model generator\n",
    "To define a model generator with different numbers of hidden layers/nodes, activation functions, and optimisers"
   ]
  },
  {
   "cell_type": "code",
   "execution_count": 31,
   "metadata": {},
   "outputs": [],
   "source": [
    "epochs = 400"
   ]
  },
  {
   "cell_type": "code",
   "execution_count": 32,
   "metadata": {},
   "outputs": [],
   "source": [
    "def genmodel(n_layer, n_node, activation, optimiser, lr=0.0002):\n",
    "    model = Sequential()\n",
    "    \n",
    "    #input layer to match input shape of 7 features\n",
    "    model.add(Dense(n_node, activation=activation, input_shape=(7,)))\n",
    "    \n",
    "    #add n_layer no. of Dense layers\n",
    "    for i in range(n_layer):\n",
    "        model.add(Dense(n_node, activation=activation))\n",
    "        \n",
    "    #output layer for 4 classes\n",
    "    model.add(Dense(4, activation='softmax'))\n",
    "    \n",
    "    model.summary()\n",
    "    \n",
    "    #compile model\n",
    "    model.compile(optimiser(lr=lr), 'sparse_categorical_crossentropy', metrics=['accuracy'])\n",
    "    \n",
    "    return model"
   ]
  },
  {
   "cell_type": "markdown",
   "metadata": {},
   "source": [
    "Also define a run function"
   ]
  },
  {
   "cell_type": "code",
   "execution_count": 33,
   "metadata": {},
   "outputs": [],
   "source": [
    "def run(model):\n",
    "\n",
    "    model_run = model.fit(x_train, train_labels, validation_data = (x_test, test_labels), \n",
    "                          batch_size=32, epochs=epochs, verbose=0)\n",
    "    return model_run"
   ]
  },
  {
   "cell_type": "markdown",
   "metadata": {},
   "source": [
    "#### Model 1 - Two hidden layers with 20 nodes, sigmoid as activation"
   ]
  },
  {
   "cell_type": "code",
   "execution_count": 34,
   "metadata": {},
   "outputs": [
    {
     "name": "stdout",
     "output_type": "stream",
     "text": [
      "Model: \"sequential\"\n",
      "_________________________________________________________________\n",
      " Layer (type)                Output Shape              Param #   \n",
      "=================================================================\n",
      " dense (Dense)               (None, 20)                160       \n",
      "                                                                 \n",
      " dense_1 (Dense)             (None, 20)                420       \n",
      "                                                                 \n",
      " dense_2 (Dense)             (None, 20)                420       \n",
      "                                                                 \n",
      " dense_3 (Dense)             (None, 4)                 84        \n",
      "                                                                 \n",
      "=================================================================\n",
      "Total params: 1,084\n",
      "Trainable params: 1,084\n",
      "Non-trainable params: 0\n",
      "_________________________________________________________________\n"
     ]
    }
   ],
   "source": [
    "model1 = genmodel(2, 20, 'sigmoid', SGD)"
   ]
  },
  {
   "cell_type": "code",
   "execution_count": 35,
   "metadata": {
    "scrolled": true
   },
   "outputs": [],
   "source": [
    "model1_run = run(model1)"
   ]
  },
  {
   "cell_type": "code",
   "execution_count": 36,
   "metadata": {},
   "outputs": [
    {
     "name": "stdout",
     "output_type": "stream",
     "text": [
      "117/117 [==============================] - 0s 896us/step - loss: 1.3733 - accuracy: 0.3934\n",
      "Model1's accurary on testing set: 0.3933853209018707\n"
     ]
    }
   ],
   "source": [
    "print('Model1\\'s accurary on testing set:', model1.evaluate(x_test, test_labels)[1])"
   ]
  },
  {
   "cell_type": "markdown",
   "metadata": {},
   "source": [
    "It is worse than rough KNN model."
   ]
  },
  {
   "cell_type": "markdown",
   "metadata": {},
   "source": [
    "#### Model 2 - Two hidden layers with 20 nodes, ReLU as activation"
   ]
  },
  {
   "cell_type": "code",
   "execution_count": 37,
   "metadata": {},
   "outputs": [
    {
     "name": "stdout",
     "output_type": "stream",
     "text": [
      "Model: \"sequential_1\"\n",
      "_________________________________________________________________\n",
      " Layer (type)                Output Shape              Param #   \n",
      "=================================================================\n",
      " dense_4 (Dense)             (None, 20)                160       \n",
      "                                                                 \n",
      " dense_5 (Dense)             (None, 20)                420       \n",
      "                                                                 \n",
      " dense_6 (Dense)             (None, 20)                420       \n",
      "                                                                 \n",
      " dense_7 (Dense)             (None, 4)                 84        \n",
      "                                                                 \n",
      "=================================================================\n",
      "Total params: 1,084\n",
      "Trainable params: 1,084\n",
      "Non-trainable params: 0\n",
      "_________________________________________________________________\n"
     ]
    }
   ],
   "source": [
    "model2 = genmodel(2, 20, 'relu', SGD)"
   ]
  },
  {
   "cell_type": "code",
   "execution_count": 38,
   "metadata": {},
   "outputs": [],
   "source": [
    "model2_run = run(model2)"
   ]
  },
  {
   "cell_type": "code",
   "execution_count": 39,
   "metadata": {},
   "outputs": [
    {
     "name": "stdout",
     "output_type": "stream",
     "text": [
      "117/117 [==============================] - 0s 884us/step - loss: 1.0052 - accuracy: 0.5440\n",
      "Model2's accurary on testing set: 0.5439634323120117\n"
     ]
    }
   ],
   "source": [
    "print('Model2\\'s accurary on testing set:', model2.evaluate(x_test, test_labels)[1])"
   ]
  },
  {
   "cell_type": "markdown",
   "metadata": {},
   "source": [
    "Activation using ReLU achieves better testing accurarcy than sigmoid."
   ]
  },
  {
   "cell_type": "markdown",
   "metadata": {},
   "source": [
    "#### Model 3 - Two hidden layers with 20 nodes, Adam as optimiser"
   ]
  },
  {
   "cell_type": "code",
   "execution_count": 40,
   "metadata": {},
   "outputs": [
    {
     "name": "stdout",
     "output_type": "stream",
     "text": [
      "Model: \"sequential_2\"\n",
      "_________________________________________________________________\n",
      " Layer (type)                Output Shape              Param #   \n",
      "=================================================================\n",
      " dense_8 (Dense)             (None, 20)                160       \n",
      "                                                                 \n",
      " dense_9 (Dense)             (None, 20)                420       \n",
      "                                                                 \n",
      " dense_10 (Dense)            (None, 20)                420       \n",
      "                                                                 \n",
      " dense_11 (Dense)            (None, 4)                 84        \n",
      "                                                                 \n",
      "=================================================================\n",
      "Total params: 1,084\n",
      "Trainable params: 1,084\n",
      "Non-trainable params: 0\n",
      "_________________________________________________________________\n"
     ]
    }
   ],
   "source": [
    "model3 = genmodel(2, 20, 'relu', Adam)"
   ]
  },
  {
   "cell_type": "code",
   "execution_count": 41,
   "metadata": {},
   "outputs": [],
   "source": [
    "model3_run = run(model3)"
   ]
  },
  {
   "cell_type": "code",
   "execution_count": 42,
   "metadata": {},
   "outputs": [
    {
     "name": "stdout",
     "output_type": "stream",
     "text": [
      "117/117 [==============================] - 0s 968us/step - loss: 0.9029 - accuracy: 0.5924\n",
      "Model3's accurary on testing set: 0.5923635363578796\n"
     ]
    }
   ],
   "source": [
    "print('Model3\\'s accurary on testing set:', model3.evaluate(x_test, test_labels)[1])"
   ]
  },
  {
   "cell_type": "markdown",
   "metadata": {},
   "source": [
    "Adam performs a bit better than SGD."
   ]
  },
  {
   "cell_type": "markdown",
   "metadata": {},
   "source": [
    "#### Model 4 - Two hidden layers with 20 nodes, RMSprop as optimser"
   ]
  },
  {
   "cell_type": "code",
   "execution_count": 43,
   "metadata": {},
   "outputs": [
    {
     "name": "stdout",
     "output_type": "stream",
     "text": [
      "Model: \"sequential_3\"\n",
      "_________________________________________________________________\n",
      " Layer (type)                Output Shape              Param #   \n",
      "=================================================================\n",
      " dense_12 (Dense)            (None, 20)                160       \n",
      "                                                                 \n",
      " dense_13 (Dense)            (None, 20)                420       \n",
      "                                                                 \n",
      " dense_14 (Dense)            (None, 20)                420       \n",
      "                                                                 \n",
      " dense_15 (Dense)            (None, 4)                 84        \n",
      "                                                                 \n",
      "=================================================================\n",
      "Total params: 1,084\n",
      "Trainable params: 1,084\n",
      "Non-trainable params: 0\n",
      "_________________________________________________________________\n"
     ]
    }
   ],
   "source": [
    "model4 = genmodel(2, 20, 'relu', RMSprop)"
   ]
  },
  {
   "cell_type": "code",
   "execution_count": 44,
   "metadata": {},
   "outputs": [],
   "source": [
    "model4_run = run(model4)"
   ]
  },
  {
   "cell_type": "code",
   "execution_count": 45,
   "metadata": {},
   "outputs": [
    {
     "name": "stdout",
     "output_type": "stream",
     "text": [
      "117/117 [==============================] - 0s 921us/step - loss: 0.9192 - accuracy: 0.5856\n",
      "Model4's accurary on testing set: 0.5856413245201111\n"
     ]
    }
   ],
   "source": [
    "print('Model4\\'s accurary on testing set:', model4.evaluate(x_test, test_labels)[1])"
   ]
  },
  {
   "cell_type": "markdown",
   "metadata": {},
   "source": [
    "RMSprop performs very close to Adam, which is also a bit better than SGD."
   ]
  },
  {
   "cell_type": "markdown",
   "metadata": {},
   "source": [
    "#### Model 5 - Two dense layers each followed by a dropout layer"
   ]
  },
  {
   "cell_type": "markdown",
   "metadata": {},
   "source": [
    "Base on model3, a dropout layer is added to each dense layer to see whether the accuracy can be improved."
   ]
  },
  {
   "cell_type": "code",
   "execution_count": 46,
   "metadata": {},
   "outputs": [
    {
     "name": "stdout",
     "output_type": "stream",
     "text": [
      "Model: \"sequential_4\"\n",
      "_________________________________________________________________\n",
      " Layer (type)                Output Shape              Param #   \n",
      "=================================================================\n",
      " dense_16 (Dense)            (None, 20)                160       \n",
      "                                                                 \n",
      " dense_17 (Dense)            (None, 20)                420       \n",
      "                                                                 \n",
      " dropout (Dropout)           (None, 20)                0         \n",
      "                                                                 \n",
      " dense_18 (Dense)            (None, 20)                420       \n",
      "                                                                 \n",
      " dropout_1 (Dropout)         (None, 20)                0         \n",
      "                                                                 \n",
      " dense_19 (Dense)            (None, 4)                 84        \n",
      "                                                                 \n",
      "=================================================================\n",
      "Total params: 1,084\n",
      "Trainable params: 1,084\n",
      "Non-trainable params: 0\n",
      "_________________________________________________________________\n"
     ]
    }
   ],
   "source": [
    "model5 = Sequential()\n",
    "model5.add(Dense(20, activation='relu', input_shape=(7,)))\n",
    "model5.add(Dense(20, activation='relu'))\n",
    "model5.add(Dropout(rate=0.2)) #Dropout layer added\n",
    "model5.add(Dense(20, activation='relu'))\n",
    "model5.add(Dropout(rate=0.2)) #Dropout layer added\n",
    "model5.add(Dense(4, activation='softmax'))\n",
    "    \n",
    "model5.summary()\n",
    "model5.compile(Adam(lr=0.0002), 'sparse_categorical_crossentropy', metrics=['accuracy'])"
   ]
  },
  {
   "cell_type": "code",
   "execution_count": 47,
   "metadata": {},
   "outputs": [],
   "source": [
    "model5_run = run(model5)"
   ]
  },
  {
   "cell_type": "code",
   "execution_count": 48,
   "metadata": {},
   "outputs": [
    {
     "name": "stdout",
     "output_type": "stream",
     "text": [
      "117/117 [==============================] - 0s 913us/step - loss: 0.9058 - accuracy: 0.5951\n",
      "Model5's accurary on testing set: 0.5950524210929871\n"
     ]
    }
   ],
   "source": [
    "print('Model5\\'s accurary on testing set:', model5.evaluate(x_test, test_labels)[1])"
   ]
  },
  {
   "cell_type": "markdown",
   "metadata": {},
   "source": [
    "Regularisation improves the accuracy a bit."
   ]
  },
  {
   "cell_type": "markdown",
   "metadata": {},
   "source": [
    "<h3> Model Evaluation </h3>"
   ]
  },
  {
   "cell_type": "markdown",
   "metadata": {},
   "source": [
    "The validation accuracies of different models are plotted."
   ]
  },
  {
   "cell_type": "code",
   "execution_count": 50,
   "metadata": {},
   "outputs": [
    {
     "data": {
      "text/plain": [
       "<AxesSubplot:>"
      ]
     },
     "execution_count": 50,
     "metadata": {},
     "output_type": "execute_result"
    },
    {
     "data": {
      "image/png": "[encoded data removed]",
      "text/plain": [
       "<Figure size 720x576 with 1 Axes>"
      ]
     },
     "metadata": {
      "needs_background": "light"
     },
     "output_type": "display_data"
    }
   ],
   "source": [
    "fig, ax = plt.subplots(figsize=(10,8))\n",
    "models = [model1_run, model2_run, model3_run, model4_run, model5_run]\n",
    "colors = sns.color_palette()\n",
    "for i, model in enumerate(models):\n",
    "    sns.lineplot(np.linspace(0,epochs,epochs), model.history['val_accuracy'], ls='-', color=colors[i], label='model{}'.format(str(i+1)))\n",
    "    \n",
    "sns.lineplot(np.linspace(0,epochs,epochs), y=0.53, ls=':', color='k', alpha=0.7, label='KNN')"
   ]
  },
  {
   "cell_type": "markdown",
   "metadata": {},
   "source": [
    "Model1 performs much worse than the reference rough KNN because sigmoid is used as activation. It is evidenced by Model2 where ReLU is used keeping other hyperparameters unchanged. Model2 performs better than KNN at when more epochs are run.\n",
    "\n",
    "Model3 and Model4 suggest Adam/RMSprop perform better than SGD (Model1 and Model2).  Using Adam or RMSprop as optimiser only differ a little bit.\n",
    "\n",
    "Regularisation improves a bit in model performance. **Model5** performs the best in this regard.\n",
    "\n",
    "The accuracies seem to plateau at 0.6 or at about 60%. More epochs may not bring much improvement in this regard."
   ]
  },
  {
   "cell_type": "code",
   "execution_count": 51,
   "metadata": {},
   "outputs": [
    {
     "name": "stdout",
     "output_type": "stream",
     "text": [
      "117/117 [==============================] - 0s 756us/step\n"
     ]
    }
   ],
   "source": [
    "y_nn_pred = model5.predict(x_test)"
   ]
  },
  {
   "cell_type": "code",
   "execution_count": 52,
   "metadata": {},
   "outputs": [],
   "source": [
    "d = {0:'A', 1:'B', 2:'C', 3:'D'}\n",
    "y_nn = np.array(list(map(lambda p : d[np.argmax(p)], y_nn_pred)))"
   ]
  },
  {
   "cell_type": "code",
   "execution_count": 53,
   "metadata": {},
   "outputs": [
    {
     "name": "stdout",
     "output_type": "stream",
     "text": [
      "              precision    recall  f1-score   support\n",
      "\n",
      "           A       0.60      0.85      0.70       984\n",
      "           B       0.48      0.42      0.44      1009\n",
      "           C       0.58      0.52      0.55       990\n",
      "           D       0.79      0.61      0.69       736\n",
      "\n",
      "    accuracy                           0.60      3719\n",
      "   macro avg       0.61      0.60      0.60      3719\n",
      "weighted avg       0.60      0.60      0.59      3719\n",
      "\n"
     ]
    }
   ],
   "source": [
    "print(classification_report(y_test, y_nn))"
   ]
  },
  {
   "cell_type": "markdown",
   "metadata": {},
   "source": [
    "<h2> Summary </h2>"
   ]
  },
  {
   "cell_type": "markdown",
   "metadata": {},
   "source": [
    "From the above analysis, the **best model** in prediction is **Model5** of four hidden layers comprising **two dense layers each followed by a dropout layer** as **regularisation**. The model adopts **Adam as optimiser** and **ReLU as activation function**. The model is trained at a learning rate of 0.0002 and on 400 epochs. The accuracy seems to plateau at about 60%. More epochs may not bring much improvement in this regard.\n",
    "\n",
    "The best model could achieve about **60% overall accuracy**, which is **slightly better** than a rough **k-nearest neighbour at 53%**.\n",
    "\n",
    "The best model is good at predicting classes A and D but moderately on classes B and C."
   ]
  },
  {
   "cell_type": "markdown",
   "metadata": {},
   "source": [
    "**Possible Improvements** "
   ]
  },
  {
   "cell_type": "markdown",
   "metadata": {},
   "source": [
    "The authenticity of original dataset may be improved by **clarification of further suspected (and dropped) outliers**.\n",
    "**More layers or regularisation** may be deployed to refine the model.\n",
    "\n",
    "The analysis may be carried out for **different genders**. As in the EDA section, the two genders have **different means of performance in this dataset**."
   ]
  }
 ],
 "metadata": {
  "kernelspec": {
   "display_name": "Python 3 (ipykernel)",
   "language": "python",
   "name": "python3"
  },
  "language_info": {
   "codemirror_mode": {
    "name": "ipython",
    "version": 3
   },
   "file_extension": ".py",
   "mimetype": "text/x-python",
   "name": "python",
   "nbconvert_exporter": "python",
   "pygments_lexer": "ipython3",
   "version": "3.9.12"
  }
 },
 "nbformat": 4,
 "nbformat_minor": 4
}
